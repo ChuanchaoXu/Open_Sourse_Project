{
 "cells": [
  {
   "cell_type": "markdown",
   "metadata": {
    "id": "p-vCh1pU9wO9"
   },
   "source": [
    "# *Load Google Drive*"
   ]
  },
  {
   "cell_type": "code",
   "execution_count": null,
   "metadata": {
    "colab": {
     "base_uri": "https://localhost:8080/"
    },
    "executionInfo": {
     "elapsed": 27666,
     "status": "ok",
     "timestamp": 1621252906787,
     "user": {
      "displayName": "Chuanchao Xu",
      "photoUrl": "",
      "userId": "08016207472332924278"
     },
     "user_tz": -480
    },
    "id": "JdkRrVEN1iI6",
    "outputId": "e59b1eae-ac64-49d1-e3d1-97a32141928c"
   },
   "outputs": [
    {
     "name": "stdout",
     "output_type": "stream",
     "text": [
      "Mounted at /content/drive\n"
     ]
    }
   ],
   "source": [
    "from google.colab import drive\n",
    "drive.mount('/content/drive')"
   ]
  },
  {
   "cell_type": "markdown",
   "metadata": {
    "id": "hv-_aoZKFLIQ"
   },
   "source": [
    "# 预操作"
   ]
  },
  {
   "cell_type": "code",
   "execution_count": null,
   "metadata": {
    "colab": {
     "base_uri": "https://localhost:8080/"
    },
    "executionInfo": {
     "elapsed": 21103,
     "status": "ok",
     "timestamp": 1621253130483,
     "user": {
      "displayName": "Chuanchao Xu",
      "photoUrl": "",
      "userId": "08016207472332924278"
     },
     "user_tz": -480
    },
    "id": "Uv1Tq7cUlShA",
    "outputId": "9ab6604e-d45f-4f03-947d-576144e26186"
   },
   "outputs": [
    {
     "name": "stdout",
     "output_type": "stream",
     "text": [
      "Memory usage of dataframe is 157.93 MB\n",
      "Memory usage after optimization is: 39.67 MB\n",
      "Decreased by 74.9%\n"
     ]
    }
   ],
   "source": [
    "# 导入包\n",
    "import pandas as pd\n",
    "import numpy as np\n",
    "from sklearn.metrics import f1_score, make_scorer\n",
    "from sklearn.model_selection import train_test_split\n",
    "import lightgbm as lgb\n",
    "from lightgbm import LGBMRegressor, LGBMClassifier\n",
    " \n",
    "import os\n",
    "import seaborn as sns\n",
    "import matplotlib.pyplot as plt\n",
    "from sklearn.preprocessing import OneHotEncoder\n",
    " \n",
    " \n",
    "# 数据预处理\n",
    "def reduce_mem_usage(df):\n",
    "    start_mem = df.memory_usage().sum() / 1024**2 \n",
    "    print('Memory usage of dataframe is {:.2f} MB'.format(start_mem))\n",
    "    \n",
    "    for col in df.columns:\n",
    "        col_type = df[col].dtype\n",
    "        \n",
    "        if col_type != object:\n",
    "            c_min = df[col].min()\n",
    "            c_max = df[col].max()\n",
    "            if str(col_type)[:3] == 'int':\n",
    "                if c_min > np.iinfo(np.int8).min and c_max < np.iinfo(np.int8).max:\n",
    "                    df[col] = df[col].astype(np.int8)\n",
    "                elif c_min > np.iinfo(np.int16).min and c_max < np.iinfo(np.int16).max:\n",
    "                    df[col] = df[col].astype(np.int16)\n",
    "                elif c_min > np.iinfo(np.int32).min and c_max < np.iinfo(np.int32).max:\n",
    "                    df[col] = df[col].astype(np.int32)\n",
    "                elif c_min > np.iinfo(np.int64).min and c_max < np.iinfo(np.int64).max:\n",
    "                    df[col] = df[col].astype(np.int64)  \n",
    "            else:\n",
    "                if c_min > np.finfo(np.float16).min and c_max < np.finfo(np.float16).max:\n",
    "                    df[col] = df[col].astype(np.float16)\n",
    "                elif c_min > np.finfo(np.float32).min and c_max < np.finfo(np.float32).max:\n",
    "                    df[col] = df[col].astype(np.float32)\n",
    "                else:\n",
    "                    df[col] = df[col].astype(np.float64)\n",
    "        else:\n",
    "            df[col] = df[col].astype('category')\n",
    " \n",
    "    end_mem = df.memory_usage().sum() / 1024**2 \n",
    "    print('Memory usage after optimization is: {:.2f} MB'.format(end_mem))\n",
    "    print('Decreased by {:.1f}%'.format(100 * (start_mem - end_mem) / start_mem))\n",
    "    \n",
    "    return df\n",
    " \n",
    " \n",
    "# 读取数据\n",
    "data = pd.read_csv('/content/drive/MyDrive/CLF_of_ECG_signals/Data/train.csv')\n",
    "data_features_filtered = pd.read_csv('/content/drive/MyDrive/CLF_of_ECG_signals/Features_Extract/train_features_filtered_MinimalFCParameters.csv')\n",
    "# y_test = pd.read_csv('/content/drive/MyDrive/CLF_of_ECG_signals/Data/testA.csv').values\n",
    " \n",
    "# 原始特征Dataframe\n",
    "data_list = []\n",
    "for item in data.values:\n",
    "  data_list.append([item[0]] + [float(i) for i in item[1].split(',')] + [item[2]])\n",
    "data = pd.DataFrame(np.array(data_list))\n",
    "data.columns = ['id'] + ['s_' + str(i) for i in range(len(data_list[0])-2)] + ['label']\n",
    " \n",
    "data = reduce_mem_usage(data)\n",
    " \n",
    "# 分离数据\n",
    "from sklearn.model_selection import KFold\n",
    "features = data.drop(['id','label'], axis=1)\n",
    "labels = data['label']\n",
    " \n",
    "# 划分X_train, X_val, y_train, y_val\n",
    "from sklearn.model_selection import train_test_split\n",
    "X_train, X_val, y_train, y_val = train_test_split(features, labels)"
   ]
  },
  {
   "cell_type": "markdown",
   "metadata": {
    "id": "3nJUeWa5FTOP"
   },
   "source": [
    "# LSTM"
   ]
  },
  {
   "cell_type": "code",
   "execution_count": null,
   "metadata": {
    "colab": {
     "base_uri": "https://localhost:8080/"
    },
    "executionInfo": {
     "elapsed": 1253,
     "status": "ok",
     "timestamp": 1619747852440,
     "user": {
      "displayName": "Chuanchao Xu",
      "photoUrl": "",
      "userId": "08016207472332924278"
     },
     "user_tz": -480
    },
    "id": "OHlw6GTIXcKz",
    "outputId": "9ae298da-8349-46c5-cd83-f460579606f3"
   },
   "outputs": [
    {
     "name": "stdout",
     "output_type": "stream",
     "text": [
      "<class 'numpy.ndarray'> (75000, 205, 1)\n",
      "<class 'numpy.ndarray'> (25000, 205, 1)\n",
      "<class 'numpy.ndarray'> (75000, 1)\n",
      "<class 'numpy.ndarray'> (25000, 1)\n"
     ]
    }
   ],
   "source": [
    "# 划分X_train, X_val, y_train, y_val\n",
    "from sklearn.model_selection import train_test_split\n",
    "X_train, X_val, y_train, y_val = train_test_split(features, labels)\n",
    "\n",
    "# 导入模型前预处理\n",
    "X_train = X_train.values.reshape(X_train.shape[0],X_train.shape[1],1)\n",
    "X_val = X_val.values.reshape(X_val.shape[0],X_val.shape[1],1)\n",
    "y_train = y_train.values.reshape(y_train.shape[0],1)\n",
    "y_val = y_val.values.reshape(y_val.shape[0],1)\n",
    "\n",
    "print(type(X_train),X_train.shape)\n",
    "print(type(X_val),X_val.shape)\n",
    "print(type(y_train),y_train.shape)\n",
    "print(type(y_val),y_val.shape)\n"
   ]
  },
  {
   "cell_type": "code",
   "execution_count": null,
   "metadata": {
    "id": "eX4yOpDTXu1r"
   },
   "outputs": [],
   "source": []
  },
  {
   "cell_type": "code",
   "execution_count": null,
   "metadata": {
    "colab": {
     "base_uri": "https://localhost:8080/"
    },
    "executionInfo": {
     "elapsed": 26479,
     "status": "ok",
     "timestamp": 1619562431893,
     "user": {
      "displayName": "Chuanchao Xu",
      "photoUrl": "",
      "userId": "08016207472332924278"
     },
     "user_tz": -480
    },
    "id": "3qGBJBp3XnrT",
    "outputId": "76b850ee-d36a-4d6b-f483-7b0e0e1d26a8"
   },
   "outputs": [
    {
     "name": "stdout",
     "output_type": "stream",
     "text": [
      "Epoch 1/2\n",
      "713/713 [==============================] - 12s 15ms/step - loss: 0.7929 - accuracy: 0.7294 - val_loss: 53.1856 - val_accuracy: 0.0371\n",
      "Epoch 2/2\n",
      "713/713 [==============================] - 10s 15ms/step - loss: 0.4271 - accuracy: 0.8644 - val_loss: 14.6948 - val_accuracy: 0.0371\n"
     ]
    },
    {
     "name": "stderr",
     "output_type": "stream",
     "text": [
      "/usr/local/lib/python3.7/dist-packages/tensorflow/python/keras/engine/sequential.py:450: UserWarning: `model.predict_classes()` is deprecated and will be removed after 2021-01-01. Please use instead:* `np.argmax(model.predict(x), axis=-1)`,   if your model does multi-class classification   (e.g. if it uses a `softmax` last-layer activation).* `(model.predict(x) > 0.5).astype(\"int32\")`,   if your model does binary classification   (e.g. if it uses a `sigmoid` last-layer activation).\n",
      "  warnings.warn('`model.predict_classes()` is deprecated and '\n"
     ]
    },
    {
     "name": "stdout",
     "output_type": "stream",
     "text": [
      "(25000,)\n",
      "(25000, 4) \n",
      " (25000, 1)\n",
      "score_for_Competition: 75000.0\n"
     ]
    }
   ],
   "source": [
    "from keras.models import Sequential\n",
    "from keras.layers import Dense, Dropout\n",
    "from keras.layers import Embedding\n",
    "from keras.layers import LSTM\n",
    "from tensorflow.compat.v1.keras.layers import CuDNNLSTM,BatchNormalization,Dropout\n",
    "from sklearn.preprocessing import OneHotEncoder\n",
    "import tensorflow.compat.v1 as tf\n",
    "\n",
    "model = Sequential()\n",
    "model.add(CuDNNLSTM(128, input_shape=(X_train.shape[1], X_train.shape[2])))  #  return_sequences=True\n",
    "# model.add(Dropout(0.2))\n",
    "model.add(BatchNormalization())\n",
    "# # model.add(CuDNNLSTM(128, return_sequences=True))\n",
    "# model.add(CuDNNLSTM(64))\n",
    "# model.add(Dropout(0.2))\n",
    "model.add(BatchNormalization())\n",
    "model.add(Dense(4, activation='softmax'))\n",
    "\n",
    "optimizer = tf.train.AdamOptimizer(learning_rate = 0.01)  # 后期loss无法进一步减小需要灵活调整learning_rate\n",
    "\n",
    "model.compile(loss='sparse_categorical_crossentropy', optimizer=optimizer, metrics=['accuracy'])\n",
    "history = model.fit(X_train, y_train, epochs=2, batch_size=100,  validation_split =0.05)\n",
    "# model.save('/content/drive/MyDrive/CLF_of_ECG_signals/Result_Submission/Model/LSTM_ECG_0424-256.h5')\n",
    "\n",
    "def feval_abs_sum(preds, labels):\n",
    "  # preds = np.argmax(preds.reshape(4,-1),axis=0)\n",
    "  onehot_encoder = OneHotEncoder(sparse=False)\n",
    "  labels_ = onehot_encoder.fit_transform(labels.reshape(len(labels), 1))\n",
    "  preds_ = onehot_encoder.fit_transform(preds.reshape(len(preds), 1))\n",
    "  print(labels_.shape, '\\n', preds_.shape)\n",
    "  score_for_Competition = sum(sum(abs(labels_ - preds_)))\n",
    "  return score_for_Competition\n",
    "\n",
    "y_pred = model.predict_classes(X_val)\n",
    "print(y_pred.shape)\n",
    "score_for_Competition = feval_abs_sum(y_pred, y_val)\n",
    "print('score_for_Competition:',score_for_Competition)\n",
    "\n",
    "# 20个hidden layer, 执行100步得到val_accuracy: 0.9400\n",
    "# 20个hidden layer, 执行200步得到val_accuracy: 0.9651, score_for_Competition:1656\n"
   ]
  },
  {
   "cell_type": "code",
   "execution_count": null,
   "metadata": {
    "colab": {
     "base_uri": "https://localhost:8080/"
    },
    "executionInfo": {
     "elapsed": 205151,
     "status": "ok",
     "timestamp": 1619565655383,
     "user": {
      "displayName": "Chuanchao Xu",
      "photoUrl": "",
      "userId": "08016207472332924278"
     },
     "user_tz": -480
    },
    "id": "dfGlOp0hcZiz",
    "outputId": "0f8c26f0-5714-4351-d121-f7d0230e50b2"
   },
   "outputs": [
    {
     "name": "stdout",
     "output_type": "stream",
     "text": [
      "Epoch 1/20\n",
      "713/713 [==============================] - 11s 14ms/step - loss: 1.9384e-04 - accuracy: 0.9999 - val_loss: 0.0115 - val_accuracy: 0.9976\n",
      "Epoch 2/20\n",
      "713/713 [==============================] - 10s 14ms/step - loss: 3.0309e-04 - accuracy: 0.9999 - val_loss: 0.0107 - val_accuracy: 0.9976\n",
      "Epoch 3/20\n",
      "713/713 [==============================] - 10s 14ms/step - loss: 1.7096e-04 - accuracy: 1.0000 - val_loss: 0.0100 - val_accuracy: 0.9976\n",
      "Epoch 4/20\n",
      "713/713 [==============================] - 10s 14ms/step - loss: 2.4887e-04 - accuracy: 0.9999 - val_loss: 0.0100 - val_accuracy: 0.9979\n",
      "Epoch 5/20\n",
      "713/713 [==============================] - 10s 14ms/step - loss: 2.1415e-04 - accuracy: 0.9999 - val_loss: 0.0106 - val_accuracy: 0.9976\n",
      "Epoch 6/20\n",
      "713/713 [==============================] - 10s 14ms/step - loss: 9.8930e-05 - accuracy: 1.0000 - val_loss: 0.0136 - val_accuracy: 0.9968\n",
      "Epoch 7/20\n",
      "713/713 [==============================] - 10s 14ms/step - loss: 5.3013e-04 - accuracy: 0.9999 - val_loss: 0.0114 - val_accuracy: 0.9976\n",
      "Epoch 8/20\n",
      "713/713 [==============================] - 10s 14ms/step - loss: 3.6518e-04 - accuracy: 0.9999 - val_loss: 0.0121 - val_accuracy: 0.9973\n",
      "Epoch 9/20\n",
      "713/713 [==============================] - 10s 14ms/step - loss: 5.0193e-05 - accuracy: 1.0000 - val_loss: 0.0120 - val_accuracy: 0.9973\n",
      "Epoch 10/20\n",
      "713/713 [==============================] - 10s 14ms/step - loss: 5.5163e-05 - accuracy: 1.0000 - val_loss: 0.0122 - val_accuracy: 0.9973\n",
      "Epoch 11/20\n",
      "713/713 [==============================] - 10s 14ms/step - loss: 3.9329e-05 - accuracy: 1.0000 - val_loss: 0.0115 - val_accuracy: 0.9976\n",
      "Epoch 12/20\n",
      "713/713 [==============================] - 10s 14ms/step - loss: 3.0273e-04 - accuracy: 0.9999 - val_loss: 0.0122 - val_accuracy: 0.9965\n",
      "Epoch 13/20\n",
      "713/713 [==============================] - 10s 14ms/step - loss: 6.7788e-04 - accuracy: 0.9998 - val_loss: 0.0120 - val_accuracy: 0.9968\n",
      "Epoch 14/20\n",
      "713/713 [==============================] - 10s 14ms/step - loss: 1.0719e-04 - accuracy: 1.0000 - val_loss: 0.0126 - val_accuracy: 0.9973\n",
      "Epoch 15/20\n",
      "713/713 [==============================] - 10s 14ms/step - loss: 1.1789e-04 - accuracy: 1.0000 - val_loss: 0.0115 - val_accuracy: 0.9971\n",
      "Epoch 16/20\n",
      "713/713 [==============================] - 10s 14ms/step - loss: 1.4699e-04 - accuracy: 0.9999 - val_loss: 0.0123 - val_accuracy: 0.9971\n",
      "Epoch 17/20\n",
      "713/713 [==============================] - 10s 14ms/step - loss: 8.3756e-05 - accuracy: 1.0000 - val_loss: 0.0124 - val_accuracy: 0.9971\n",
      "Epoch 18/20\n",
      "713/713 [==============================] - 10s 14ms/step - loss: 3.8765e-05 - accuracy: 1.0000 - val_loss: 0.0124 - val_accuracy: 0.9971\n",
      "Epoch 19/20\n",
      "713/713 [==============================] - 10s 14ms/step - loss: 8.4434e-05 - accuracy: 1.0000 - val_loss: 0.0131 - val_accuracy: 0.9968\n",
      "Epoch 20/20\n",
      "713/713 [==============================] - 10s 14ms/step - loss: 5.8185e-05 - accuracy: 1.0000 - val_loss: 0.0126 - val_accuracy: 0.9971\n"
     ]
    }
   ],
   "source": [
    "# from keras.models import load_model\n",
    "import keras\n",
    "# model_path = '/content/drive/MyDrive/CLF_of_ECG_signals/Result_Submission/Model/LSTM_ECG_0424-128.h5'\n",
    "\n",
    "# model = load_model(model_path)\n",
    "optimizer = keras.optimizers.Adam(lr=0.0001)\n",
    "# optimizer = tf.train.AdamOptimizer(learning_rate = 0.0001)  # 灵活调整learning_rate\n",
    "model.compile(loss='sparse_categorical_crossentropy', optimizer=optimizer, metrics=['accuracy'])\n",
    "history = model.fit(X_train, y_train, epochs=20, batch_size=100,  validation_split =0.05)\n",
    "# 200 + 30 + 20"
   ]
  },
  {
   "cell_type": "code",
   "execution_count": null,
   "metadata": {
    "id": "gmEm4FKowYat"
   },
   "outputs": [],
   "source": [
    "model.save('/content/drive/MyDrive/CLF_of_ECG_signals/Result_Submission/Model/LSTM_ECG_0428-128.h5')"
   ]
  },
  {
   "cell_type": "code",
   "execution_count": null,
   "metadata": {
    "colab": {
     "base_uri": "https://localhost:8080/"
    },
    "executionInfo": {
     "elapsed": 3614,
     "status": "ok",
     "timestamp": 1619565684421,
     "user": {
      "displayName": "Chuanchao Xu",
      "photoUrl": "",
      "userId": "08016207472332924278"
     },
     "user_tz": -480
    },
    "id": "kI_LGnabjGnm",
    "outputId": "69070650-1ca2-4f9a-947b-8fc02ca82efc"
   },
   "outputs": [
    {
     "name": "stderr",
     "output_type": "stream",
     "text": [
      "/usr/local/lib/python3.7/dist-packages/tensorflow/python/keras/engine/sequential.py:450: UserWarning: `model.predict_classes()` is deprecated and will be removed after 2021-01-01. Please use instead:* `np.argmax(model.predict(x), axis=-1)`,   if your model does multi-class classification   (e.g. if it uses a `softmax` last-layer activation).* `(model.predict(x) > 0.5).astype(\"int32\")`,   if your model does binary classification   (e.g. if it uses a `sigmoid` last-layer activation).\n",
      "  warnings.warn('`model.predict_classes()` is deprecated and '\n"
     ]
    },
    {
     "name": "stdout",
     "output_type": "stream",
     "text": [
      "(25000,)\n",
      "(25000, 4) \n",
      " (25000, 4)\n",
      "score_for_Competition: 218.0\n"
     ]
    }
   ],
   "source": [
    "# history = model.fit(X_train, y_train, epochs=100, batch_size=100,  validation_split =0.05)\n",
    "# model.save('/content/drive/MyDrive/CLF_of_ECG_signals/Result_Submission/Model/LSTM_ECG_0424-20.h5')\n",
    "\n",
    "def feval_abs_sum(preds, labels):\n",
    "  # preds = np.argmax(preds.reshape(4,-1),axis=0)\n",
    "  onehot_encoder = OneHotEncoder(sparse=False)\n",
    "  labels_ = onehot_encoder.fit_transform(labels.reshape(len(labels), 1))\n",
    "  preds_ = onehot_encoder.fit_transform(preds.reshape(len(preds), 1))\n",
    "  print(labels_.shape, '\\n', preds_.shape)\n",
    "  score_for_Competition = sum(sum(abs(labels_ - preds_)))\n",
    "  return score_for_Competition\n",
    "\n",
    "y_pred = model.predict_classes(X_val)\n",
    "print(y_pred.shape)\n",
    "score_for_Competition = feval_abs_sum(y_pred, y_val)\n",
    "print('score_for_Competition:',score_for_Competition)"
   ]
  },
  {
   "cell_type": "code",
   "execution_count": null,
   "metadata": {
    "colab": {
     "base_uri": "https://localhost:8080/"
    },
    "executionInfo": {
     "elapsed": 16524,
     "status": "ok",
     "timestamp": 1619747946017,
     "user": {
      "displayName": "Chuanchao Xu",
      "photoUrl": "",
      "userId": "08016207472332924278"
     },
     "user_tz": -480
    },
    "id": "10TqUFCdagSN",
    "outputId": "5ae50b6c-d5c5-47bd-db14-a74b108e1aa2"
   },
   "outputs": [
    {
     "name": "stdout",
     "output_type": "stream",
     "text": [
      "********************************* 1 *********************************\n"
     ]
    },
    {
     "name": "stderr",
     "output_type": "stream",
     "text": [
      "/usr/local/lib/python3.7/dist-packages/tensorflow/python/keras/engine/sequential.py:450: UserWarning: `model.predict_classes()` is deprecated and will be removed after 2021-01-01. Please use instead:* `np.argmax(model.predict(x), axis=-1)`,   if your model does multi-class classification   (e.g. if it uses a `softmax` last-layer activation).* `(model.predict(x) > 0.5).astype(\"int32\")`,   if your model does binary classification   (e.g. if it uses a `sigmoid` last-layer activation).\n",
      "  warnings.warn('`model.predict_classes()` is deprecated and '\n"
     ]
    },
    {
     "name": "stdout",
     "output_type": "stream",
     "text": [
      "score_for_Competition: 48\n",
      "********************************* 2 *********************************\n",
      "score_for_Competition: 56\n",
      "********************************* 3 *********************************\n",
      "score_for_Competition: 32\n",
      "********************************* 4 *********************************\n",
      "score_for_Competition: 52\n",
      "********************************* 5 *********************************\n",
      "score_for_Competition: 54\n",
      "[48, 56, 32, 52, 54]\n",
      "CNN_1D_score_KFoldtrain_list:[48, 56, 32, 52, 54]\n",
      "CNN_1D_score_mean:48.4\n",
      "CNN_1D_score_std:8.616263691415208\n"
     ]
    }
   ],
   "source": [
    "# 加载模型\n",
    "from keras.models import load_model\n",
    "from sklearn.model_selection import KFold\n",
    "model_path = '/content/drive/MyDrive/CLF_of_ECG_signals/Result_Submission/Model/LSTM_ECG_0428-128.h5'\n",
    "model_lstm = load_model(model_path)\n",
    "\n",
    "\n",
    "from sklearn.preprocessing import OneHotEncoder\n",
    "def feval_abs_sum(preds, labels):  # 导入的都是稀疏标签\n",
    "  score_for_Competition = 0\n",
    "  for i in range(preds.shape[0]):\n",
    "    if preds[i] != np.array(labels)[i]:\n",
    "      score_for_Competition += 2\n",
    "  return score_for_Competition\n",
    "\n",
    "\n",
    "\n",
    "# 5KFold训练\n",
    "import keras\n",
    "### 使用5折交叉验证进行模型性能评估\n",
    "'''使用lightgbm 5折交叉验证进行建模预测'''\n",
    "\n",
    "cv_scores = []\n",
    "kf = KFold(n_splits=5, shuffle=True, random_state=1)\n",
    "for i, (train_index, valid_index) in enumerate(kf.split(features, labels)):\n",
    "  print('********************************* {} *********************************'.format(str(i+1)))\n",
    "  X_train, y_train, X_val, y_val = \\\n",
    "  features.iloc[train_index], labels[train_index], features.iloc[valid_index], labels[valid_index]\n",
    "\n",
    "  X_train = X_train.values.reshape(X_train.shape[0],X_train.shape[1],1)\n",
    "  X_val = X_val.values.reshape(X_val.shape[0],X_val.shape[1],1)\n",
    "  y_train = y_train.values.reshape(y_train.shape[0],1)\n",
    "  y_val = y_val.values.reshape(y_val.shape[0],1)\n",
    "\n",
    "  # optimizer = keras.optimizers.Adam(lr=1e-9, beta_1=0.9, beta_2=0.99, epsilon=1e-08, decay=0.0)\n",
    "  # model_CNN.compile(loss='sparse_categorical_crossentropy', optimizer=optimizer, metrics=['accuracy'])\n",
    "  # history = model_CNN.fit(X_train, y_train, epochs=5, batch_size=36,  validation_split =0.05)\n",
    "  \n",
    "  y_pred = model_lstm.predict_classes(X_val)  \n",
    "  # print(y_pred)\n",
    "  # print(y_val)\n",
    "  score_for_Competition = feval_abs_sum(y_pred, y_val)\n",
    "  print('score_for_Competition:',score_for_Competition)\n",
    "  cv_scores.append(score_for_Competition)\n",
    "\n",
    "\n",
    "print(cv_scores)\n",
    "print('CNN_1D_score_KFoldtrain_list:{}'.format(cv_scores))\n",
    "print('CNN_1D_score_mean:{}'.format(np.mean(cv_scores)))\n",
    "print('CNN_1D_score_std:{}'.format(np.std(cv_scores)))\n",
    "\n",
    "\n",
    "# time_cost: 14分54秒\n"
   ]
  },
  {
   "cell_type": "markdown",
   "metadata": {
    "id": "UC-mcP9y6yTr"
   },
   "source": [
    "# CNN + BiLSTM + Attention\n",
    "\n",
    "参考资料: [使用Keras实现CNN+BiLSTM+Attention的多维(多变量)时间序列预测](https://blog.csdn.net/qq_35649669/article/details/104793484)"
   ]
  },
  {
   "cell_type": "code",
   "execution_count": null,
   "metadata": {
    "id": "JBUr-miE-a_j"
   },
   "outputs": [],
   "source": [
    "from keras.layers import Input, Dense, LSTM, merge ,Conv1D,Dropout,Bidirectional,Multiply\n",
    "from keras.models import Model\n",
    "\n",
    "from keras.layers import merge\n",
    "from keras.layers.core import *\n",
    "from keras.layers.recurrent import LSTM\n",
    "from keras.models import *\n",
    "\n",
    "import  pandas as pd\n",
    "import  numpy as np"
   ]
  },
  {
   "cell_type": "code",
   "execution_count": null,
   "metadata": {
    "colab": {
     "base_uri": "https://localhost:8080/"
    },
    "executionInfo": {
     "elapsed": 746,
     "status": "ok",
     "timestamp": 1619554720497,
     "user": {
      "displayName": "Chuanchao Xu",
      "photoUrl": "",
      "userId": "08016207472332924278"
     },
     "user_tz": -480
    },
    "id": "BrYi1SWX9IJ_",
    "outputId": "8918598f-7e91-4eed-bfab-f4594211de49"
   },
   "outputs": [
    {
     "name": "stdout",
     "output_type": "stream",
     "text": [
      "<class 'numpy.ndarray'> (75000, 205, 1)\n",
      "<class 'numpy.ndarray'> (25000, 205, 1)\n",
      "<class 'numpy.ndarray'> (75000, 1)\n",
      "<class 'numpy.ndarray'> (25000, 1)\n"
     ]
    }
   ],
   "source": [
    "# 划分X_train, X_val, y_train, y_val\n",
    "from sklearn.model_selection import train_test_split\n",
    "X_train, X_val, y_train, y_val = train_test_split(features, labels)\n",
    "\n",
    "\n",
    "# 导入模型前预处理\n",
    "X_train = X_train.values.reshape(X_train.shape[0],X_train.shape[1],1)\n",
    "X_val = X_val.values.reshape(X_val.shape[0],X_val.shape[1],1)\n",
    "y_train = y_train.values.reshape(y_train.shape[0],1)\n",
    "y_val = y_val.values.reshape(y_val.shape[0],1)\n",
    "\n",
    "print(type(X_train),X_train.shape)\n",
    "print(type(X_val),X_val.shape)\n",
    "print(type(y_train),y_train.shape)\n",
    "print(type(y_val),y_val.shape)\n"
   ]
  },
  {
   "cell_type": "code",
   "execution_count": null,
   "metadata": {
    "id": "OpWPGC_d65Xq"
   },
   "outputs": [],
   "source": [
    "\n",
    "SINGLE_ATTENTION_VECTOR = False\n",
    "def attention_3d_block(inputs):\n",
    "    # inputs.shape = (batch_size, time_steps, input_dim)\n",
    "    input_dim = int(inputs.shape[2])\n",
    "    a = inputs\n",
    "    #a = Permute((2, 1))(inputs)\n",
    "    #a = Reshape((input_dim, TIME_STEPS))(a) # this line is not useful. It's just to know which dimension is what.\n",
    "    a = Dense(input_dim, activation='softmax')(a)\n",
    "    if SINGLE_ATTENTION_VECTOR:\n",
    "        a = Lambda(lambda x: K.mean(x, axis=1), name='dim_reduction')(a)\n",
    "        a = RepeatVector(input_dim)(a)\n",
    "    a_probs = Permute((1, 2), name='attention_vec')(a)\n",
    "    output_attention_mul = merge([inputs, a_probs], name='attention_mul', mode='mul')\n",
    "    return output_attention_mul\n",
    "\n",
    "def attention_model(TIME_STEPS, INPUT_DIMS):\n",
    "    inputs = Input(shape=(TIME_STEPS, INPUT_DIMS))\n",
    "\n",
    "    x = Conv1D(filters = 64, kernel_size = 1, activation = 'relu')(inputs)  #, padding = 'same'\n",
    "    x = Dropout(0.3)(x)\n",
    "\n",
    "    #lstm_out = Bidirectional(LSTM(lstm_units, activation='relu'), name='bilstm')(x)\n",
    "    lstm_out = Bidirectional(LSTM(lstm_units, return_sequences=True))(x)\n",
    "    attention_mul = attention_3d_block(lstm_out)\n",
    "    attention_mul = Flatten()(attention_mul)\n",
    "\n",
    "    output = Dense(1, activation='sigmoid')(attention_mul)\n",
    "    model = Model(inputs=[inputs], outputs=output)\n",
    "    return model\n"
   ]
  },
  {
   "cell_type": "code",
   "execution_count": null,
   "metadata": {
    "colab": {
     "base_uri": "https://localhost:8080/",
     "height": 394
    },
    "executionInfo": {
     "elapsed": 1293,
     "status": "error",
     "timestamp": 1619556467961,
     "user": {
      "displayName": "Chuanchao Xu",
      "photoUrl": "",
      "userId": "08016207472332924278"
     },
     "user_tz": -480
    },
    "id": "pCMo6rUG8yWJ",
    "outputId": "25095f67-da56-424a-a2f0-dc0e43c4eb4a"
   },
   "outputs": [
    {
     "ename": "TypeError",
     "evalue": "ignored",
     "output_type": "error",
     "traceback": [
      "\u001b[0;31m---------------------------------------------------------------------------\u001b[0m",
      "\u001b[0;31mTypeError\u001b[0m                                 Traceback (most recent call last)",
      "\u001b[0;32m<ipython-input-19-7ef95ba827aa>\u001b[0m in \u001b[0;36m<module>\u001b[0;34m()\u001b[0m\n\u001b[1;32m      3\u001b[0m \u001b[0mlstm_units\u001b[0m \u001b[0;34m=\u001b[0m \u001b[0;36m64\u001b[0m\u001b[0;34m\u001b[0m\u001b[0;34m\u001b[0m\u001b[0m\n\u001b[1;32m      4\u001b[0m \u001b[0;34m\u001b[0m\u001b[0m\n\u001b[0;32m----> 5\u001b[0;31m \u001b[0mmodel\u001b[0m \u001b[0;34m=\u001b[0m \u001b[0mattention_model\u001b[0m\u001b[0;34m(\u001b[0m\u001b[0mTIME_STEPS\u001b[0m\u001b[0;34m=\u001b[0m\u001b[0;36m205\u001b[0m\u001b[0;34m,\u001b[0m \u001b[0mINPUT_DIMS\u001b[0m\u001b[0;34m=\u001b[0m\u001b[0;36m1\u001b[0m\u001b[0;34m)\u001b[0m\u001b[0;34m\u001b[0m\u001b[0;34m\u001b[0m\u001b[0m\n\u001b[0m\u001b[1;32m      6\u001b[0m \u001b[0mmodel\u001b[0m\u001b[0;34m.\u001b[0m\u001b[0msummary\u001b[0m\u001b[0;34m(\u001b[0m\u001b[0;34m)\u001b[0m\u001b[0;34m\u001b[0m\u001b[0;34m\u001b[0m\u001b[0m\n\u001b[1;32m      7\u001b[0m \u001b[0mmodel\u001b[0m\u001b[0;34m.\u001b[0m\u001b[0mcompile\u001b[0m\u001b[0;34m(\u001b[0m\u001b[0moptimizer\u001b[0m\u001b[0;34m=\u001b[0m\u001b[0;34m'adam'\u001b[0m\u001b[0;34m,\u001b[0m \u001b[0mloss\u001b[0m\u001b[0;34m=\u001b[0m\u001b[0;34m'mse'\u001b[0m\u001b[0;34m)\u001b[0m\u001b[0;34m\u001b[0m\u001b[0;34m\u001b[0m\u001b[0m\n",
      "\u001b[0;32m<ipython-input-18-302411742fed>\u001b[0m in \u001b[0;36mattention_model\u001b[0;34m(TIME_STEPS, INPUT_DIMS)\u001b[0m\n\u001b[1;32m     23\u001b[0m     \u001b[0;31m#lstm_out = Bidirectional(LSTM(lstm_units, activation='relu'), name='bilstm')(x)\u001b[0m\u001b[0;34m\u001b[0m\u001b[0;34m\u001b[0m\u001b[0;34m\u001b[0m\u001b[0m\n\u001b[1;32m     24\u001b[0m     \u001b[0mlstm_out\u001b[0m \u001b[0;34m=\u001b[0m \u001b[0mBidirectional\u001b[0m\u001b[0;34m(\u001b[0m\u001b[0mLSTM\u001b[0m\u001b[0;34m(\u001b[0m\u001b[0mlstm_units\u001b[0m\u001b[0;34m,\u001b[0m \u001b[0mreturn_sequences\u001b[0m\u001b[0;34m=\u001b[0m\u001b[0;32mTrue\u001b[0m\u001b[0;34m)\u001b[0m\u001b[0;34m)\u001b[0m\u001b[0;34m(\u001b[0m\u001b[0mx\u001b[0m\u001b[0;34m)\u001b[0m\u001b[0;34m\u001b[0m\u001b[0;34m\u001b[0m\u001b[0m\n\u001b[0;32m---> 25\u001b[0;31m     \u001b[0mattention_mul\u001b[0m \u001b[0;34m=\u001b[0m \u001b[0mattention_3d_block\u001b[0m\u001b[0;34m(\u001b[0m\u001b[0mlstm_out\u001b[0m\u001b[0;34m)\u001b[0m\u001b[0;34m\u001b[0m\u001b[0;34m\u001b[0m\u001b[0m\n\u001b[0m\u001b[1;32m     26\u001b[0m     \u001b[0mattention_mul\u001b[0m \u001b[0;34m=\u001b[0m \u001b[0mFlatten\u001b[0m\u001b[0;34m(\u001b[0m\u001b[0;34m)\u001b[0m\u001b[0;34m(\u001b[0m\u001b[0mattention_mul\u001b[0m\u001b[0;34m)\u001b[0m\u001b[0;34m\u001b[0m\u001b[0;34m\u001b[0m\u001b[0m\n\u001b[1;32m     27\u001b[0m \u001b[0;34m\u001b[0m\u001b[0m\n",
      "\u001b[0;32m<ipython-input-18-302411742fed>\u001b[0m in \u001b[0;36mattention_3d_block\u001b[0;34m(inputs)\u001b[0m\n\u001b[1;32m     12\u001b[0m         \u001b[0ma\u001b[0m \u001b[0;34m=\u001b[0m \u001b[0mRepeatVector\u001b[0m\u001b[0;34m(\u001b[0m\u001b[0minput_dim\u001b[0m\u001b[0;34m)\u001b[0m\u001b[0;34m(\u001b[0m\u001b[0ma\u001b[0m\u001b[0;34m)\u001b[0m\u001b[0;34m\u001b[0m\u001b[0;34m\u001b[0m\u001b[0m\n\u001b[1;32m     13\u001b[0m     \u001b[0ma_probs\u001b[0m \u001b[0;34m=\u001b[0m \u001b[0mPermute\u001b[0m\u001b[0;34m(\u001b[0m\u001b[0;34m(\u001b[0m\u001b[0;36m1\u001b[0m\u001b[0;34m,\u001b[0m \u001b[0;36m2\u001b[0m\u001b[0;34m)\u001b[0m\u001b[0;34m,\u001b[0m \u001b[0mname\u001b[0m\u001b[0;34m=\u001b[0m\u001b[0;34m'attention_vec'\u001b[0m\u001b[0;34m)\u001b[0m\u001b[0;34m(\u001b[0m\u001b[0ma\u001b[0m\u001b[0;34m)\u001b[0m\u001b[0;34m\u001b[0m\u001b[0;34m\u001b[0m\u001b[0m\n\u001b[0;32m---> 14\u001b[0;31m     \u001b[0moutput_attention_mul\u001b[0m \u001b[0;34m=\u001b[0m \u001b[0mmerge\u001b[0m\u001b[0;34m(\u001b[0m\u001b[0;34m[\u001b[0m\u001b[0minputs\u001b[0m\u001b[0;34m,\u001b[0m \u001b[0ma_probs\u001b[0m\u001b[0;34m]\u001b[0m\u001b[0;34m,\u001b[0m \u001b[0mname\u001b[0m\u001b[0;34m=\u001b[0m\u001b[0;34m'attention_mul'\u001b[0m\u001b[0;34m,\u001b[0m \u001b[0mmode\u001b[0m\u001b[0;34m=\u001b[0m\u001b[0;34m'mul'\u001b[0m\u001b[0;34m)\u001b[0m\u001b[0;34m\u001b[0m\u001b[0;34m\u001b[0m\u001b[0m\n\u001b[0m\u001b[1;32m     15\u001b[0m     \u001b[0;32mreturn\u001b[0m \u001b[0moutput_attention_mul\u001b[0m\u001b[0;34m\u001b[0m\u001b[0;34m\u001b[0m\u001b[0m\n\u001b[1;32m     16\u001b[0m \u001b[0;34m\u001b[0m\u001b[0m\n",
      "\u001b[0;31mTypeError\u001b[0m: 'module' object is not callable"
     ]
    }
   ],
   "source": [
    "INPUT_DIMS = 1\n",
    "TIME_STEPS = 205\n",
    "lstm_units = 64\n",
    "\n",
    "model = attention_model(TIME_STEPS=205, INPUT_DIMS=1)\n",
    "model.summary()\n",
    "model.compile(optimizer='adam', loss='mse')\n",
    "model.fit([X_train], y_train, epochs=10, batch_size=64, validation_split=0.1)\n",
    "# model.save('/content/drive/MyDrive/CLF_of_ECG_signals/Result_Submission/Model/LSTM_ECG_0424-256.h5')"
   ]
  },
  {
   "cell_type": "markdown",
   "metadata": {
    "id": "dI_XX6WUN3a0"
   },
   "source": [
    "# CNN_1D"
   ]
  },
  {
   "cell_type": "code",
   "execution_count": null,
   "metadata": {
    "colab": {
     "base_uri": "https://localhost:8080/"
    },
    "executionInfo": {
     "elapsed": 1031,
     "status": "ok",
     "timestamp": 1621253179479,
     "user": {
      "displayName": "Chuanchao Xu",
      "photoUrl": "",
      "userId": "08016207472332924278"
     },
     "user_tz": -480
    },
    "id": "vwSoEPj0N5ZQ",
    "outputId": "c0bac416-cc70-44e2-ea5e-832d5bdbf664"
   },
   "outputs": [
    {
     "name": "stdout",
     "output_type": "stream",
     "text": [
      "<class 'numpy.ndarray'> (80000, 205, 1)\n",
      "<class 'numpy.ndarray'> (20000, 205, 1)\n",
      "<class 'numpy.ndarray'> (80000, 1)\n",
      "<class 'numpy.ndarray'> (20000, 1)\n"
     ]
    }
   ],
   "source": [
    "# 划分X_train, X_val, y_train, y_val\n",
    "from sklearn.model_selection import train_test_split\n",
    "X_train, X_val, y_train, y_val = train_test_split(features, labels, random_state=507, test_size=0.2)\n",
    " \n",
    "# 导入模型前预处理\n",
    "X_train = X_train.values.reshape(X_train.shape[0],X_train.shape[1],1)\n",
    "X_val = X_val.values.reshape(X_val.shape[0],X_val.shape[1],1)\n",
    "y_train = y_train.values.reshape(y_train.shape[0],1)\n",
    "y_val = y_val.values.reshape(y_val.shape[0],1)\n",
    " \n",
    "print(type(X_train),X_train.shape)\n",
    "print(type(X_val),X_val.shape)\n",
    "print(type(y_train),y_train.shape)\n",
    "print(type(y_val),y_val.shape)"
   ]
  },
  {
   "cell_type": "code",
   "execution_count": null,
   "metadata": {
    "id": "Aw7K6mKx_lWE"
   },
   "outputs": [],
   "source": [
    "import keras\n",
    "from scipy.io import loadmat\n",
    "import matplotlib.pyplot as plt \n",
    "import glob\n",
    "import numpy as np\n",
    "import pandas as pd\n",
    "import math\n",
    "import os\n",
    "import keras\n",
    "from keras.layers import *\n",
    "from keras.models import *\n",
    "from keras.objectives import *\n",
    "from sklearn.preprocessing import OneHotEncoder\n",
    " \n",
    " \n",
    "\"\"\"GPU设置为按需增长\"\"\"\n",
    "import os\n",
    "import tensorflow.compat.v1 as tf\n",
    "# from tensorflow.compat.v1 import ConfigProto\n",
    "from tensorflow.compat.v1.keras.backend import set_session\n",
    " \n",
    "os.environ[\"CUDA_VISIBLE_DEVICES\"] = \"0\" #有多个GPU时可以指定只使用第几号GPU\n",
    "config = tf.ConfigProto()\n",
    "config.allow_soft_placement=True #允许动态放置张量和操作符\n",
    "config.gpu_options.per_process_gpu_memory_fraction = 0.4 #最多使用40%GPU内存\n",
    "config.gpu_options.allow_growth=True   #初始化时不全部占满GPU显存, 按需分配 \n",
    "sess = tf.Session(config = config)\n",
    "set_session(sess)"
   ]
  },
  {
   "cell_type": "code",
   "execution_count": null,
   "metadata": {
    "colab": {
     "base_uri": "https://localhost:8080/"
    },
    "executionInfo": {
     "elapsed": 1497430,
     "status": "ok",
     "timestamp": 1621237493355,
     "user": {
      "displayName": "Chuanchao Xu",
      "photoUrl": "",
      "userId": "08016207472332924278"
     },
     "user_tz": -480
    },
    "id": "Ubb-pkWvLy4Z",
    "outputId": "c98a8808-407b-4fee-904a-6661d857f760"
   },
   "outputs": [
    {
     "name": "stdout",
     "output_type": "stream",
     "text": [
      "Epoch 1/100\n",
      "760/760 [==============================] - 18s 20ms/step - loss: 0.2556 - accuracy: 0.9176 - val_loss: 0.1502 - val_accuracy: 0.9538\n",
      "Epoch 2/100\n",
      "760/760 [==============================] - 15s 20ms/step - loss: 0.0910 - accuracy: 0.9729 - val_loss: 0.1034 - val_accuracy: 0.9680\n",
      "Epoch 3/100\n",
      "760/760 [==============================] - 15s 20ms/step - loss: 0.0694 - accuracy: 0.9790 - val_loss: 0.1880 - val_accuracy: 0.9410\n",
      "Epoch 4/100\n",
      "760/760 [==============================] - 15s 20ms/step - loss: 0.0617 - accuracy: 0.9803 - val_loss: 0.0776 - val_accuracy: 0.9770\n",
      "Epoch 5/100\n",
      "760/760 [==============================] - 15s 20ms/step - loss: 0.0494 - accuracy: 0.9850 - val_loss: 0.0922 - val_accuracy: 0.9725\n",
      "Epoch 6/100\n",
      "760/760 [==============================] - 15s 20ms/step - loss: 0.0433 - accuracy: 0.9867 - val_loss: 0.0810 - val_accuracy: 0.9750\n",
      "Epoch 7/100\n",
      "760/760 [==============================] - 15s 20ms/step - loss: 0.0401 - accuracy: 0.9872 - val_loss: 0.0565 - val_accuracy: 0.9835\n",
      "Epoch 8/100\n",
      "760/760 [==============================] - 15s 20ms/step - loss: 0.0361 - accuracy: 0.9884 - val_loss: 0.1486 - val_accuracy: 0.9528\n",
      "Epoch 9/100\n",
      "760/760 [==============================] - 15s 20ms/step - loss: 0.0290 - accuracy: 0.9905 - val_loss: 0.0750 - val_accuracy: 0.9785\n",
      "Epoch 10/100\n",
      "760/760 [==============================] - 15s 20ms/step - loss: 0.0275 - accuracy: 0.9910 - val_loss: 0.2060 - val_accuracy: 0.9367\n",
      "Epoch 11/100\n",
      "760/760 [==============================] - 15s 20ms/step - loss: 0.0229 - accuracy: 0.9926 - val_loss: 0.0515 - val_accuracy: 0.9868\n",
      "Epoch 12/100\n",
      "760/760 [==============================] - 15s 20ms/step - loss: 0.0218 - accuracy: 0.9926 - val_loss: 0.0529 - val_accuracy: 0.9872\n",
      "Epoch 13/100\n",
      "760/760 [==============================] - 15s 20ms/step - loss: 0.0183 - accuracy: 0.9935 - val_loss: 0.0517 - val_accuracy: 0.9862\n",
      "Epoch 14/100\n",
      "760/760 [==============================] - 15s 19ms/step - loss: 0.0156 - accuracy: 0.9952 - val_loss: 0.1528 - val_accuracy: 0.9528\n",
      "Epoch 15/100\n",
      "760/760 [==============================] - 15s 20ms/step - loss: 0.0162 - accuracy: 0.9947 - val_loss: 0.1150 - val_accuracy: 0.9743\n",
      "Epoch 16/100\n",
      "760/760 [==============================] - 15s 20ms/step - loss: 0.0137 - accuracy: 0.9954 - val_loss: 0.1372 - val_accuracy: 0.9678\n",
      "Epoch 17/100\n",
      "760/760 [==============================] - 15s 20ms/step - loss: 0.0125 - accuracy: 0.9957 - val_loss: 0.0640 - val_accuracy: 0.9872\n",
      "Epoch 18/100\n",
      "760/760 [==============================] - 15s 20ms/step - loss: 0.0111 - accuracy: 0.9961 - val_loss: 0.0587 - val_accuracy: 0.9855\n",
      "Epoch 19/100\n",
      "760/760 [==============================] - 15s 20ms/step - loss: 0.0084 - accuracy: 0.9973 - val_loss: 0.1366 - val_accuracy: 0.9607\n",
      "Epoch 20/100\n",
      "760/760 [==============================] - 15s 20ms/step - loss: 0.0084 - accuracy: 0.9971 - val_loss: 0.0630 - val_accuracy: 0.9875\n",
      "Epoch 21/100\n",
      "760/760 [==============================] - 15s 20ms/step - loss: 0.0069 - accuracy: 0.9978 - val_loss: 0.0831 - val_accuracy: 0.9827\n",
      "Epoch 22/100\n",
      "760/760 [==============================] - 15s 20ms/step - loss: 0.0102 - accuracy: 0.9966 - val_loss: 0.0580 - val_accuracy: 0.9875\n",
      "Epoch 23/100\n",
      "760/760 [==============================] - 15s 20ms/step - loss: 0.0072 - accuracy: 0.9975 - val_loss: 0.0673 - val_accuracy: 0.9887\n",
      "Epoch 24/100\n",
      "760/760 [==============================] - 15s 20ms/step - loss: 0.0076 - accuracy: 0.9972 - val_loss: 0.1007 - val_accuracy: 0.9753\n",
      "Epoch 25/100\n",
      "760/760 [==============================] - 15s 20ms/step - loss: 0.0063 - accuracy: 0.9980 - val_loss: 0.1519 - val_accuracy: 0.9647\n",
      "Epoch 26/100\n",
      "760/760 [==============================] - 15s 20ms/step - loss: 0.0048 - accuracy: 0.9984 - val_loss: 0.0599 - val_accuracy: 0.9905\n",
      "Epoch 27/100\n",
      "760/760 [==============================] - 15s 20ms/step - loss: 0.0080 - accuracy: 0.9974 - val_loss: 0.1074 - val_accuracy: 0.9765\n",
      "Epoch 28/100\n",
      "760/760 [==============================] - 15s 20ms/step - loss: 0.0060 - accuracy: 0.9980 - val_loss: 0.3226 - val_accuracy: 0.9545\n",
      "Epoch 29/100\n",
      "760/760 [==============================] - 15s 20ms/step - loss: 0.0055 - accuracy: 0.9983 - val_loss: 0.0615 - val_accuracy: 0.9905\n",
      "Epoch 30/100\n",
      "760/760 [==============================] - 15s 20ms/step - loss: 0.0041 - accuracy: 0.9985 - val_loss: 0.0722 - val_accuracy: 0.9868\n",
      "Epoch 31/100\n",
      "760/760 [==============================] - 15s 20ms/step - loss: 0.0051 - accuracy: 0.9983 - val_loss: 0.0678 - val_accuracy: 0.9837\n",
      "Epoch 32/100\n",
      "760/760 [==============================] - 15s 20ms/step - loss: 0.0052 - accuracy: 0.9981 - val_loss: 0.0609 - val_accuracy: 0.9902\n",
      "Epoch 33/100\n",
      "760/760 [==============================] - 15s 20ms/step - loss: 0.0053 - accuracy: 0.9984 - val_loss: 0.0607 - val_accuracy: 0.9880\n",
      "Epoch 34/100\n",
      "760/760 [==============================] - 15s 20ms/step - loss: 0.0031 - accuracy: 0.9991 - val_loss: 0.0699 - val_accuracy: 0.9890\n",
      "Epoch 35/100\n",
      "760/760 [==============================] - 15s 20ms/step - loss: 0.0052 - accuracy: 0.9981 - val_loss: 0.0698 - val_accuracy: 0.9870\n",
      "Epoch 36/100\n",
      "760/760 [==============================] - 15s 20ms/step - loss: 0.0045 - accuracy: 0.9987 - val_loss: 0.0608 - val_accuracy: 0.9912\n",
      "Epoch 37/100\n",
      "760/760 [==============================] - 15s 20ms/step - loss: 0.0015 - accuracy: 0.9996 - val_loss: 0.0673 - val_accuracy: 0.9905\n",
      "Epoch 38/100\n",
      "760/760 [==============================] - 15s 20ms/step - loss: 0.0046 - accuracy: 0.9987 - val_loss: 0.0666 - val_accuracy: 0.9887\n",
      "Epoch 39/100\n",
      "760/760 [==============================] - 15s 20ms/step - loss: 0.0035 - accuracy: 0.9989 - val_loss: 0.0668 - val_accuracy: 0.9887\n",
      "Epoch 40/100\n",
      "760/760 [==============================] - 15s 20ms/step - loss: 0.0028 - accuracy: 0.9991 - val_loss: 0.0634 - val_accuracy: 0.9890\n",
      "Epoch 41/100\n",
      "760/760 [==============================] - 15s 20ms/step - loss: 0.0054 - accuracy: 0.9983 - val_loss: 0.3294 - val_accuracy: 0.9255\n",
      "Epoch 42/100\n",
      "760/760 [==============================] - 15s 20ms/step - loss: 0.0048 - accuracy: 0.9985 - val_loss: 0.0675 - val_accuracy: 0.9900\n",
      "Epoch 43/100\n",
      "760/760 [==============================] - 15s 20ms/step - loss: 0.0038 - accuracy: 0.9986 - val_loss: 0.0815 - val_accuracy: 0.9900\n",
      "Epoch 44/100\n",
      "760/760 [==============================] - 15s 20ms/step - loss: 0.0041 - accuracy: 0.9986 - val_loss: 0.1063 - val_accuracy: 0.9855\n",
      "Epoch 45/100\n",
      "760/760 [==============================] - 15s 20ms/step - loss: 0.0016 - accuracy: 0.9995 - val_loss: 0.0602 - val_accuracy: 0.9887\n",
      "Epoch 46/100\n",
      "760/760 [==============================] - 15s 20ms/step - loss: 0.0047 - accuracy: 0.9985 - val_loss: 0.0681 - val_accuracy: 0.9902\n",
      "Epoch 47/100\n",
      "760/760 [==============================] - 15s 20ms/step - loss: 0.0022 - accuracy: 0.9992 - val_loss: 0.0758 - val_accuracy: 0.9887\n",
      "Epoch 48/100\n",
      "760/760 [==============================] - 15s 20ms/step - loss: 0.0029 - accuracy: 0.9991 - val_loss: 0.0906 - val_accuracy: 0.9868\n",
      "Epoch 49/100\n",
      "760/760 [==============================] - 15s 20ms/step - loss: 0.0028 - accuracy: 0.9990 - val_loss: 0.0790 - val_accuracy: 0.9877\n",
      "Epoch 50/100\n",
      "760/760 [==============================] - 15s 20ms/step - loss: 0.0021 - accuracy: 0.9994 - val_loss: 0.0638 - val_accuracy: 0.9905\n",
      "Epoch 51/100\n",
      "760/760 [==============================] - 15s 20ms/step - loss: 0.0040 - accuracy: 0.9985 - val_loss: 0.1081 - val_accuracy: 0.9830\n",
      "Epoch 52/100\n",
      "760/760 [==============================] - 15s 20ms/step - loss: 0.0035 - accuracy: 0.9987 - val_loss: 0.0596 - val_accuracy: 0.9918\n",
      "Epoch 53/100\n",
      "760/760 [==============================] - 15s 20ms/step - loss: 0.0021 - accuracy: 0.9996 - val_loss: 0.0862 - val_accuracy: 0.9858\n",
      "Epoch 54/100\n",
      "760/760 [==============================] - 15s 20ms/step - loss: 0.0022 - accuracy: 0.9992 - val_loss: 0.0844 - val_accuracy: 0.9860\n",
      "Epoch 55/100\n",
      "760/760 [==============================] - 15s 20ms/step - loss: 0.0054 - accuracy: 0.9984 - val_loss: 0.0667 - val_accuracy: 0.9890\n",
      "Epoch 56/100\n",
      "760/760 [==============================] - 15s 20ms/step - loss: 0.0016 - accuracy: 0.9994 - val_loss: 0.0722 - val_accuracy: 0.9890\n",
      "Epoch 57/100\n",
      "760/760 [==============================] - 15s 20ms/step - loss: 0.0023 - accuracy: 0.9992 - val_loss: 0.0617 - val_accuracy: 0.9898\n",
      "Epoch 58/100\n",
      "760/760 [==============================] - 15s 20ms/step - loss: 0.0028 - accuracy: 0.9991 - val_loss: 0.0792 - val_accuracy: 0.9895\n",
      "Epoch 59/100\n",
      "760/760 [==============================] - 15s 20ms/step - loss: 0.0021 - accuracy: 0.9994 - val_loss: 0.0764 - val_accuracy: 0.9883\n",
      "Epoch 60/100\n",
      "760/760 [==============================] - 15s 20ms/step - loss: 0.0027 - accuracy: 0.9992 - val_loss: 0.0775 - val_accuracy: 0.9912\n",
      "Epoch 61/100\n",
      "760/760 [==============================] - 15s 20ms/step - loss: 0.0018 - accuracy: 0.9994 - val_loss: 0.0668 - val_accuracy: 0.9902\n",
      "Epoch 62/100\n",
      "760/760 [==============================] - 15s 20ms/step - loss: 0.0013 - accuracy: 0.9995 - val_loss: 0.2940 - val_accuracy: 0.9553\n",
      "Epoch 63/100\n",
      "760/760 [==============================] - 15s 20ms/step - loss: 0.0035 - accuracy: 0.9988 - val_loss: 0.0962 - val_accuracy: 0.9815\n",
      "Epoch 64/100\n",
      "760/760 [==============================] - 15s 20ms/step - loss: 0.0025 - accuracy: 0.9991 - val_loss: 0.0822 - val_accuracy: 0.9872\n",
      "Epoch 65/100\n",
      "760/760 [==============================] - 15s 20ms/step - loss: 0.0016 - accuracy: 0.9996 - val_loss: 0.0689 - val_accuracy: 0.9908\n",
      "Epoch 66/100\n",
      "760/760 [==============================] - 15s 20ms/step - loss: 0.0022 - accuracy: 0.9993 - val_loss: 0.0747 - val_accuracy: 0.9902\n",
      "Epoch 67/100\n",
      "760/760 [==============================] - 15s 20ms/step - loss: 0.0019 - accuracy: 0.9995 - val_loss: 0.0733 - val_accuracy: 0.9890\n",
      "Epoch 68/100\n",
      "760/760 [==============================] - 15s 20ms/step - loss: 0.0027 - accuracy: 0.9992 - val_loss: 0.0791 - val_accuracy: 0.9877\n",
      "Epoch 69/100\n",
      "760/760 [==============================] - 15s 20ms/step - loss: 0.0014 - accuracy: 0.9996 - val_loss: 0.3692 - val_accuracy: 0.9255\n",
      "Epoch 70/100\n",
      "760/760 [==============================] - 15s 20ms/step - loss: 0.0021 - accuracy: 0.9994 - val_loss: 0.0816 - val_accuracy: 0.9895\n",
      "Epoch 71/100\n",
      "760/760 [==============================] - 15s 20ms/step - loss: 0.0023 - accuracy: 0.9993 - val_loss: 0.0766 - val_accuracy: 0.9910\n",
      "Epoch 72/100\n",
      "760/760 [==============================] - 15s 20ms/step - loss: 0.0018 - accuracy: 0.9993 - val_loss: 0.0966 - val_accuracy: 0.9862\n",
      "Epoch 73/100\n",
      "760/760 [==============================] - 15s 20ms/step - loss: 0.0022 - accuracy: 0.9992 - val_loss: 0.0687 - val_accuracy: 0.9895\n",
      "Epoch 74/100\n",
      "760/760 [==============================] - 15s 20ms/step - loss: 0.0015 - accuracy: 0.9995 - val_loss: 0.0660 - val_accuracy: 0.9890\n",
      "Epoch 75/100\n",
      "760/760 [==============================] - 15s 20ms/step - loss: 9.7316e-04 - accuracy: 0.9997 - val_loss: 0.0722 - val_accuracy: 0.9918\n",
      "Epoch 76/100\n",
      "760/760 [==============================] - 15s 20ms/step - loss: 0.0011 - accuracy: 0.9997 - val_loss: 0.0726 - val_accuracy: 0.9870\n",
      "Epoch 77/100\n",
      "760/760 [==============================] - 15s 20ms/step - loss: 0.0031 - accuracy: 0.9990 - val_loss: 0.0682 - val_accuracy: 0.9858\n",
      "Epoch 78/100\n",
      "760/760 [==============================] - 15s 20ms/step - loss: 9.3460e-04 - accuracy: 0.9997 - val_loss: 0.0689 - val_accuracy: 0.9923\n",
      "Epoch 79/100\n",
      "760/760 [==============================] - 15s 20ms/step - loss: 0.0033 - accuracy: 0.9990 - val_loss: 0.0772 - val_accuracy: 0.9910\n",
      "Epoch 80/100\n",
      "760/760 [==============================] - 15s 20ms/step - loss: 7.4560e-04 - accuracy: 0.9998 - val_loss: 0.0747 - val_accuracy: 0.9895\n",
      "Epoch 81/100\n",
      "760/760 [==============================] - 15s 20ms/step - loss: 8.6381e-04 - accuracy: 0.9998 - val_loss: 0.0772 - val_accuracy: 0.9895\n",
      "Epoch 82/100\n",
      "760/760 [==============================] - 15s 20ms/step - loss: 0.0028 - accuracy: 0.9992 - val_loss: 0.0809 - val_accuracy: 0.9915\n",
      "Epoch 83/100\n",
      "760/760 [==============================] - 15s 20ms/step - loss: 0.0025 - accuracy: 0.9991 - val_loss: 0.0831 - val_accuracy: 0.9877\n",
      "Epoch 84/100\n",
      "760/760 [==============================] - 15s 20ms/step - loss: 0.0010 - accuracy: 0.9997 - val_loss: 0.1047 - val_accuracy: 0.9868\n",
      "Epoch 85/100\n",
      "760/760 [==============================] - 15s 20ms/step - loss: 0.0040 - accuracy: 0.9991 - val_loss: 0.0721 - val_accuracy: 0.9915\n",
      "Epoch 86/100\n",
      "760/760 [==============================] - 15s 20ms/step - loss: 2.4008e-04 - accuracy: 0.9999 - val_loss: 0.0753 - val_accuracy: 0.9902\n",
      "Epoch 87/100\n",
      "760/760 [==============================] - 15s 20ms/step - loss: 3.6328e-04 - accuracy: 0.9999 - val_loss: 0.0918 - val_accuracy: 0.9902\n",
      "Epoch 88/100\n",
      "760/760 [==============================] - 15s 20ms/step - loss: 0.0049 - accuracy: 0.9986 - val_loss: 0.0825 - val_accuracy: 0.9890\n",
      "Epoch 89/100\n",
      "760/760 [==============================] - 15s 20ms/step - loss: 6.2306e-04 - accuracy: 0.9998 - val_loss: 0.0789 - val_accuracy: 0.9912\n",
      "Epoch 90/100\n",
      "760/760 [==============================] - 15s 20ms/step - loss: 1.8696e-04 - accuracy: 1.0000 - val_loss: 0.0789 - val_accuracy: 0.9915\n",
      "Epoch 91/100\n",
      "760/760 [==============================] - 15s 20ms/step - loss: 1.0813e-04 - accuracy: 1.0000 - val_loss: 0.0829 - val_accuracy: 0.9908\n",
      "Epoch 92/100\n",
      "760/760 [==============================] - 15s 20ms/step - loss: 0.0035 - accuracy: 0.9989 - val_loss: 0.0798 - val_accuracy: 0.9880\n",
      "Epoch 93/100\n",
      "760/760 [==============================] - 15s 20ms/step - loss: 0.0015 - accuracy: 0.9996 - val_loss: 0.0739 - val_accuracy: 0.9898\n",
      "Epoch 94/100\n",
      "760/760 [==============================] - 15s 20ms/step - loss: 0.0021 - accuracy: 0.9994 - val_loss: 0.2131 - val_accuracy: 0.9707\n",
      "Epoch 95/100\n",
      "760/760 [==============================] - 15s 20ms/step - loss: 0.0012 - accuracy: 0.9995 - val_loss: 0.1545 - val_accuracy: 0.9712\n",
      "Epoch 96/100\n",
      "760/760 [==============================] - 15s 20ms/step - loss: 0.0017 - accuracy: 0.9993 - val_loss: 0.0769 - val_accuracy: 0.9890\n",
      "Epoch 97/100\n",
      "760/760 [==============================] - 15s 20ms/step - loss: 0.0016 - accuracy: 0.9995 - val_loss: 0.0817 - val_accuracy: 0.9900\n",
      "Epoch 98/100\n",
      "760/760 [==============================] - 15s 20ms/step - loss: 0.0015 - accuracy: 0.9996 - val_loss: 0.0725 - val_accuracy: 0.9895\n",
      "Epoch 99/100\n",
      "760/760 [==============================] - 15s 20ms/step - loss: 0.0010 - accuracy: 0.9997 - val_loss: 0.0777 - val_accuracy: 0.9902\n",
      "Epoch 100/100\n",
      "760/760 [==============================] - 15s 20ms/step - loss: 6.0062e-04 - accuracy: 0.9998 - val_loss: 0.0818 - val_accuracy: 0.9900\n"
     ]
    }
   ],
   "source": [
    "#%tensorflow_version 1.x   # 使用1.x版本的TF\n",
    " \n",
    "# 用CNN做序列特征提取\n",
    "import keras\n",
    "from scipy.io import loadmat\n",
    "import matplotlib.pyplot as plt \n",
    "import glob\n",
    "import numpy as np\n",
    "import pandas as pd\n",
    "import math\n",
    "import os\n",
    "import keras\n",
    "from keras.layers import *\n",
    "from keras.models import *\n",
    "from keras.objectives import *\n",
    "from sklearn.preprocessing import OneHotEncoder\n",
    " \n",
    " \n",
    "\"\"\"GPU设置为按需增长\"\"\"\n",
    "import os\n",
    "import tensorflow.compat.v1 as tf\n",
    "# from tensorflow.compat.v1 import ConfigProto\n",
    "from tensorflow.compat.v1.keras.backend import set_session\n",
    " \n",
    "os.environ[\"CUDA_VISIBLE_DEVICES\"] = \"0\" #有多个GPU时可以指定只使用第几号GPU\n",
    "config = tf.ConfigProto()\n",
    "config.allow_soft_placement=True #允许动态放置张量和操作符\n",
    "config.gpu_options.per_process_gpu_memory_fraction = 0.4 #最多使用40%GPU内存\n",
    "config.gpu_options.allow_growth=True   #初始化时不全部占满GPU显存, 按需分配 \n",
    "sess = tf.Session(config = config)\n",
    "set_session(sess)\n",
    " \n",
    "from keras import backend as K\n",
    " \n",
    " \n",
    "TIME_PERIODS = 205\n",
    "num_sensors = 1\n",
    "def build_model(input_shape=(TIME_PERIODS,num_sensors),num_classes=4):\n",
    "    model = Sequential()\n",
    "    # model.add(Reshape((TIME_PERIODS, num_sensors), input_shape=input_shape))\n",
    "    model.add(Conv1D(64, 8, strides=1, activation='relu',input_shape=input_shape))\n",
    "    model.add(BatchNormalization())\n",
    "    model.add(Conv1D(64, 8, strides=1, activation='relu',padding=\"same\"))     \n",
    "    model.add(BatchNormalization())\n",
    "    model.add(Conv1D(64, 8, strides=1, activation='relu',padding=\"same\"))     \n",
    "    model.add(BatchNormalization())\n",
    "    model.add(MaxPooling1D(2))  \n",
    "\n",
    "    model.add(Conv1D(128, 4, strides=1, activation='relu',input_shape=input_shape)) \n",
    "    model.add(BatchNormalization())\n",
    "    model.add(Conv1D(128, 4, strides=1, activation='relu',padding=\"same\"))     \n",
    "    model.add(BatchNormalization())\n",
    "    model.add(Conv1D(128, 4, strides=1, activation='relu',padding=\"same\"))     \n",
    "    model.add(BatchNormalization())\n",
    "    model.add(MaxPooling1D(2))   \n",
    "\n",
    "    model.add(Conv1D(256, 3,strides=1, activation='relu',padding=\"same\"))     \n",
    "    model.add(BatchNormalization())\n",
    "    model.add(Conv1D(256, 3,strides=1, activation='relu',padding=\"same\"))     \n",
    "    model.add(BatchNormalization())\n",
    "    model.add(Conv1D(256, 3,strides=1, activation='relu',padding=\"same\"))     \n",
    "    model.add(BatchNormalization())\n",
    "    model.add(MaxPooling1D(2))    \n",
    "\n",
    "    model.add(GlobalAveragePooling1D())                      \n",
    "    model.add(Dropout(0.3))\n",
    "    model.add(Dense(num_classes, activation='softmax'))           \n",
    "    return(model)\n",
    " \n",
    "K.clear_session()\n",
    " \n",
    "model_CNN = build_model(input_shape=(TIME_PERIODS,num_sensors),num_classes=4)\n",
    "callback = tf.keras.callbacks.EarlyStopping(monitor='loss', patience=50)\n",
    "# lr_schedule = keras.optimizers.schedules.ExponentialDecay(initial_learning_rate=1e-4, decay_steps=50, decay_rate=0.9)\n",
    "# optimizer = keras.optimizers.Adam(learning_rate=lr_schedule)\n",
    "model_CNN.compile(loss='sparse_categorical_crossentropy', optimizer='adam', metrics=['accuracy'])\n",
    "history = model_CNN.fit(X_train, y_train, epochs=100, batch_size=100, \\\n",
    "             validation_split =0.05, callbacks= [callback] )\n",
    "# model_CNN.save('/content/drive/MyDrive/CLF_of_ECG_signals/Result_Submission/Model/CNN_ECG_0501.h5')"
   ]
  },
  {
   "cell_type": "code",
   "execution_count": null,
   "metadata": {
    "colab": {
     "base_uri": "https://localhost:8080/"
    },
    "executionInfo": {
     "elapsed": 96270,
     "status": "ok",
     "timestamp": 1621238340834,
     "user": {
      "displayName": "Chuanchao Xu",
      "photoUrl": "",
      "userId": "08016207472332924278"
     },
     "user_tz": -480
    },
    "id": "NaPpzMK2pagx",
    "outputId": "df6497c1-e97b-490a-8266-b108ae6126f9"
   },
   "outputs": [
    {
     "name": "stdout",
     "output_type": "stream",
     "text": [
      "Epoch 1/5\n",
      "1440/1440 [==============================] - 21s 13ms/step - loss: 0.0014 - accuracy: 0.9996 - val_loss: 0.0403 - val_accuracy: 0.9959\n",
      "Epoch 2/5\n",
      "1440/1440 [==============================] - 18s 13ms/step - loss: 8.2069e-04 - accuracy: 0.9998 - val_loss: 0.0398 - val_accuracy: 0.9959\n",
      "Epoch 3/5\n",
      "1440/1440 [==============================] - 19s 13ms/step - loss: 0.0010 - accuracy: 0.9996 - val_loss: 0.0400 - val_accuracy: 0.9959\n",
      "Epoch 4/5\n",
      "1440/1440 [==============================] - 19s 13ms/step - loss: 0.0020 - accuracy: 0.9996 - val_loss: 0.0401 - val_accuracy: 0.9959\n",
      "Epoch 5/5\n",
      "1440/1440 [==============================] - 19s 13ms/step - loss: 0.0011 - accuracy: 0.9996 - val_loss: 0.0400 - val_accuracy: 0.9959\n"
     ]
    }
   ],
   "source": [
    "import tensorflow as tf\n",
    "callback = tf.keras.callbacks.EarlyStopping(monitor='val_accuracy', patience=30)\n",
    "lr_schedule = keras.optimizers.schedules.ExponentialDecay(initial_learning_rate=1e-5, decay_steps=25, decay_rate=0.0)\n",
    "optimizer = keras.optimizers.Adam(learning_rate=lr_schedule)\n",
    "model_CNN.compile(loss='sparse_categorical_crossentropy', optimizer=optimizer, metrics=['accuracy'])\n",
    "history = model_CNN.fit(X_train, y_train, epochs=5, batch_size=50, \\\n",
    "             validation_split =0.1, callbacks= [callback] )\n",
    "model_CNN.save('/content/drive/MyDrive/CLF_of_ECG_signals/Result_Submission/Model/CNN_ECG_0517.h5')"
   ]
  },
  {
   "cell_type": "code",
   "execution_count": null,
   "metadata": {
    "colab": {
     "base_uri": "https://localhost:8080/"
    },
    "executionInfo": {
     "elapsed": 166187,
     "status": "ok",
     "timestamp": 1621232903342,
     "user": {
      "displayName": "Chuanchao Xu",
      "photoUrl": "",
      "userId": "08016207472332924278"
     },
     "user_tz": -480
    },
    "id": "t-9sfYwJpxRC",
    "outputId": "e3bf49a4-bbb7-4ecb-b256-d46d0418baf4"
   },
   "outputs": [
    {
     "name": "stdout",
     "output_type": "stream",
     "text": [
      "Epoch 1/20\n",
      "760/760 [==============================] - 10s 11ms/step - loss: 0.0012 - accuracy: 0.9997 - val_loss: 0.0896 - val_accuracy: 0.9908\n",
      "Epoch 2/20\n",
      "760/760 [==============================] - 8s 11ms/step - loss: 0.0015 - accuracy: 0.9995 - val_loss: 0.0896 - val_accuracy: 0.9910\n",
      "Epoch 3/20\n",
      "760/760 [==============================] - 8s 11ms/step - loss: 6.4382e-04 - accuracy: 0.9999 - val_loss: 0.0889 - val_accuracy: 0.9908\n",
      "Epoch 4/20\n",
      "760/760 [==============================] - 8s 11ms/step - loss: 7.6716e-04 - accuracy: 0.9997 - val_loss: 0.0896 - val_accuracy: 0.9908\n",
      "Epoch 5/20\n",
      "760/760 [==============================] - 8s 11ms/step - loss: 4.9322e-04 - accuracy: 0.9999 - val_loss: 0.0897 - val_accuracy: 0.9910\n",
      "Epoch 6/20\n",
      "760/760 [==============================] - 8s 11ms/step - loss: 4.9115e-04 - accuracy: 0.9999 - val_loss: 0.0897 - val_accuracy: 0.9912\n",
      "Epoch 7/20\n",
      "760/760 [==============================] - 8s 11ms/step - loss: 4.0269e-04 - accuracy: 0.9999 - val_loss: 0.0900 - val_accuracy: 0.9912\n",
      "Epoch 8/20\n",
      "760/760 [==============================] - 8s 11ms/step - loss: 4.1309e-04 - accuracy: 0.9999 - val_loss: 0.0902 - val_accuracy: 0.9912\n",
      "Epoch 9/20\n",
      "760/760 [==============================] - 8s 11ms/step - loss: 4.2052e-04 - accuracy: 0.9999 - val_loss: 0.0899 - val_accuracy: 0.9910\n",
      "Epoch 10/20\n",
      "760/760 [==============================] - 8s 11ms/step - loss: 3.7685e-04 - accuracy: 0.9999 - val_loss: 0.0906 - val_accuracy: 0.9912\n",
      "Epoch 11/20\n",
      "760/760 [==============================] - 8s 11ms/step - loss: 3.8382e-04 - accuracy: 0.9999 - val_loss: 0.0906 - val_accuracy: 0.9912\n",
      "Epoch 12/20\n",
      "760/760 [==============================] - 8s 11ms/step - loss: 3.8264e-04 - accuracy: 0.9999 - val_loss: 0.0904 - val_accuracy: 0.9912\n",
      "Epoch 13/20\n",
      "760/760 [==============================] - 8s 11ms/step - loss: 2.9925e-04 - accuracy: 0.9999 - val_loss: 0.0902 - val_accuracy: 0.9912\n",
      "Epoch 14/20\n",
      "760/760 [==============================] - 8s 11ms/step - loss: 3.2994e-04 - accuracy: 0.9999 - val_loss: 0.0901 - val_accuracy: 0.9912\n",
      "Epoch 15/20\n",
      "760/760 [==============================] - 8s 11ms/step - loss: 2.1780e-04 - accuracy: 1.0000 - val_loss: 0.0911 - val_accuracy: 0.9912\n",
      "Epoch 16/20\n",
      "760/760 [==============================] - 8s 11ms/step - loss: 2.7390e-04 - accuracy: 1.0000 - val_loss: 0.0907 - val_accuracy: 0.9912\n",
      "Epoch 17/20\n",
      "760/760 [==============================] - 8s 11ms/step - loss: 1.9992e-04 - accuracy: 1.0000 - val_loss: 0.0909 - val_accuracy: 0.9912\n",
      "Epoch 18/20\n",
      "760/760 [==============================] - 8s 11ms/step - loss: 2.3185e-04 - accuracy: 1.0000 - val_loss: 0.0907 - val_accuracy: 0.9912\n",
      "Epoch 19/20\n",
      "760/760 [==============================] - 8s 11ms/step - loss: 2.3693e-04 - accuracy: 1.0000 - val_loss: 0.0914 - val_accuracy: 0.9912\n",
      "Epoch 20/20\n",
      "760/760 [==============================] - 8s 11ms/step - loss: 2.2088e-04 - accuracy: 0.9999 - val_loss: 0.0915 - val_accuracy: 0.9912\n"
     ]
    }
   ],
   "source": [
    "from keras.models import load_model\n",
    "import keras\n",
    "# path_model = '/content/drive/MyDrive/CLF_of_ECG_signals/Result_Submission/Model/CNN_ECG_0509.h5'\n",
    "# model_CNN = load_model(path_model)\n",
    "optimizer = keras.optimizers.Adam(lr=1e-5, beta_1=0.9, beta_2=0.99, epsilon=1e-08, decay=0.0)\n",
    "model_CNN.compile(loss='sparse_categorical_crossentropy', optimizer=optimizer, metrics=['accuracy'])\n",
    "history = model_CNN.fit(X_train, y_train, epochs=20, batch_size=100,  validation_split =0.05)\n",
    "# 500 + \n",
    "# model_CNN.save('/content/drive/MyDrive/CLF_of_ECG_signals/Result_Submission/Model/CNN_ECG_0430.h5')"
   ]
  },
  {
   "cell_type": "code",
   "execution_count": null,
   "metadata": {
    "colab": {
     "base_uri": "https://localhost:8080/"
    },
    "id": "uTpGeuGOq7Df",
    "outputId": "b3ca2bf7-65d3-4dea-9a00-61cd4aadc965"
   },
   "outputs": [
    {
     "name": "stderr",
     "output_type": "stream",
     "text": [
      "/usr/local/lib/python3.7/dist-packages/tensorflow/python/keras/engine/sequential.py:450: UserWarning: `model.predict_classes()` is deprecated and will be removed after 2021-01-01. Please use instead:* `np.argmax(model.predict(x), axis=-1)`,   if your model does multi-class classification   (e.g. if it uses a `softmax` last-layer activation).* `(model.predict(x) > 0.5).astype(\"int32\")`,   if your model does binary classification   (e.g. if it uses a `sigmoid` last-layer activation).\n",
      "  warnings.warn('`model.predict_classes()` is deprecated and '\n"
     ]
    }
   ],
   "source": [
    "from sklearn.preprocessing import OneHotEncoder\n",
    "from keras.models import load_model\n",
    "def feval_abs_sum(preds, labels):  # 导入的都是稀疏标签\n",
    "  score_for_Competition = 0\n",
    "  for i in range(preds.shape[0]):\n",
    "    if preds[i] != np.array(labels)[i]:\n",
    "      score_for_Competition += 2\n",
    "  return score_for_Competition\n",
    " \n",
    "model_CNN = load_model('/content/drive/MyDrive/CLF_of_ECG_signals/Result_Submission/Model/CNN_ECG_0517.h5')\n",
    "y_pred = model_CNN.predict_classes(X_val)  # 亦可用predict_proba函数得到各类别的预测概率（PS：不需要转换为OneHot code)\n",
    "# print(y_pred)\n",
    "# print(y_val)\n",
    "score_for_Competition = feval_abs_sum(y_pred, y_val)\n",
    "print('预计上榜得分:',score_for_Competition*0.8)\n",
    " \n",
    " \n",
    "# 以该CNN_1D结构计算30步后得到score_for_Competition为904，明显次于lightGBM的531.2， 记录于2021/04/22/01:03，模型名称: CNN_ECG_0422.h5\n",
    "# 以该CNN_1D结构计算30步后得到score_for_Competition为634，次于lightGBM的531.2， 记录于2021/04/22/03:47，模型名称: CNN_ECG_0422_1.h5\n",
    "# 以该CNN_1D结构计算200步后得到score_for_Competition为576，次于lightGBM的531.2， 记录于2021/04/27/23:47，模型名称: CNN_ECG_0427.h5"
   ]
  },
  {
   "cell_type": "code",
   "execution_count": null,
   "metadata": {
    "colab": {
     "base_uri": "https://localhost:8080/"
    },
    "executionInfo": {
     "elapsed": 35204,
     "status": "ok",
     "timestamp": 1619798033375,
     "user": {
      "displayName": "Chuanchao Xu",
      "photoUrl": "",
      "userId": "08016207472332924278"
     },
     "user_tz": -480
    },
    "id": "JBd938DLEeLN",
    "outputId": "5586dfab-e5dd-4f05-887c-022170721136"
   },
   "outputs": [
    {
     "name": "stdout",
     "output_type": "stream",
     "text": [
      "********************************* 1 *********************************\n"
     ]
    },
    {
     "name": "stderr",
     "output_type": "stream",
     "text": [
      "/usr/local/lib/python3.7/dist-packages/tensorflow/python/keras/engine/sequential.py:450: UserWarning: `model.predict_classes()` is deprecated and will be removed after 2021-01-01. Please use instead:* `np.argmax(model.predict(x), axis=-1)`,   if your model does multi-class classification   (e.g. if it uses a `softmax` last-layer activation).* `(model.predict(x) > 0.5).astype(\"int32\")`,   if your model does binary classification   (e.g. if it uses a `sigmoid` last-layer activation).\n",
      "  warnings.warn('`model.predict_classes()` is deprecated and '\n"
     ]
    },
    {
     "name": "stdout",
     "output_type": "stream",
     "text": [
      "score_for_Competition: 84\n",
      "********************************* 2 *********************************\n",
      "score_for_Competition: 94\n",
      "********************************* 3 *********************************\n",
      "score_for_Competition: 80\n",
      "********************************* 4 *********************************\n",
      "score_for_Competition: 70\n",
      "********************************* 5 *********************************\n",
      "score_for_Competition: 66\n",
      "[84, 94, 80, 70, 66]\n",
      "CNN_1D_score_KFoldtrain_list:[84, 94, 80, 70, 66]\n",
      "CNN_1D_score_mean:78.8\n",
      "CNN_1D_score_std:10.007996802557443\n"
     ]
    }
   ],
   "source": [
    "# 加载模型\n",
    "from keras.models import load_model\n",
    "from sklearn.model_selection import KFold\n",
    "# model_path = '/content/drive/MyDrive/CLF_of_ECG_signals/Result_Submission/Model/CNN_ECG_0430.h5'\n",
    "# model_CNN = load_model(model_path)\n",
    "\n",
    "\n",
    "from sklearn.preprocessing import OneHotEncoder\n",
    "def feval_abs_sum(preds, labels):  # 导入的都是稀疏标签\n",
    "  score_for_Competition = 0\n",
    "  for i in range(preds.shape[0]):\n",
    "    if preds[i] != np.array(labels)[i]:\n",
    "      score_for_Competition += 2\n",
    "  return score_for_Competition\n",
    "\n",
    "\n",
    "# 5KFold验证\n",
    "import keras\n",
    "### 使用5折交叉验证进行模型性能评估\n",
    "'''使用lightgbm 5折交叉验证进行建模预测'''\n",
    "def KFold_Validation(features, labels):\n",
    "  cv_scores = []\n",
    "  kf = KFold(n_splits=5, shuffle=True, random_state=1)\n",
    "  for i, (train_index, valid_index) in enumerate(kf.split(features, labels)):\n",
    "    print('********************************* {} *********************************'.format(str(i+1)))\n",
    "    X_train_, y_train_, X_val_, y_val_ = \\\n",
    "    features.iloc[train_index], labels[train_index], features.iloc[valid_index], labels[valid_index]\n",
    "\n",
    "    X_train_ = X_train_.values.reshape(X_train_.shape[0],X_train_.shape[1],1)\n",
    "    X_val_ = X_val_.values.reshape(X_val_.shape[0],X_val_.shape[1],1)\n",
    "    y_train_ = y_train_.values.reshape(y_train_.shape[0],1)\n",
    "    y_val_ = y_val_.values.reshape(y_val_.shape[0],1)\n",
    "\n",
    "    # optimizer = keras.optimizers.Adam(lr=1e-9, beta_1=0.9, beta_2=0.99, epsilon=1e-08, decay=0.0)\n",
    "    # model_CNN.compile(loss='sparse_categorical_crossentropy', optimizer=optimizer, metrics=['accuracy'])\n",
    "    # history = model_CNN.fit(X_train, y_train, epochs=5, batch_size=36,  validation_split =0.05)\n",
    "    \n",
    "    y_pred_ = model_CNN.predict_classes(X_val_)  \n",
    "    # print(y_pred)\n",
    "    # print(y_val)\n",
    "    score_for_Competition = feval_abs_sum(y_pred_, y_val_)\n",
    "    print('score_for_Competition:',score_for_Competition)\n",
    "    cv_scores.append(score_for_Competition)\n",
    "\n",
    "\n",
    "  print(cv_scores)\n",
    "  print('CNN_1D_score_KFoldtrain_list:{}'.format(cv_scores))\n",
    "  print('CNN_1D_score_mean:{}'.format(np.mean(cv_scores)))\n",
    "  print('CNN_1D_score_std:{}'.format(np.std(cv_scores)))\n",
    "\n",
    "  return None\n",
    "\n",
    "KFold_Validation(features, labels)\n",
    "\n",
    "\n",
    "\n",
    "# time_cost: 14分54秒\n"
   ]
  },
  {
   "cell_type": "code",
   "execution_count": null,
   "metadata": {
    "id": "guyQyvvnREiK"
   },
   "outputs": [],
   "source": [
    "model_CNN.save('/content/drive/MyDrive/CLF_of_ECG_signals/Result_Submission/Model/CNN_ECG_0429_1.h5')"
   ]
  },
  {
   "cell_type": "code",
   "execution_count": null,
   "metadata": {
    "colab": {
     "base_uri": "https://localhost:8080/"
    },
    "executionInfo": {
     "elapsed": 9565,
     "status": "ok",
     "timestamp": 1621238401017,
     "user": {
      "displayName": "Chuanchao Xu",
      "photoUrl": "",
      "userId": "08016207472332924278"
     },
     "user_tz": -480
    },
    "id": "2LR2TB36Pkzk",
    "outputId": "54329bd2-765f-4e41-9603-052ccd8308e9"
   },
   "outputs": [
    {
     "name": "stdout",
     "output_type": "stream",
     "text": [
      "Memory usage of dataframe is 31.28 MB\n",
      "Memory usage after optimization is: 7.82 MB\n",
      "Decreased by 75.0%\n",
      "<class 'numpy.ndarray'> (75000, 205, 1)\n",
      "<class 'numpy.ndarray'> (25000, 205, 1)\n",
      "<class 'numpy.ndarray'> (75000, 1)\n",
      "<class 'numpy.ndarray'> (25000, 1)\n",
      "<class 'numpy.ndarray'> (20000, 205, 1)\n"
     ]
    },
    {
     "name": "stderr",
     "output_type": "stream",
     "text": [
      "/usr/local/lib/python3.7/dist-packages/tensorflow/python/keras/engine/sequential.py:450: UserWarning: `model.predict_classes()` is deprecated and will be removed after 2021-01-01. Please use instead:* `np.argmax(model.predict(x), axis=-1)`,   if your model does multi-class classification   (e.g. if it uses a `softmax` last-layer activation).* `(model.predict(x) > 0.5).astype(\"int32\")`,   if your model does binary classification   (e.g. if it uses a `sigmoid` last-layer activation).\n",
      "  warnings.warn('`model.predict_classes()` is deprecated and '\n"
     ]
    },
    {
     "name": "stdout",
     "output_type": "stream",
     "text": [
      "score_for_Competition in Train_Dataset: 94\n",
      "验证集预测准确率： 0.99812\n",
      "[0 2 3 ... 2 0 0]\n"
     ]
    }
   ],
   "source": [
    "# 输出预测结果\n",
    "X_test = pd.read_csv('/content/drive/MyDrive/CLF_of_ECG_signals/Data/testA.csv')\n",
    "\n",
    "# X_test处理\n",
    "X_test_list = []\n",
    "for item in X_test.values:\n",
    "  X_test_list.append([item[0]] + [float(i) for i in item[1].split(',')])\n",
    "X_test = pd.DataFrame(np.array(X_test_list))\n",
    "X_test.columns = ['id'] + ['s_' + str(i) for i in range(len(data_list[0])-2)]\n",
    "X_test = X_test.drop(['id'], axis=1)\n",
    "X_test = reduce_mem_usage(X_test)\n",
    "\n",
    "\n",
    "# 划分X_train, X_val, y_train, y_val\n",
    "from sklearn.model_selection import train_test_split\n",
    "X_train, X_val, y_train, y_val = train_test_split(features, labels)\n",
    "\n",
    "# 导入模型前预处理\n",
    "X_train = X_train.values.reshape(X_train.shape[0],X_train.shape[1],1)\n",
    "X_val = X_val.values.reshape(X_val.shape[0],X_val.shape[1],1)\n",
    "y_train = y_train.values.reshape(y_train.shape[0],1)\n",
    "y_val = y_val.values.reshape(y_val.shape[0],1)\n",
    "X_test = X_test.values.reshape(X_test.shape[0],X_test.shape[1],1)\n",
    "\n",
    "print(type(X_train),X_train.shape)\n",
    "print(type(X_val),X_val.shape)\n",
    "print(type(y_train),y_train.shape)\n",
    "print(type(y_val),y_val.shape)\n",
    "print(type(X_test),X_test.shape)\n",
    "\n",
    "\n",
    "# 验证集上预测\n",
    "val_pred = model_CNN.predict_classes(X_val.reshape(X_val.shape[0], X_val.shape[1],1))\n",
    "# val_pred_Stacking = np.argmax(val_pred_Stacking,axis=1)\n",
    "score_for_Competition = feval_abs_sum(val_pred, y_val)  # 注意区分y_true和y_val\n",
    "print('score_for_Competition in Train_Dataset:',score_for_Competition)\n",
    "sum = 0\n",
    "for i in range(y_val.shape[0]):\n",
    "  if val_pred[i] == np.array(y_val)[i]:\n",
    "    sum += 1\n",
    "\n",
    "print('验证集预测准确率：', float(sum/y_val.shape[0]))\n",
    "\n",
    "\n",
    "# 测试集上预测\n",
    "test_pred = model_CNN.predict_classes(X_test.reshape(X_test.shape[0], X_test.shape[1],1))\n",
    "# test_pred_Stacking = np.argmax(test_pred_Stacking,axis=1)\n",
    "print(test_pred)"
   ]
  },
  {
   "cell_type": "code",
   "execution_count": null,
   "metadata": {
    "colab": {
     "base_uri": "https://localhost:8080/"
    },
    "executionInfo": {
     "elapsed": 9925,
     "status": "ok",
     "timestamp": 1619798113410,
     "user": {
      "displayName": "Chuanchao Xu",
      "photoUrl": "",
      "userId": "08016207472332924278"
     },
     "user_tz": -480
    },
    "id": "5f5VgqCkP2XJ",
    "outputId": "116a6fc7-b5ef-4ede-aa6c-4191ab5c72c9"
   },
   "outputs": [
    {
     "name": "stdout",
     "output_type": "stream",
     "text": [
      "[[1. 0. 0. 0.]\n",
      " [0. 0. 1. 0.]\n",
      " [0. 0. 0. 1.]\n",
      " ...\n",
      " [1. 0. 0. 0.]\n",
      " [1. 0. 0. 0.]\n",
      " [1. 0. 0. 0.]]\n",
      "           id  label_0  label_1  label_2  label_3\n",
      "0      100000      1.0      0.0      0.0      0.0\n",
      "1      100001      0.0      0.0      1.0      0.0\n",
      "2      100002      0.0      0.0      0.0      1.0\n",
      "3      100003      1.0      0.0      0.0      0.0\n",
      "4      100004      1.0      0.0      0.0      0.0\n",
      "...       ...      ...      ...      ...      ...\n",
      "19995  119995      1.0      0.0      0.0      0.0\n",
      "19996  119996      1.0      0.0      0.0      0.0\n",
      "19997  119997      1.0      0.0      0.0      0.0\n",
      "19998  119998      1.0      0.0      0.0      0.0\n",
      "19999  119999      1.0      0.0      0.0      0.0\n",
      "\n",
      "[20000 rows x 5 columns]\n"
     ]
    }
   ],
   "source": [
    "y_preds_subm = test_pred\n",
    "onehot_encoder = OneHotEncoder(sparse=False)\n",
    "y_preds_subm = onehot_encoder.fit_transform(y_preds_subm.reshape(y_preds_subm.shape[0],1))\n",
    "print(y_preds_subm)\n",
    "\n",
    "result=pd.read_csv('/content/drive/MyDrive/CLF_of_ECG_signals/Data/sample_submit.csv')\n",
    "result['label_0']=y_preds_subm[:,0]\n",
    "result['label_1']=y_preds_subm[:,1]\n",
    "result['label_2']=y_preds_subm[:,2]\n",
    "result['label_3']=y_preds_subm[:,3]\n",
    "print(result)\n",
    "result.to_csv('/content/drive/MyDrive/CLF_of_ECG_signals/Result_Submission/submit.csv',index=False)\n"
   ]
  },
  {
   "cell_type": "markdown",
   "metadata": {
    "id": "Uq6hkHo_YCMl"
   },
   "source": [
    "# Reference"
   ]
  },
  {
   "cell_type": "code",
   "execution_count": null,
   "metadata": {
    "id": "Nf9uXQdBYG9A"
   },
   "outputs": [],
   "source": [
    "class ConvMode(Model):\n",
    "    def __init__(self,dp=0.3):\n",
    "        super(ConvMode, self).__init__()\n",
    "\n",
    "        # 1维卷积综合提取特征\n",
    "        self.conv1 = Sequential([\n",
    "            layers.Conv1D(filters=32, kernel_size=15, strides=1, padding='same'),\n",
    "            layers.BatchNormalization(),\n",
    "            layers.LeakyReLU(0.2)\n",
    "        ])\n",
    "        self.dropout_c1 = layers.Dropout(dp)\n",
    "        self.conv2 = Sequential([\n",
    "            layers.Conv1D(filters=32, kernel_size=15, strides=1, padding='same'),\n",
    "            layers.BatchNormalization(),\n",
    "            layers.LeakyReLU(0.2)\n",
    "        ])\n",
    "        self.dropout_c2 = layers.Dropout(dp)\n",
    "        # 1维卷积综合提取特征+降维\n",
    "        self.conv3 = Sequential([\n",
    "            layers.Conv1D(filters=128, kernel_size=5, strides=5, padding='valid'),\n",
    "            layers.BatchNormalization(),\n",
    "            layers.LeakyReLU(0.2)\n",
    "        ])\n",
    "        self.dropout_c3 = layers.Dropout(dp)\n",
    "        # 1维卷积综合提取特征\n",
    "        self.conv4 = Sequential([\n",
    "            layers.Conv1D(filters=128, kernel_size=7, strides=1, padding='same'),\n",
    "            layers.BatchNormalization(),\n",
    "            layers.LeakyReLU(0.2)\n",
    "        ])\n",
    "        self.dropout_c4 = layers.Dropout(dp)\n",
    "        self.conv5 = Sequential([\n",
    "            layers.Conv1D(filters=128, kernel_size=7, strides=1, padding='same'),\n",
    "            layers.BatchNormalization(),\n",
    "            layers.LeakyReLU(0.2)\n",
    "        ])\n",
    "        self.dropout_c5 = layers.Dropout(dp)\n",
    "        # 1维卷积综合提取特征+降维\n",
    "        self.conv6 = Sequential([\n",
    "            layers.Conv1D(filters=128, kernel_size=6, strides=6, padding='valid'),\n",
    "            layers.BatchNormalization(),\n",
    "            layers.LeakyReLU(0.2)\n",
    "        ])\n",
    "        self.flatten = layers.Flatten()\n",
    "        # 最终作出预测\n",
    "        self.fc = Sequential([\n",
    "            layers.Dense(4),\n",
    "            layers.Activation('softmax')\n",
    "        ])\n",
    "\n",
    "    def call(self, inputs, training=None, mask=None):\n",
    "\n",
    "        x = self.conv1(inputs)\n",
    "        x = self.dropout_c1(x, training=training)\n",
    "        x = self.conv2(x)\n",
    "        x = self.dropout_c2(x, training=training)\n",
    "        x = self.conv3(x)\n",
    "        x = self.dropout_c3(x, training=training)\n",
    "        x = self.conv4(x)\n",
    "        x = self.dropout_c4(x, training=training)\n",
    "        x = self.conv5(x)\n",
    "        x = self.dropout_c5(x, training=training)\n",
    "        x = self.conv6(x)\n",
    "        x = self.flatten(x)\n",
    "        x = self.fc(x)\n",
    "        return x"
   ]
  }
 ],
 "metadata": {
  "accelerator": "GPU",
  "colab": {
   "collapsed_sections": [
    "3nJUeWa5FTOP",
    "UC-mcP9y6yTr"
   ],
   "name": "验证计算",
   "provenance": [],
   "toc_visible": true
  },
  "kernelspec": {
   "display_name": "Python 3",
   "language": "python",
   "name": "python3"
  },
  "language_info": {
   "codemirror_mode": {
    "name": "ipython",
    "version": 3
   },
   "file_extension": ".py",
   "mimetype": "text/x-python",
   "name": "python",
   "nbconvert_exporter": "python",
   "pygments_lexer": "ipython3",
   "version": "3.7.3"
  },
  "toc": {
   "base_numbering": 1,
   "nav_menu": {},
   "number_sections": true,
   "sideBar": true,
   "skip_h1_title": false,
   "title_cell": "Table of Contents",
   "title_sidebar": "Contents",
   "toc_cell": false,
   "toc_position": {},
   "toc_section_display": true,
   "toc_window_display": true
  },
  "varInspector": {
   "cols": {
    "lenName": 16,
    "lenType": 16,
    "lenVar": 40
   },
   "kernels_config": {
    "python": {
     "delete_cmd_postfix": "",
     "delete_cmd_prefix": "del ",
     "library": "var_list.py",
     "varRefreshCmd": "print(var_dic_list())"
    },
    "r": {
     "delete_cmd_postfix": ") ",
     "delete_cmd_prefix": "rm(",
     "library": "var_list.r",
     "varRefreshCmd": "cat(var_dic_list()) "
    }
   },
   "types_to_exclude": [
    "module",
    "function",
    "builtin_function_or_method",
    "instance",
    "_Feature"
   ],
   "window_display": false
  }
 },
 "nbformat": 4,
 "nbformat_minor": 1
}

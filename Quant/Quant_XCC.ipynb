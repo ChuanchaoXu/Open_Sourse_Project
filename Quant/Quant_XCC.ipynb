{
 "cells": [
  {
   "cell_type": "markdown",
   "metadata": {
    "id": "bG_cp846ON8c"
   },
   "source": [
    "# 量化交易"
   ]
  },
  {
   "cell_type": "markdown",
   "metadata": {
    "id": "3NqBYxO4OTTv"
   },
   "source": [
    "<img src=\"https://pic2.zhimg.com/80/2b4b2c9286b5268255299cda9f74d34d_720w.jpg\" >"
   ]
  },
  {
   "cell_type": "markdown",
   "metadata": {
    "id": "hV1s93aLO-dw"
   },
   "source": [
    "## 输入"
   ]
  },
  {
   "cell_type": "markdown",
   "metadata": {
    "id": "um-WAJ4HPBO5"
   },
   "source": [
    "### 行情数据\n",
    "\n",
    "先用行情数据进行预测，有了充足的财经知识了再嵌入财务数据、投资经验（值）和自定义数据。\n",
    "\n",
    "获得全部股票的日线数据（tushare只能提供到日线，分钟级数据得从通达信客户端手动下载）"
   ]
  },
  {
   "cell_type": "markdown",
   "metadata": {
    "id": "Lajj7RhX7_tU"
   },
   "source": [
    "#### By *Tushare*\n",
    "通过tushare获取个股和全部股票的日线行情/周线行情/月线行情"
   ]
  },
  {
   "cell_type": "code",
   "execution_count": 1,
   "metadata": {
    "colab": {
     "base_uri": "https://localhost:8080/"
    },
    "executionInfo": {
     "elapsed": 5790,
     "status": "ok",
     "timestamp": 1620334626436,
     "user": {
      "displayName": "Chuanchao Xu",
      "photoUrl": "",
      "userId": "08016207472332924278"
     },
     "user_tz": -480
    },
    "id": "RE5GBZ0CPFOz",
    "outputId": "95fcb785-e871-45dc-b1b7-e8403d929a0e"
   },
   "outputs": [
    {
     "name": "stdout",
     "output_type": "stream",
     "text": [
      "Collecting tushare\n",
      "\u001b[?25l  Downloading https://files.pythonhosted.org/packages/17/76/dc6784a1c07ec040e748c8e552a92e8f4bdc9f3e0e42c65699efcfee032b/tushare-1.2.62-py3-none-any.whl (214kB)\n",
      "\u001b[K     |████████████████████████████████| 215kB 12.1MB/s \n",
      "\u001b[?25hCollecting simplejson>=3.16.0\n",
      "\u001b[?25l  Downloading https://files.pythonhosted.org/packages/a8/04/377418ac1e530ce2a196b54c6552c018fdf1fe776718053efb1f216bffcd/simplejson-3.17.2-cp37-cp37m-manylinux2010_x86_64.whl (128kB)\n",
      "\u001b[K     |████████████████████████████████| 133kB 22.2MB/s \n",
      "\u001b[?25hRequirement already satisfied: bs4>=0.0.1 in /usr/local/lib/python3.7/dist-packages (from tushare) (0.0.1)\n",
      "Requirement already satisfied: lxml>=3.8.0 in /usr/local/lib/python3.7/dist-packages (from tushare) (4.2.6)\n",
      "Requirement already satisfied: requests>=2.0.0 in /usr/local/lib/python3.7/dist-packages (from tushare) (2.23.0)\n",
      "Collecting websocket-client>=0.57.0\n",
      "\u001b[?25l  Downloading https://files.pythonhosted.org/packages/f7/0c/d52a2a63512a613817846d430d16a8fbe5ea56dd889e89c68facf6b91cb6/websocket_client-0.59.0-py2.py3-none-any.whl (67kB)\n",
      "\u001b[K     |████████████████████████████████| 71kB 9.7MB/s \n",
      "\u001b[?25hRequirement already satisfied: beautifulsoup4 in /usr/local/lib/python3.7/dist-packages (from bs4>=0.0.1->tushare) (4.6.3)\n",
      "Requirement already satisfied: chardet<4,>=3.0.2 in /usr/local/lib/python3.7/dist-packages (from requests>=2.0.0->tushare) (3.0.4)\n",
      "Requirement already satisfied: idna<3,>=2.5 in /usr/local/lib/python3.7/dist-packages (from requests>=2.0.0->tushare) (2.10)\n",
      "Requirement already satisfied: certifi>=2017.4.17 in /usr/local/lib/python3.7/dist-packages (from requests>=2.0.0->tushare) (2020.12.5)\n",
      "Requirement already satisfied: urllib3!=1.25.0,!=1.25.1,<1.26,>=1.21.1 in /usr/local/lib/python3.7/dist-packages (from requests>=2.0.0->tushare) (1.24.3)\n",
      "Requirement already satisfied: six in /usr/local/lib/python3.7/dist-packages (from websocket-client>=0.57.0->tushare) (1.15.0)\n",
      "Installing collected packages: simplejson, websocket-client, tushare\n",
      "Successfully installed simplejson-3.17.2 tushare-1.2.62 websocket-client-0.59.0\n"
     ]
    }
   ],
   "source": [
    "# 安装tushare\n",
    "!pip install tushare"
   ]
  },
  {
   "cell_type": "code",
   "execution_count": 2,
   "metadata": {
    "colab": {
     "base_uri": "https://localhost:8080/"
    },
    "executionInfo": {
     "elapsed": 2504,
     "status": "ok",
     "timestamp": 1620334634861,
     "user": {
      "displayName": "Chuanchao Xu",
      "photoUrl": "",
      "userId": "08016207472332924278"
     },
     "user_tz": -480
    },
    "id": "04P0V7OjpGch",
    "outputId": "7760a713-63ad-45e0-f6d5-9b2f55976433"
   },
   "outputs": [
    {
     "name": "stdout",
     "output_type": "stream",
     "text": [
      "Index(['ts_code', 'trade_date', 'open', 'high', 'low', 'close', 'pre_close',\n",
      "       'change', 'pct_chg', 'vol', 'amount'],\n",
      "      dtype='object')\n"
     ]
    }
   ],
   "source": [
    "#加载tushare，版本必须大于1.2.10\n",
    "import tushare as ts\n",
    "#设置token\n",
    "\n",
    "ts.set_token('********')   # 个人token从Tushare官网获取\n",
    "#选取pro接口\n",
    "pro = ts.pro_api()\n",
    "#查询当前所有正常上市交易的股票列表\n",
    "# data = pro.stock_basic(exchange='SSE', list_status='L', fields='ts_code,symbol,name,area,industry,list_date')\n",
    "# print(data)\n",
    "#读取股票日交易数据\n",
    "df = pro.daily(ts_code='000001.SZ', start_date='20200101', end_date='20210224')\n",
    "#显示\n",
    "print(df.columns)"
   ]
  },
  {
   "cell_type": "code",
   "execution_count": null,
   "metadata": {
    "id": "jzmEcNI-PKll"
   },
   "outputs": [],
   "source": [
    "# 获取个股的历史日线行情\n",
    "import tushare as ts\n",
    "all_data_one = ts.get_hist_data('000001') #一次性获取个股全部数据(该函数只能得到日线行情)\n",
    "# 另外，参考get_k_data函数      get_k_data()获取关键的几个数据\n",
    "# print(all_data_one)\n",
    "\n",
    "\n",
    "# 获得个股的历史分钟线行情\n",
    "df = ts.pro_bar(ts_code='600016.SH', freq='min', start_date='2021-02-026 09:00:00',\\\n",
    "                end_date='2021-03-01 17:00:00')\n",
    "print(df.head())"
   ]
  },
  {
   "cell_type": "code",
   "execution_count": null,
   "metadata": {
    "colab": {
     "base_uri": "https://localhost:8080/"
    },
    "executionInfo": {
     "elapsed": 2943,
     "status": "ok",
     "timestamp": 1614591157787,
     "user": {
      "displayName": "Chuanchao Xu",
      "photoUrl": "",
      "userId": "08016207472332924278"
     },
     "user_tz": -480
    },
    "id": "KnYcx3Bs8PrM",
    "outputId": "c192b532-8a42-4c2f-a54b-afa98007299c"
   },
   "outputs": [
    {
     "name": "stdout",
     "output_type": "stream",
     "text": [
      "     ts_code  symbol  name area industry list_date\n",
      "0  600000.SH  600000  浦发银行   上海       银行  19991110\n",
      "1  600004.SH  600004  白云机场   广东       机场  20030428\n",
      "2  600006.SH  600006  东风汽车   湖北     汽车整车  19990727\n",
      "3  600007.SH  600007  中国国贸   北京     园区开发  19990312\n",
      "4  600008.SH  600008  首创股份   北京     环境保护  20000427\n"
     ]
    }
   ],
   "source": [
    "# Step_1 查询当前所有正常上市交易的股票列表\n",
    "data = pro.query('stock_basic', exchange='SSE', list_status='L', \\\n",
    "                 fields='ts_code,symbol,name,area,industry,list_date')  #  暂时账号权限不够\n",
    "print(data.head())\n",
    "# data.to_csv('/content/drive/MyDrive/Quant/Data_input/Data_frequently_used/' + 'The_Stock_List.csv')"
   ]
  },
  {
   "cell_type": "code",
   "execution_count": null,
   "metadata": {
    "id": "zrlJ6u4f8ICL"
   },
   "outputs": [],
   "source": [
    "# Step_2 基于股票列表获取全部股票的历史日线行情\n",
    "path_The_Stock_List = '/content/drive/MyDrive/Quant/Data_input/Data_frequently_used/' + 'The_Stock_List.csv'\n"
   ]
  },
  {
   "cell_type": "markdown",
   "metadata": {
    "id": "WMIM-tqH9goJ"
   },
   "source": [
    "#### By 通达信\n",
    "在通达信客户端下载1分钟级和5分钟级的数据，转存到google cloud(MyDrive/Quant/Data_input/Data_tdx/...)，然后在Colab调用分析。地址为："
   ]
  },
  {
   "cell_type": "code",
   "execution_count": null,
   "metadata": {
    "id": "rG23Rmzx9n_N"
   },
   "outputs": [],
   "source": [
    "# 需要编写按键精灵代码，每天定时运行\n"
   ]
  },
  {
   "cell_type": "markdown",
   "metadata": {
    "id": "ueoNF8Ydy_06"
   },
   "source": [
    "#### By 自主爬虫\n",
    "仅仅针对个别股票预测，股票信息的总汇还是tushare和通达信更方便。"
   ]
  },
  {
   "cell_type": "code",
   "execution_count": 3,
   "metadata": {
    "colab": {
     "base_uri": "https://localhost:8080/",
     "height": 1000
    },
    "executionInfo": {
     "elapsed": 16322,
     "status": "error",
     "timestamp": 1620334668622,
     "user": {
      "displayName": "Chuanchao Xu",
      "photoUrl": "",
      "userId": "08016207472332924278"
     },
     "user_tz": -480
    },
    "id": "kLNz_qjRzHkQ",
    "outputId": "078b4bf0-af4c-4457-c328-751fd853c40c"
   },
   "outputs": [
    {
     "name": "stdout",
     "output_type": "stream",
     "text": [
      "15:00:00 1.159\n",
      "15:00:00 1.159\n",
      "15:00:00 1.159\n",
      "15:00:00 1.159\n",
      "15:00:00 1.159\n",
      "15:00:00 1.159\n",
      "15:00:00 1.159\n",
      "15:00:00 1.159\n",
      "15:00:00 1.159\n",
      "15:00:00 1.159\n",
      "15:00:00 1.159\n",
      "15:00:00 1.159\n",
      "15:00:00 1.159\n",
      "15:00:00 1.159\n",
      "15:00:00 1.159\n",
      "15:00:00 1.159\n",
      "15:00:00 1.159\n",
      "15:00:00 1.159\n",
      "15:00:00 1.159\n",
      "15:00:00 1.159\n",
      "15:00:00 1.159\n",
      "15:00:00 1.159\n",
      "15:00:00 1.159\n",
      "15:00:00 1.159\n",
      "15:00:00 1.159\n",
      "15:00:00 1.159\n",
      "15:00:00 1.159\n",
      "15:00:00 1.159\n"
     ]
    },
    {
     "ename": "IndexError",
     "evalue": "ignored",
     "output_type": "error",
     "traceback": [
      "\u001b[0;31m---------------------------------------------------------------------------\u001b[0m",
      "\u001b[0;31mIndexError\u001b[0m                                Traceback (most recent call last)",
      "\u001b[0;32m<ipython-input-3-196da911bc49>\u001b[0m in \u001b[0;36m<module>\u001b[0;34m()\u001b[0m\n\u001b[1;32m     99\u001b[0m \u001b[0;34m\u001b[0m\u001b[0m\n\u001b[1;32m    100\u001b[0m \u001b[0;34m\u001b[0m\u001b[0m\n\u001b[0;32m--> 101\u001b[0;31m \u001b[0mmain\u001b[0m\u001b[0;34m(\u001b[0m\u001b[0;34m)\u001b[0m\u001b[0;34m\u001b[0m\u001b[0;34m\u001b[0m\u001b[0m\n\u001b[0m",
      "\u001b[0;32m<ipython-input-3-196da911bc49>\u001b[0m in \u001b[0;36mmain\u001b[0;34m()\u001b[0m\n\u001b[1;32m     79\u001b[0m     \u001b[0;32mwhile\u001b[0m \u001b[0;32mTrue\u001b[0m\u001b[0;34m:\u001b[0m\u001b[0;34m\u001b[0m\u001b[0;34m\u001b[0m\u001b[0m\n\u001b[1;32m     80\u001b[0m         \u001b[0mdata\u001b[0m \u001b[0;34m=\u001b[0m \u001b[0mgetHTMLText\u001b[0m\u001b[0;34m(\u001b[0m\u001b[0murl\u001b[0m\u001b[0;34m)\u001b[0m\u001b[0;34m\u001b[0m\u001b[0;34m\u001b[0m\u001b[0m\n\u001b[0;32m---> 81\u001b[0;31m         \u001b[0mdata\u001b[0m \u001b[0;34m=\u001b[0m \u001b[0mgetData\u001b[0m\u001b[0;34m(\u001b[0m\u001b[0mdata\u001b[0m\u001b[0;34m)\u001b[0m\u001b[0;34m\u001b[0m\u001b[0;34m\u001b[0m\u001b[0m\n\u001b[0m\u001b[1;32m     82\u001b[0m         \u001b[0mtime\u001b[0m \u001b[0;34m=\u001b[0m \u001b[0mdata\u001b[0m\u001b[0;34m[\u001b[0m\u001b[0;34m'time'\u001b[0m\u001b[0;34m]\u001b[0m\u001b[0;34m\u001b[0m\u001b[0;34m\u001b[0m\u001b[0m\n\u001b[1;32m     83\u001b[0m         \u001b[0mnowPrice\u001b[0m \u001b[0;34m=\u001b[0m \u001b[0mfloat\u001b[0m\u001b[0;34m(\u001b[0m\u001b[0mdata\u001b[0m\u001b[0;34m[\u001b[0m\u001b[0;34m'nowPrice'\u001b[0m\u001b[0;34m]\u001b[0m\u001b[0;34m)\u001b[0m\u001b[0;34m\u001b[0m\u001b[0;34m\u001b[0m\u001b[0m\n",
      "\u001b[0;32m<ipython-input-3-196da911bc49>\u001b[0m in \u001b[0;36mgetData\u001b[0;34m(data)\u001b[0m\n\u001b[1;32m     22\u001b[0m     \u001b[0mdata\u001b[0m \u001b[0;34m=\u001b[0m \u001b[0mdata\u001b[0m\u001b[0;34m.\u001b[0m\u001b[0msplit\u001b[0m\u001b[0;34m(\u001b[0m\u001b[0;34m','\u001b[0m\u001b[0;34m)\u001b[0m\u001b[0;34m\u001b[0m\u001b[0;34m\u001b[0m\u001b[0m\n\u001b[1;32m     23\u001b[0m     \u001b[0;31m# name = data[0]\u001b[0m\u001b[0;34m\u001b[0m\u001b[0;34m\u001b[0m\u001b[0;34m\u001b[0m\u001b[0m\n\u001b[0;32m---> 24\u001b[0;31m     \u001b[0mtodayOpen\u001b[0m \u001b[0;34m=\u001b[0m \u001b[0mdata\u001b[0m\u001b[0;34m[\u001b[0m\u001b[0;36m1\u001b[0m\u001b[0;34m]\u001b[0m\u001b[0;34m\u001b[0m\u001b[0;34m\u001b[0m\u001b[0m\n\u001b[0m\u001b[1;32m     25\u001b[0m     \u001b[0myesterdayClose\u001b[0m \u001b[0;34m=\u001b[0m \u001b[0mdata\u001b[0m\u001b[0;34m[\u001b[0m\u001b[0;36m2\u001b[0m\u001b[0;34m]\u001b[0m\u001b[0;34m\u001b[0m\u001b[0;34m\u001b[0m\u001b[0m\n\u001b[1;32m     26\u001b[0m     \u001b[0mnowPrice\u001b[0m \u001b[0;34m=\u001b[0m \u001b[0mdata\u001b[0m\u001b[0;34m[\u001b[0m\u001b[0;36m3\u001b[0m\u001b[0;34m]\u001b[0m\u001b[0;34m\u001b[0m\u001b[0;34m\u001b[0m\u001b[0m\n",
      "\u001b[0;31mIndexError\u001b[0m: list index out of range"
     ]
    },
    {
     "data": {
      "image/png": "[encoded data removed]",
      "text/plain": [
       "<Figure size 1080x360 with 1 Axes>"
      ]
     },
     "metadata": {
      "needs_background": "light",
      "tags": []
     },
     "output_type": "display_data"
    }
   ],
   "source": [
    "# 从新浪财经、雅虎财经等网页对自选股进行爬虫\n",
    "# -*- coding: utf-8 -*-\n",
    " \n",
    "import requests\n",
    "import time as time_sleep\n",
    "import pandas as pd\n",
    "import matplotlib.pyplot as plt\n",
    "import matplotlib.dates as mdates\n",
    "from datetime import datetime\n",
    " \n",
    "def getHTMLText(url):\n",
    "    try:\n",
    "        r = requests.get(url, timeout=30)\n",
    "        r.raise_for_status()\n",
    "        r.encoding = r.apparent_encoding  # 'utf-8' #\n",
    "        return r.text\n",
    "    except:\n",
    "        return \" \"\n",
    " \n",
    " \n",
    "def getData(data):\n",
    "    data = data.split(',')\n",
    "    # name = data[0]\n",
    "    todayOpen = data[1]\n",
    "    yesterdayClose = data[2]\n",
    "    nowPrice = data[3]\n",
    "    todayHigh = data[4]\n",
    "    todayLow = data[5]\n",
    " \n",
    "    bidPrice = data[6]\n",
    "    askPrice = data[7]\n",
    "    quantity = data[8]\n",
    "    money = data[9]\n",
    " \n",
    "    buy1Volume = data[10]\n",
    "    buy1Price = data[11]\n",
    "    buy2Volume = data[12]\n",
    "    buy2Price = data[13]\n",
    "    buy3Volume = data[14]\n",
    "    buy3Price = data[15]\n",
    "    buy4Volume = data[16]\n",
    "    buy4Price = data[17]\n",
    "    buy5Volume = data[18]\n",
    "    buy5Price = data[19]\n",
    " \n",
    "    sell1Volume = data[20]\n",
    "    sell1Price = data[21]\n",
    "    sell2Volume = data[22]\n",
    "    sell2Price = data[23]\n",
    "    sell3Volume = data[24]\n",
    "    sell3Price = data[25]\n",
    "    sell4Volume = data[26]\n",
    "    sell4Price = data[27]\n",
    "    sell5Volume = data[28]\n",
    "    sell5Price = data[29]\n",
    " \n",
    "    date = data[30]\n",
    "    time = data[31]\n",
    " \n",
    "    data = {'todayOpen': todayOpen, 'yesterdayClose': yesterdayClose, 'nowPrice': nowPrice, 'todayHigh': todayHigh,\n",
    "            'todayLow': todayLow, 'bidPrice': bidPrice, 'askPrice': askPrice, 'quantity': quantity, 'money': money,\n",
    "            'buy1Volume': buy1Volume, 'buy1Price': buy1Price, 'buy2Volume': buy2Volume, 'buy2Price': buy2Price,\n",
    "            'buy3Volume': buy3Volume, 'buy3Price': buy3Price, 'buy4Volume': buy4Volume, 'buy4Price': buy4Price,\n",
    "            'buy5Volume': buy5Volume, 'buy5Price': buy5Price, 'sell1Volume': sell1Volume, 'sell1Price': sell1Price,\n",
    "            'sell2Volume': sell2Volume, 'sell2Price': sell2Price, 'sell3Volume': sell3Volume, 'sell3Price': sell3Price,\n",
    "            'sell4Volume': sell4Volume, 'sell4Price': sell4Price, 'sell5Volume': sell5Volume, 'sell5Price': sell5Price,\n",
    "            'date': date, 'time': time}\n",
    "    return data\n",
    " \n",
    " \n",
    "def main():\n",
    "    code = r'sh510900'\n",
    "    url = 'http://hq.sinajs.cn/list=' + code\n",
    "    store_time = list()\n",
    "    store_price = list()\n",
    "    fig = plt.figure(figsize=(15, 5))\n",
    "    ax = fig.add_subplot(1,1,1)\n",
    "    plt.xlim((datetime(2021, 1, 5, 15, 25), datetime(2021, 1, 5, 15, 31)))\n",
    "    while True:\n",
    "        data = getHTMLText(url)\n",
    "        data = getData(data)\n",
    "        time = data['time']\n",
    "        nowPrice = float(data['nowPrice'])\n",
    "        store_time.append(time)\n",
    "        store_price.append(nowPrice)\n",
    "        Price = pd.DataFrame(store_price, index=store_time, columns=['price'])\n",
    "        Price.index = pd.to_datetime(Price.index)   # 添加当日日期\n",
    "        index = list(Price.index)\n",
    " \n",
    "        if len(index) > 5:\n",
    "            # plt.gca().xaxis.set_major_formattermm(mdates.DateFormatter('%m/%d/%Y %H:%M:%S'))\n",
    "            # plt.xlim((datetime(2017, 1, 5, 9, 30), datetime(2017, 1, 5, 15, 31)))\n",
    "            ax.plot(index[len(index) - 30:len(index) - 1:1], store_price[len(index) - 30:len(index) - 1:1])\n",
    "            plt.title(\"%s\" % code)\n",
    "            # plt.pause(0.01)\n",
    " \n",
    "        # time_sleep.sleep(1)\n",
    "        print(data['time'], data['nowPrice'])\n",
    " \n",
    " \n",
    "main()"
   ]
  },
  {
   "cell_type": "code",
   "execution_count": 4,
   "metadata": {
    "colab": {
     "base_uri": "https://localhost:8080/"
    },
    "executionInfo": {
     "elapsed": 1154,
     "status": "ok",
     "timestamp": 1620334678812,
     "user": {
      "displayName": "Chuanchao Xu",
      "photoUrl": "",
      "userId": "08016207472332924278"
     },
     "user_tz": -480
    },
    "id": "nlzBb08AkSgf",
    "outputId": "1a1b655f-5e08-457d-9b0e-66ca2266e89a"
   },
   "outputs": [
    {
     "data": {
      "text/plain": [
       "Timestamp('2021-05-06 13:03:35')"
      ]
     },
     "execution_count": 4,
     "metadata": {
      "tags": []
     },
     "output_type": "execute_result"
    }
   ],
   "source": [
    "# df = pd.DataFrame({'year': [], 'month': [2, 3], 'day': [4, 5]})\n",
    " \n",
    "pd.to_datetime('13:03:35')"
   ]
  },
  {
   "cell_type": "markdown",
   "metadata": {
    "id": "R8fjBcAH6tYA"
   },
   "source": [
    "### 财务数据、自定义数据、投资经验（待定）"
   ]
  },
  {
   "cell_type": "markdown",
   "metadata": {
    "id": "mF4Xw1Vi-meq"
   },
   "source": []
  },
  {
   "cell_type": "markdown",
   "metadata": {
    "id": "7FLf8cEbcLvP"
   },
   "source": [
    "## 个股预测\n",
    "（1、5、15分钟级）\n",
    "\n",
    "针对个股进行单独建模，进行数据拟合，由一定时间长度（需要调参找出长度大小）的时间序列预测后续开盘价格，通 过历史数据进行验证。\n",
    "\n",
    "**临时思考**：\n",
    "\n",
    "可以统计股票上涨和跌落的“惯性”，如同奈奎斯特采样定理一样，数据分析的粒度小于这个“惯性”，数据分析就可以对股市这个动态系统做一个“充分”的建模（体现在股价走向这一个指标上），也即预测系统的反应速度快于股市就可以真正将高频操作的价值利用起来。"
   ]
  },
  {
   "cell_type": "markdown",
   "metadata": {
    "id": "gNetjr6k49xI"
   },
   "source": [
    "### 指定股票和数据处理"
   ]
  },
  {
   "cell_type": "code",
   "execution_count": 5,
   "metadata": {
    "executionInfo": {
     "elapsed": 1173,
     "status": "ok",
     "timestamp": 1620334714020,
     "user": {
      "displayName": "Chuanchao Xu",
      "photoUrl": "",
      "userId": "08016207472332924278"
     },
     "user_tz": -480
    },
    "id": "MWduuIGpcmFm"
   },
   "outputs": [],
   "source": [
    "import pandas as pd\n",
    "import numpy as np\n",
    " \n",
    "def load_data(stock_code):\n",
    "  '''\n",
    "  加载、提取、重构数据\n",
    "  '''\n",
    "  path_data = '/content/drive/MyDrive/Quant/Data_input/Zixuangu/' + str(stock_code) + '.txt'\n",
    " \n",
    "  # 加载股票数据（from google drive）,需要提前下载好数据，不能实时更新\n",
    "  # path_data = '/content/drive/MyDrive/Quant/Data_input/Zixuangu/601577.txt'   # 1分钟级数据\n",
    " \n",
    " \n",
    "  # 提取、重构数据\n",
    "  YMD=[]; time=[]; KPJ=[]; ZGJ=[]; ZDJ=[]; SPJ=[]; CJL=[]; CJE=[]\n",
    "  with open(path_data,encoding='unicode_escape') as f:\n",
    "    data = f.readlines()[2:-1]\n",
    "    for n_row in data:\n",
    "      YMD.append(n_row.split(',')[0])\n",
    "      time.append(n_row.split(',')[1])\n",
    "      KPJ.append(float(n_row.split(',')[2]))\n",
    "      ZGJ.append(float(n_row.split(',')[3]))\n",
    "      ZDJ.append(float(n_row.split(',')[4]))\n",
    "      SPJ.append(float(n_row.split(',')[5]))\n",
    "      CJL.append(float(n_row.split(',')[6]))\n",
    "      CJE.append(float(n_row.split(',')[7][:-1]))\n",
    " \n",
    "  # print(time[-1])\n",
    " \n",
    "  df = pd.DataFrame(index=range(len(data)), columns=['YMD','time','KPJ','ZGJ','ZDJ','SPJ','CJL','CJE'])\n",
    "  df['YMD'] = YMD\n",
    "  df['time'] = time\n",
    "  df['KPJ'] = KPJ\n",
    "  df['ZGJ'] = ZGJ\n",
    "  df['ZDJ'] = ZDJ\n",
    "  df['SPJ'] = SPJ\n",
    "  df['CJL'] = CJL\n",
    "  df['CJE'] = CJE\n",
    " \n",
    "  # print(df.head())\n",
    "  return YMD,df"
   ]
  },
  {
   "cell_type": "markdown",
   "metadata": {
    "id": "YF_SNC5Q5QoD"
   },
   "source": [
    "### 构建单日型数据样本"
   ]
  },
  {
   "cell_type": "code",
   "execution_count": 6,
   "metadata": {
    "executionInfo": {
     "elapsed": 1352,
     "status": "ok",
     "timestamp": 1620334722269,
     "user": {
      "displayName": "Chuanchao Xu",
      "photoUrl": "",
      "userId": "08016207472332924278"
     },
     "user_tz": -480
    },
    "id": "1XCBdKn7hCTw"
   },
   "outputs": [],
   "source": [
    "def generate_sample(YMD,df):\n",
    "  # 构建单日股票时序数据（也可构建任意时长的时序数据）\n",
    "  X = []\n",
    "  Y = []\n",
    "  YMD_indexs = sorted(set(YMD))\n",
    "  for index in YMD_indexs:\n",
    "    # print(index)\n",
    "    data_intraday = df.groupby(df['YMD']).get_group(index)\n",
    "    X.append(data_intraday['SPJ'])   # 当日1分钟级收盘价序列\n",
    "    Y.append(data_intraday.iloc[0,2])  # 当日开盘价（09：35）\n",
    "    # print(data_intraday,'\\n',X,'\\n',Y)\n",
    "    # break\n",
    "  # 当日1分钟级收盘价序列与次日开盘价对应 \n",
    "  X_ = X[:-1]\n",
    "  Y_ = Y[1:]\n",
    "  print(len(X_),len(Y_))\n",
    "  return X_, Y_"
   ]
  },
  {
   "cell_type": "markdown",
   "metadata": {
    "id": "1-FREQ4i5erC"
   },
   "source": [
    "### 划分train和test"
   ]
  },
  {
   "cell_type": "code",
   "execution_count": 7,
   "metadata": {
    "executionInfo": {
     "elapsed": 1137,
     "status": "ok",
     "timestamp": 1620334730089,
     "user": {
      "displayName": "Chuanchao Xu",
      "photoUrl": "",
      "userId": "08016207472332924278"
     },
     "user_tz": -480
    },
    "id": "dPZBE5szhncZ"
   },
   "outputs": [],
   "source": [
    "import numpy as np\n",
    "def generate_train_test(X_, Y_):\n",
    "  # 划分训练集和测试集\n",
    "  index_train = range(int(0.7*len(X_)))  # 将某一节点前的数据看作训练集，将该节点后的数据看作测试集，符合炒股逻辑\n",
    "  print(sorted(index_train))\n",
    "  index_test = list(set(range(len(X_))) - set(index_train))   # 列表取差集\n",
    "  print(sorted(index_test))\n",
    " \n",
    "  X_train = [X_[i] for i in index_train]\n",
    "  Y_train = [Y_[i] for i in index_train]\n",
    "  X_test = [X_[i] for i in index_test]\n",
    "  Y_test = [Y_[i] for i in index_test]\n",
    " \n",
    "  # 得到可以直接导入LSTM模型的X_train、y_train、X_test、y_test\n",
    "  X_train = np.array(X_train).reshape(len(X_train),240,1)\n",
    "  y_train = np.array(Y_train).reshape(len(Y_train),1)\n",
    "  X_test = np.array(X_test).reshape(len(X_test),240,1)\n",
    "  y_test = np.array(Y_test).reshape(len(Y_test),1)\n",
    " \n",
    "  print(X_train.shape, y_train.shape, X_test.shape, y_test.shape)\n",
    "  return X_train, y_train, X_test, y_test"
   ]
  },
  {
   "cell_type": "markdown",
   "metadata": {
    "id": "X0Iebs1z5mmb"
   },
   "source": [
    "### LSTM模型预测"
   ]
  },
  {
   "cell_type": "code",
   "execution_count": 8,
   "metadata": {
    "colab": {
     "base_uri": "https://localhost:8080/",
     "height": 1000
    },
    "executionInfo": {
     "elapsed": 44653,
     "status": "ok",
     "timestamp": 1620334786588,
     "user": {
      "displayName": "Chuanchao Xu",
      "photoUrl": "",
      "userId": "08016207472332924278"
     },
     "user_tz": -480
    },
    "id": "1Y1Wb3V1oU8n",
    "outputId": "fae68b78-b463-4a6b-a3e0-5b63f4e95fac"
   },
   "outputs": [
    {
     "name": "stdout",
     "output_type": "stream",
     "text": [
      "65 65\n",
      "[0, 1, 2, 3, 4, 5, 6, 7, 8, 9, 10, 11, 12, 13, 14, 15, 16, 17, 18, 19, 20, 21, 22, 23, 24, 25, 26, 27, 28, 29, 30, 31, 32, 33, 34, 35, 36, 37, 38, 39, 40, 41, 42, 43, 44]\n",
      "[45, 46, 47, 48, 49, 50, 51, 52, 53, 54, 55, 56, 57, 58, 59, 60, 61, 62, 63, 64]\n",
      "(45, 240, 1) (45, 1) (20, 240, 1) (20, 1)\n",
      "Epoch 1/100\n",
      "45/45 - 17s - loss: 37.9353 - val_loss: 17.7812\n",
      "Epoch 2/100\n",
      "45/45 - 0s - loss: 4.0246 - val_loss: 1.6014\n",
      "Epoch 3/100\n",
      "45/45 - 0s - loss: 0.1849 - val_loss: 0.9420\n",
      "Epoch 4/100\n",
      "45/45 - 0s - loss: 0.1488 - val_loss: 1.0075\n",
      "Epoch 5/100\n",
      "45/45 - 0s - loss: 0.1533 - val_loss: 1.0028\n",
      "Epoch 6/100\n",
      "45/45 - 0s - loss: 0.1541 - val_loss: 1.0056\n",
      "Epoch 7/100\n",
      "45/45 - 0s - loss: 0.1551 - val_loss: 1.0079\n",
      "Epoch 8/100\n",
      "45/45 - 0s - loss: 0.1562 - val_loss: 1.0101\n",
      "Epoch 9/100\n",
      "45/45 - 0s - loss: 0.1569 - val_loss: 1.0127\n",
      "Epoch 10/100\n",
      "45/45 - 0s - loss: 0.1578 - val_loss: 1.0150\n",
      "Epoch 11/100\n",
      "45/45 - 0s - loss: 0.1585 - val_loss: 1.0176\n",
      "Epoch 12/100\n",
      "45/45 - 0s - loss: 0.1592 - val_loss: 1.0199\n",
      "Epoch 13/100\n",
      "45/45 - 0s - loss: 0.1598 - val_loss: 1.0219\n",
      "Epoch 14/100\n",
      "45/45 - 0s - loss: 0.1604 - val_loss: 1.0228\n",
      "Epoch 15/100\n",
      "45/45 - 0s - loss: 0.1607 - val_loss: 1.0263\n",
      "Epoch 16/100\n",
      "45/45 - 0s - loss: 0.1613 - val_loss: 1.0280\n",
      "Epoch 17/100\n",
      "45/45 - 0s - loss: 0.1618 - val_loss: 1.0301\n",
      "Epoch 18/100\n",
      "45/45 - 0s - loss: 0.1621 - val_loss: 1.0320\n",
      "Epoch 19/100\n",
      "45/45 - 0s - loss: 0.1626 - val_loss: 1.0343\n",
      "Epoch 20/100\n",
      "45/45 - 0s - loss: 0.1630 - val_loss: 1.0361\n",
      "Epoch 21/100\n",
      "45/45 - 0s - loss: 0.1634 - val_loss: 1.0381\n",
      "Epoch 22/100\n",
      "45/45 - 0s - loss: 0.1638 - val_loss: 1.0403\n",
      "Epoch 23/100\n",
      "45/45 - 0s - loss: 0.1642 - val_loss: 1.0424\n",
      "Epoch 24/100\n",
      "45/45 - 0s - loss: 0.1646 - val_loss: 1.0446\n",
      "Epoch 25/100\n",
      "45/45 - 0s - loss: 0.1650 - val_loss: 1.0463\n",
      "Epoch 26/100\n",
      "45/45 - 0s - loss: 0.1653 - val_loss: 1.0485\n",
      "Epoch 27/100\n",
      "45/45 - 0s - loss: 0.1657 - val_loss: 1.0506\n",
      "Epoch 28/100\n",
      "45/45 - 0s - loss: 0.1661 - val_loss: 1.0525\n",
      "Epoch 29/100\n",
      "45/45 - 0s - loss: 0.1664 - val_loss: 1.0545\n",
      "Epoch 30/100\n",
      "45/45 - 0s - loss: 0.1667 - val_loss: 1.0562\n",
      "Epoch 31/100\n",
      "45/45 - 0s - loss: 0.1670 - val_loss: 1.0582\n",
      "Epoch 32/100\n",
      "45/45 - 0s - loss: 0.1674 - val_loss: 1.0599\n",
      "Epoch 33/100\n",
      "45/45 - 0s - loss: 0.1676 - val_loss: 1.0618\n",
      "Epoch 34/100\n",
      "45/45 - 0s - loss: 0.1680 - val_loss: 1.0637\n",
      "Epoch 35/100\n",
      "45/45 - 0s - loss: 0.1682 - val_loss: 1.0654\n",
      "Epoch 36/100\n",
      "45/45 - 0s - loss: 0.1685 - val_loss: 1.0674\n",
      "Epoch 37/100\n",
      "45/45 - 0s - loss: 0.1688 - val_loss: 1.0693\n",
      "Epoch 38/100\n",
      "45/45 - 0s - loss: 0.1691 - val_loss: 1.0714\n",
      "Epoch 39/100\n",
      "45/45 - 0s - loss: 0.1694 - val_loss: 1.0731\n",
      "Epoch 40/100\n",
      "45/45 - 0s - loss: 0.1697 - val_loss: 1.0751\n",
      "Epoch 41/100\n",
      "45/45 - 0s - loss: 0.1700 - val_loss: 1.0770\n",
      "Epoch 42/100\n",
      "45/45 - 0s - loss: 0.1703 - val_loss: 1.0789\n",
      "Epoch 43/100\n",
      "45/45 - 0s - loss: 0.1706 - val_loss: 1.0808\n",
      "Epoch 44/100\n",
      "45/45 - 0s - loss: 0.1708 - val_loss: 1.0828\n",
      "Epoch 45/100\n",
      "45/45 - 0s - loss: 0.1711 - val_loss: 1.0845\n",
      "Epoch 46/100\n",
      "45/45 - 0s - loss: 0.1714 - val_loss: 1.0864\n",
      "Epoch 47/100\n",
      "45/45 - 0s - loss: 0.1717 - val_loss: 1.0880\n",
      "Epoch 48/100\n",
      "45/45 - 0s - loss: 0.1719 - val_loss: 1.0899\n",
      "Epoch 49/100\n",
      "45/45 - 0s - loss: 0.1722 - val_loss: 1.0915\n",
      "Epoch 50/100\n",
      "45/45 - 0s - loss: 0.1724 - val_loss: 1.0933\n",
      "Epoch 51/100\n",
      "45/45 - 0s - loss: 0.1727 - val_loss: 1.0948\n",
      "Epoch 52/100\n",
      "45/45 - 0s - loss: 0.1729 - val_loss: 1.0965\n",
      "Epoch 53/100\n",
      "45/45 - 0s - loss: 0.1731 - val_loss: 1.0981\n",
      "Epoch 54/100\n",
      "45/45 - 0s - loss: 0.1734 - val_loss: 1.0996\n",
      "Epoch 55/100\n",
      "45/45 - 0s - loss: 0.1736 - val_loss: 1.1009\n",
      "Epoch 56/100\n",
      "45/45 - 0s - loss: 0.1738 - val_loss: 1.1025\n",
      "Epoch 57/100\n",
      "45/45 - 0s - loss: 0.1740 - val_loss: 1.1037\n",
      "Epoch 58/100\n",
      "45/45 - 0s - loss: 0.1742 - val_loss: 1.1052\n",
      "Epoch 59/100\n",
      "45/45 - 0s - loss: 0.1744 - val_loss: 1.1064\n",
      "Epoch 60/100\n",
      "45/45 - 0s - loss: 0.1746 - val_loss: 1.1077\n",
      "Epoch 61/100\n",
      "45/45 - 0s - loss: 0.1748 - val_loss: 1.1088\n",
      "Epoch 62/100\n",
      "45/45 - 0s - loss: 0.1749 - val_loss: 1.1100\n",
      "Epoch 63/100\n",
      "45/45 - 0s - loss: 0.1751 - val_loss: 1.1110\n",
      "Epoch 64/100\n",
      "45/45 - 0s - loss: 0.1752 - val_loss: 1.1123\n",
      "Epoch 65/100\n",
      "45/45 - 0s - loss: 0.1754 - val_loss: 1.1131\n",
      "Epoch 66/100\n",
      "45/45 - 0s - loss: 0.1756 - val_loss: 1.1142\n",
      "Epoch 67/100\n",
      "45/45 - 0s - loss: 0.1757 - val_loss: 1.1151\n",
      "Epoch 68/100\n",
      "45/45 - 0s - loss: 0.1758 - val_loss: 1.1161\n",
      "Epoch 69/100\n",
      "45/45 - 0s - loss: 0.1760 - val_loss: 1.1168\n",
      "Epoch 70/100\n",
      "45/45 - 0s - loss: 0.1761 - val_loss: 1.1180\n",
      "Epoch 71/100\n",
      "45/45 - 0s - loss: 0.1763 - val_loss: 1.1185\n",
      "Epoch 72/100\n",
      "45/45 - 0s - loss: 0.1763 - val_loss: 1.1193\n",
      "Epoch 73/100\n",
      "45/45 - 0s - loss: 0.1764 - val_loss: 1.1201\n",
      "Epoch 74/100\n",
      "45/45 - 0s - loss: 0.1766 - val_loss: 1.1208\n",
      "Epoch 75/100\n",
      "45/45 - 0s - loss: 0.1767 - val_loss: 1.1215\n",
      "Epoch 76/100\n",
      "45/45 - 0s - loss: 0.1768 - val_loss: 1.1220\n",
      "Epoch 77/100\n",
      "45/45 - 0s - loss: 0.1768 - val_loss: 1.1228\n",
      "Epoch 78/100\n",
      "45/45 - 0s - loss: 0.1769 - val_loss: 1.1233\n",
      "Epoch 79/100\n",
      "45/45 - 0s - loss: 0.1770 - val_loss: 1.1239\n",
      "Epoch 80/100\n",
      "45/45 - 0s - loss: 0.1771 - val_loss: 1.1243\n",
      "Epoch 81/100\n",
      "45/45 - 0s - loss: 0.1772 - val_loss: 1.1249\n",
      "Epoch 82/100\n",
      "45/45 - 0s - loss: 0.1773 - val_loss: 1.1253\n",
      "Epoch 83/100\n",
      "45/45 - 0s - loss: 0.1773 - val_loss: 1.1258\n",
      "Epoch 84/100\n",
      "45/45 - 0s - loss: 0.1774 - val_loss: 1.1262\n",
      "Epoch 85/100\n",
      "45/45 - 0s - loss: 0.1774 - val_loss: 1.1266\n",
      "Epoch 86/100\n",
      "45/45 - 0s - loss: 0.1775 - val_loss: 1.1269\n",
      "Epoch 87/100\n",
      "45/45 - 0s - loss: 0.1775 - val_loss: 1.1274\n",
      "Epoch 88/100\n",
      "45/45 - 0s - loss: 0.1776 - val_loss: 1.1277\n",
      "Epoch 89/100\n",
      "45/45 - 0s - loss: 0.1777 - val_loss: 1.1280\n",
      "Epoch 90/100\n",
      "45/45 - 0s - loss: 0.1777 - val_loss: 1.1282\n",
      "Epoch 91/100\n",
      "45/45 - 0s - loss: 0.1777 - val_loss: 1.1286\n",
      "Epoch 92/100\n",
      "45/45 - 0s - loss: 0.1778 - val_loss: 1.1287\n",
      "Epoch 93/100\n",
      "45/45 - 0s - loss: 0.1778 - val_loss: 1.1290\n",
      "Epoch 94/100\n",
      "45/45 - 0s - loss: 0.1778 - val_loss: 1.1293\n",
      "Epoch 95/100\n",
      "45/45 - 0s - loss: 0.1779 - val_loss: 1.1293\n",
      "Epoch 96/100\n",
      "45/45 - 0s - loss: 0.1779 - val_loss: 1.1295\n",
      "Epoch 97/100\n",
      "45/45 - 0s - loss: 0.1779 - val_loss: 1.1297\n",
      "Epoch 98/100\n",
      "45/45 - 0s - loss: 0.1779 - val_loss: 1.1297\n",
      "Epoch 99/100\n",
      "45/45 - 0s - loss: 0.1779 - val_loss: 1.1298\n",
      "Epoch 100/100\n",
      "45/45 - 0s - loss: 0.1779 - val_loss: 1.1300\n",
      "{'loss': [37.93527603149414, 4.0245747566223145, 0.18485110998153687, 0.14880789816379547, 0.15333792567253113, 0.1540992707014084, 0.1551053524017334, 0.15621498227119446, 0.1569405496120453, 0.15783528983592987, 0.15846450626850128, 0.15923167765140533, 0.15975569188594818, 0.16036006808280945, 0.16065214574337006, 0.16126799583435059, 0.16176576912403107, 0.16213777661323547, 0.16260069608688354, 0.16301028430461884, 0.16338598728179932, 0.16380536556243896, 0.1641845554113388, 0.16460919380187988, 0.164982408285141, 0.1653280407190323, 0.16570720076560974, 0.16606971621513367, 0.1664252132177353, 0.16674242913722992, 0.16704127192497253, 0.16736601293087006, 0.16764284670352936, 0.16795212030410767, 0.16824522614479065, 0.16852445900440216, 0.1688210517168045, 0.1690947711467743, 0.16942670941352844, 0.16968898475170135, 0.16998237371444702, 0.17027992010116577, 0.17055000364780426, 0.17083895206451416, 0.1711253970861435, 0.17138583958148956, 0.1716686636209488, 0.1719074845314026, 0.17218464612960815, 0.17242246866226196, 0.1726810187101364, 0.1728951632976532, 0.17313425242900848, 0.17337480187416077, 0.17359445989131927, 0.1737847924232483, 0.17401333153247833, 0.1741802990436554, 0.17440181970596313, 0.17457987368106842, 0.17476074397563934, 0.17492268979549408, 0.175100639462471, 0.17524825036525726, 0.17543113231658936, 0.17555665969848633, 0.17569993436336517, 0.17584314942359924, 0.17598319053649902, 0.17607291042804718, 0.17625358700752258, 0.1763397455215454, 0.17643889784812927, 0.1765570491552353, 0.17666059732437134, 0.17677070200443268, 0.17682689428329468, 0.17694558203220367, 0.1770227551460266, 0.17711152136325836, 0.17716427147388458, 0.17725487053394318, 0.17731855809688568, 0.17738085985183716, 0.17744745314121246, 0.17750808596611023, 0.17754504084587097, 0.17761673033237457, 0.17765535414218903, 0.177704319357872, 0.17772793769836426, 0.17779535055160522, 0.17779341340065002, 0.17783622443675995, 0.17788441479206085, 0.1778900921344757, 0.17789801955223083, 0.17793862521648407, 0.17792512476444244, 0.17792625725269318], 'val_loss': [17.781204223632812, 1.6014378070831299, 0.9419525265693665, 1.0075271129608154, 1.002772569656372, 1.0055774450302124, 1.0079269409179688, 1.0101133584976196, 1.0127272605895996, 1.015018105506897, 1.0176026821136475, 1.0198556184768677, 1.0218724012374878, 1.022813081741333, 1.0263047218322754, 1.0279971361160278, 1.0301364660263062, 1.0320284366607666, 1.0342592000961304, 1.0360804796218872, 1.0381152629852295, 1.0402623414993286, 1.0423548221588135, 1.0446110963821411, 1.0463321208953857, 1.048496961593628, 1.0506079196929932, 1.0525426864624023, 1.0545419454574585, 1.0561628341674805, 1.0581895112991333, 1.059896469116211, 1.06180739402771, 1.0637072324752808, 1.0654215812683105, 1.067415475845337, 1.0692516565322876, 1.0714213848114014, 1.0730717182159424, 1.0750634670257568, 1.0770165920257568, 1.0789488554000854, 1.0807679891586304, 1.0827628374099731, 1.0844757556915283, 1.0864388942718506, 1.0880218744277954, 1.0899345874786377, 1.0915342569351196, 1.0933219194412231, 1.0948253870010376, 1.0964809656143188, 1.0980665683746338, 1.0996029376983643, 1.1008970737457275, 1.1024572849273682, 1.1036789417266846, 1.1051884889602661, 1.1063644886016846, 1.1076533794403076, 1.1087567806243896, 1.1100361347198486, 1.1110210418701172, 1.11228346824646, 1.1131008863449097, 1.1141612529754639, 1.1151353120803833, 1.1160801649093628, 1.116811752319336, 1.1179759502410889, 1.118505835533142, 1.1192553043365479, 1.1200767755508423, 1.1207804679870605, 1.1215224266052246, 1.1219619512557983, 1.1228045225143433, 1.1232645511627197, 1.1238805055618286, 1.1242735385894775, 1.1249141693115234, 1.125312328338623, 1.1257669925689697, 1.126219630241394, 1.1266311407089233, 1.1269478797912598, 1.1273887157440186, 1.1276613473892212, 1.128010630607605, 1.1282055377960205, 1.1286181211471558, 1.1287033557891846, 1.1289921998977661, 1.1293365955352783, 1.1293479204177856, 1.1295135021209717, 1.1297414302825928, 1.1297330856323242, 1.1298478841781616, 1.1300104856491089]}\n"
     ]
    },
    {
     "data": {
      "image/png": "[encoded data removed]",
      "text/plain": [
       "<Figure size 432x288 with 1 Axes>"
      ]
     },
     "metadata": {
      "needs_background": "light",
      "tags": []
     },
     "output_type": "display_data"
    },
    {
     "name": "stdout",
     "output_type": "stream",
     "text": [
      "Test MSE: 1.130\n",
      "Test MAE: 0.966\n",
      "Test R2: -4.149\n",
      "Test RMSE: 1.063\n",
      "Accuracy: 0.000\n",
      "totally cost 41.03519654273987\n"
     ]
    }
   ],
   "source": [
    "# 常规LSTM方法\n",
    "import pandas as pd\n",
    "import numpy as np\n",
    "import matplotlib.pyplot as plt\n",
    "import os\n",
    "import sklearn\n",
    "from tensorflow.keras import regularizers\n",
    "from tensorflow.keras.models import Sequential\n",
    "from tensorflow.keras.layers import Dense, Dropout, Flatten, BatchNormalization\n",
    "from tensorflow.keras.layers import LSTM\n",
    "from tensorflow.compat.v1.keras.layers import Masking\n",
    "from sklearn import preprocessing\n",
    "from tensorflow.keras.preprocessing.sequence import pad_sequences\n",
    "from tensorflow.keras.utils import to_categorical\n",
    "from math import sqrt,exp\n",
    "from sklearn.metrics import mean_squared_error, mean_absolute_error, r2_score\n",
    "# from keras.layers import CuDNNLSTM\n",
    "from tensorflow.compat.v1.keras.layers import CuDNNLSTM\n",
    "import matplotlib.pyplot as plt\n",
    "import time\n",
    "import pytz\n",
    "from datetime import datetime\n",
    "from tensorflow.keras.models import load_model\n",
    "from tensorflow.keras.utils import plot_model\n",
    " \n",
    "def bj_time():\n",
    "  tz = pytz.timezone('Asia/Shanghai') #东八区\n",
    "  t = datetime.fromtimestamp(int(time.time()),\n",
    "    pytz.timezone('Asia/Shanghai')).strftime('%Y_%m_%d__%H_%M_%S %Z%z')\n",
    "  beijing_time = t[:-9]\n",
    "  return beijing_time\n",
    " \n",
    "def Evaluate_Loss(train_X,train_y,test_X,test_y,EPOCHS,path_root):\n",
    "  \n",
    "  n_timesteps, n_features, n_outputs = train_X.shape[1], train_X.shape[2], train_y.shape[1]\n",
    "  model = Sequential()\n",
    "  model.add(CuDNNLSTM(50, input_shape=(n_timesteps, n_features)))\n",
    "  # model.add(Dropout(0.5))\n",
    "  # model.add(Dense(50, activation='relu'))\n",
    "  model.add(Dense(n_outputs))\n",
    "  model.compile(loss='mse', optimizer='adam')\n",
    "  # fit network\n",
    "  history = model.fit(train_X, train_y, epochs=EPOCHS, batch_size=1,\\\n",
    "              validation_data=(test_X, test_y), verbose=2, shuffle=False)\n",
    "  print(history.history)\n",
    " \n",
    "  # plot history\n",
    "  plt.plot(history.history['loss'], label='loss_train',color='r')\n",
    "  # plt.plot(history.history['accuracy'], label='accuracy_train',color='b')\n",
    "  plt.plot(history.history['val_loss'], label='loss_test',color='g')\n",
    "  # plt.plot(history.history['val_accuracy'], label='accuracy_test',color='p')\n",
    "  plt.legend()\n",
    "  plt.savefig(path_root + '/Loss/Figure/' + bj_time() + '__' + str(EPOCHS) + '__loss_and_val_loss_curve.svg')\n",
    "  plt.savefig(path_root + '/Loss/Figure/' + bj_time() + '__' + str(EPOCHS) + '__loss_and_val_loss_curve.png')\n",
    "  plt.show()\n",
    " \n",
    "  # save model\n",
    "  # 保存模型 model.save(file_path)\n",
    "  LSTM_dir = '{}/Model/'.format(path_root) + bj_time() + '__' + str(EPOCHS) + '__' + 'LSTM_model.h5'\n",
    "  model.save(LSTM_dir)\n",
    " \n",
    "  # draw the diagram of model topology\n",
    "  # 保存模型图\n",
    " \n",
    "  # 需要安装pip install pydot\n",
    " \n",
    "  LSTM_plot_dir = '{}/Model/model_Figure/'.format(path_root) + bj_time() + '__' + str(EPOCHS) + '__' + 'LSTM_model_Figure.png'\n",
    "  plot_model(model, to_file=LSTM_plot_dir, show_shapes=True)\n",
    " \n",
    "  # make a prediction\n",
    "  pred_y = model.predict(test_X)\n",
    "  # print(pred_y)\n",
    "  # calculate MSE、MAE、R2、RSME、offical_score\n",
    "  \n",
    "  mse = mean_squared_error(test_y, pred_y)  # 此处的mse=history.history['val_loss'][-1]\n",
    "  print('Test MSE: %.3f' % mse)\n",
    " \n",
    "  mae = mean_absolute_error(test_y, pred_y)    \n",
    "  print('Test MAE: %.3f' % mae)\n",
    " \n",
    "  r2 = r2_score(test_y, pred_y)    \n",
    "  print('Test R2: %.3f' % r2)\n",
    " \n",
    "  rmse = sqrt(mean_squared_error(test_y, pred_y))    \n",
    "  print('Test RMSE: %.3f' % rmse)\n",
    " \n",
    "  count_number = 0\n",
    "  for i in range(len(pred_y)):\n",
    "    if abs(pred_y[i]-test_y[i][0])/test_y[i][0] <0.002:\n",
    "    # if abs(pred_y[i]-test_y[i][0])<0.03:\n",
    "      count_number = count_number + 1    \n",
    "  acc = float(count_number)/len(pred_y)\n",
    "  print('Accuracy: %.3f' % acc)\n",
    "  # acc = 0.9\n",
    " \n",
    "  loss_xcc = [(pred_y[i]-test_y[i][0])/test_y[i][0] for i in range(len(pred_y))]\n",
    " \n",
    "  return rmse, mse, mae, r2, acc, loss_xcc, LSTM_dir\n",
    " \n",
    "def main(stock_code):\n",
    "  time_start = time.time()\n",
    " \n",
    "  # 设置文件保存路径\n",
    "  path_root = '/content/drive/MyDrive/Quant/Stock_pred'\n",
    "  EPOCHS = 100\n",
    "  # global EPOCHS\n",
    " \n",
    "  \n",
    "  YMD,df = load_data(stock_code)\n",
    "  X_, Y_ = generate_sample(YMD,df)\n",
    "  X_train, y_train, X_test, y_test = generate_train_test(X_, Y_)\n",
    " \n",
    "  df_loss = pd.DataFrame(index = ['rmse', 'mse', 'mae', 'r2', 'Acc', 'Loss_xcc'])\n",
    "  rmse, mse, mae, r2, acc, loss_xcc, LSTM_dir = Evaluate_Loss(X_train, y_train, X_test, y_test, EPOCHS, path_root)\n",
    "  df_loss['Predictive_Index'] = [rmse, mse, mae, r2, acc, loss_xcc]\n",
    "  df_loss.to_csv(path_root + bj_time() + '__' + str(EPOCHS) + '__LSTM_losses.csv')\n",
    " \n",
    "  time_end=time.time()\n",
    "  print('totally cost',time_end-time_start)\n",
    " \n",
    "main(stock_code = str(601577))"
   ]
  },
  {
   "cell_type": "markdown",
   "metadata": {
    "id": "P8Gxy1jF6Aoj"
   },
   "source": [
    "### 模拟决策"
   ]
  },
  {
   "cell_type": "code",
   "execution_count": 9,
   "metadata": {
    "colab": {
     "base_uri": "https://localhost:8080/",
     "height": 286
    },
    "executionInfo": {
     "elapsed": 1195,
     "status": "error",
     "timestamp": 1620334801435,
     "user": {
      "displayName": "Chuanchao Xu",
      "photoUrl": "",
      "userId": "08016207472332924278"
     },
     "user_tz": -480
    },
    "id": "8i1ilZpWgmDn",
    "outputId": "9f6f5290-a847-4508-9ca3-bc9d49a644b6"
   },
   "outputs": [
    {
     "ename": "NameError",
     "evalue": "ignored",
     "output_type": "error",
     "traceback": [
      "\u001b[0;31m---------------------------------------------------------------------------\u001b[0m",
      "\u001b[0;31mNameError\u001b[0m                                 Traceback (most recent call last)",
      "\u001b[0;32m<ipython-input-9-d476f8b39292>\u001b[0m in \u001b[0;36m<module>\u001b[0;34m()\u001b[0m\n\u001b[1;32m      3\u001b[0m \u001b[0;32mfrom\u001b[0m \u001b[0mkeras\u001b[0m\u001b[0;34m.\u001b[0m\u001b[0mmodels\u001b[0m \u001b[0;32mimport\u001b[0m \u001b[0mload_model\u001b[0m\u001b[0;34m\u001b[0m\u001b[0;34m\u001b[0m\u001b[0m\n\u001b[1;32m      4\u001b[0m \u001b[0;34m\u001b[0m\u001b[0m\n\u001b[0;32m----> 5\u001b[0;31m \u001b[0mYMD\u001b[0m\u001b[0;34m,\u001b[0m\u001b[0mdf\u001b[0m \u001b[0;34m=\u001b[0m \u001b[0mload_data\u001b[0m\u001b[0;34m(\u001b[0m\u001b[0mstock_code\u001b[0m\u001b[0;34m)\u001b[0m\u001b[0;34m\u001b[0m\u001b[0;34m\u001b[0m\u001b[0m\n\u001b[0m\u001b[1;32m      6\u001b[0m \u001b[0mX_\u001b[0m\u001b[0;34m,\u001b[0m \u001b[0mY_\u001b[0m \u001b[0;34m=\u001b[0m \u001b[0mgenerate_sample\u001b[0m\u001b[0;34m(\u001b[0m\u001b[0mYMD\u001b[0m\u001b[0;34m,\u001b[0m\u001b[0mdf\u001b[0m\u001b[0;34m)\u001b[0m\u001b[0;34m\u001b[0m\u001b[0;34m\u001b[0m\u001b[0m\n\u001b[1;32m      7\u001b[0m \u001b[0mX_train\u001b[0m\u001b[0;34m,\u001b[0m \u001b[0my_train\u001b[0m\u001b[0;34m,\u001b[0m \u001b[0mX_test\u001b[0m\u001b[0;34m,\u001b[0m \u001b[0my_test\u001b[0m \u001b[0;34m=\u001b[0m \u001b[0mgenerate_train_test\u001b[0m\u001b[0;34m(\u001b[0m\u001b[0mX_\u001b[0m\u001b[0;34m,\u001b[0m \u001b[0mY_\u001b[0m\u001b[0;34m)\u001b[0m\u001b[0;34m\u001b[0m\u001b[0;34m\u001b[0m\u001b[0m\n",
      "\u001b[0;31mNameError\u001b[0m: name 'stock_code' is not defined"
     ]
    }
   ],
   "source": [
    "import numpy as np\n",
    "import h5py\n",
    "from keras.models import load_model\n",
    " \n",
    "YMD,df = load_data(stock_code)\n",
    "X_, Y_ = generate_sample(YMD,df)\n",
    "X_train, y_train, X_test, y_test = generate_train_test(X_, Y_)\n",
    " \n",
    "# 加载模型\n",
    "path_model = path_root + '/Model/2020_12_28__13_49_05__1000__LSTM_model.h5'  # 手动指定模型 \n",
    "# path_model = LSTM_dir  # 自动指定最新模型\n",
    " \n",
    " \n",
    "model = load_model(path_model)\n",
    " \n",
    "# 模型可视化\n",
    "# from keras.utils import plot_modelpred\n",
    "# plot_model(model)\n",
    " \n",
    "# 预测股价、进行决策、计算收益\n",
    "Y_pred = model.predict(X_test)   # 预测股价\n",
    "days_test = int(len(Y_test)*7/5)      # 对应test（不包括周末）的时间跨度\n",
    "count_number = 0          # 交易执行计数\n",
    "stock_yield_total = 0       # 收益累计\n",
    "epsilon = 0.01          # 决策阈值，不能低于0.002是因为交易摩擦为2‰，多出的空间即为预设利润空间\n",
    "rate_growth_test = [(Y_pred[i]-X_test[i][-1])/X_test[i][-1] for i in range(len(Y_test))] #股票收益增长率\n",
    "growth_test = [Y_pred[i]-X_test[i][-1] for i in range(len(Y_test))]  # 当日买入，次日卖出，计算收益(绝对值，非相对值)\n",
    "for i in range(len(Y_pred)):\n",
    "  if rate_growth_test[i] >= epsilon:   # 如果预测股价能够增长0.2%，epsilon即为阈值,（相对值，非绝对值）    \n",
    "    stock_yield_total += growth_test[i]\n",
    "    count_number += 1 \n",
    " \n",
    "Y_start_test = Y_test[0]   # 在test的时间区段内，起始股票价格为Y_start_test\n",
    "stock_yield_nature_rate = (Y_test[-1] - Y_test[0])/Y_start_test  # 计算基于预测结果进行决策的股票收益率\n",
    "stock_yield_rate = stock_yield_total/Y_start_test  # 计算基于预测结果进行决策的股票收益率\n",
    "rate_execution = float(count_number)/len(Y_pred)  # 条件预测正确率（达到阈值即执行，也即预测达到阈值条件的准确率）\n",
    " \n",
    " \n",
    "print(' 测试数据时间跨度：%d天\\n 股票起始价格：%0.3f\\n 单股收益累计值：%.3f\\n 单股收益率：%0.3f%%\\n 自然涨跌收益率：%0.3f%%\\n 决策阈值：%.2f%%\\n 条件预测正确率: %.3f' % \\\n",
    "      (days_test, Y_start_test, stock_yield_total, stock_yield_rate*100, stock_yield_nature_rate*100, epsilon*100, rate_execution))"
   ]
  },
  {
   "cell_type": "markdown",
   "metadata": {
    "id": "KIqn6mps7Czm"
   },
   "source": [
    "### 参数优化\n",
    "评价个股预测模型的指标选用R2，越接近1，证明模型与数据拟合的越好。\n",
    "可优化的参数包括：股票样本对应的时间跨度、网络结构、"
   ]
  },
  {
   "cell_type": "code",
   "execution_count": null,
   "metadata": {
    "id": "3MYPCNtE7E_k"
   },
   "outputs": [],
   "source": [
    "# 应用AutoML技术"
   ]
  },
  {
   "cell_type": "markdown",
   "metadata": {
    "id": "RKwRdqVSt921"
   },
   "source": [
    "### 模型调整\n",
    "\n",
    "将模型输出修改为股价增长率和增长概率"
   ]
  },
  {
   "cell_type": "code",
   "execution_count": null,
   "metadata": {
    "id": "sZntAhL4uhZi"
   },
   "outputs": [],
   "source": [
    "# 继承个股"
   ]
  },
  {
   "cell_type": "markdown",
   "metadata": {
    "id": "f0lA08t_7Afz"
   },
   "source": [
    "## 策略\n",
    "\n",
    "[策略范例](https://www.zhihu.com/question/38113586/answer/1355321433)：\n",
    "\n",
    "1.按月选股，每月第一个开盘日买入，最后一个开盘日卖出；\n",
    "\n",
    "2.将每个指标进行正、负排序，分别选出前10只股票；\n",
    "\n",
    "3.计算10年的累积收益，找出表现最好的指标。\n"
   ]
  },
  {
   "cell_type": "markdown",
   "metadata": {
    "id": "yo9tD19d7DbO"
   },
   "source": [
    "### 选股&筛股\n",
    "\n",
    "指标包括benchmark、换手率(自由流通股本）、流通股本、市盈率（TTM）、"
   ]
  },
  {
   "cell_type": "code",
   "execution_count": null,
   "metadata": {
    "colab": {
     "base_uri": "https://localhost:8080/"
    },
    "executionInfo": {
     "elapsed": 1077,
     "status": "ok",
     "timestamp": 1617864703791,
     "user": {
      "displayName": "Chuanchao Xu",
      "photoUrl": "",
      "userId": "08016207472332924278"
     },
     "user_tz": -480
    },
    "id": "sZrJP1ek7CyY",
    "outputId": "c86b4a9a-395a-4f20-8e0a-9846b8b54f67"
   },
   "outputs": [
    {
     "name": "stdout",
     "output_type": "stream",
     "text": [
      "    Unnamed: 0    ts_code  symbol  name area industry  list_date\n",
      "0            0  600000.SH  600000  浦发银行   上海       银行   19991110\n",
      "1            1  600004.SH  600004  白云机场   广东       机场   20030428\n",
      "2            2  600006.SH  600006  东风汽车   湖北     汽车整车   19990727\n",
      "3            3  600007.SH  600007  中国国贸   北京     园区开发   19990312\n",
      "4            4  600008.SH  600008  首创股份   北京     环境保护   20000427\n",
      "5            5  600009.SH  600009  上海机场   上海       机场   19980218\n",
      "6            6  600010.SH  600010  包钢股份   内蒙       普钢   20010309\n",
      "7            7  600011.SH  600011  华能国际   北京     火力发电   20011206\n",
      "8            8  600012.SH  600012  皖通高速   安徽       路桥   20030107\n",
      "9            9  600015.SH  600015  华夏银行   北京       银行   20030912\n",
      "10          10  600016.SH  600016  民生银行   北京       银行   20001219\n",
      "11          11  600017.SH  600017   日照港   山东       港口   20061017\n",
      "12          12  600018.SH  600018  上港集团   上海       港口   20061026\n",
      "13          13  600019.SH  600019  宝钢股份   上海       普钢   20001212\n",
      "14          14  600020.SH  600020  中原高速   河南       路桥   20030808\n",
      "15          15  600021.SH  600021  上海电力   上海     火力发电   20031029\n",
      "16          16  600022.SH  600022  山东钢铁   山东       普钢   20040629\n",
      "17          17  600023.SH  600023  浙能电力   浙江     火力发电   20131219\n",
      "18          18  600025.SH  600025  华能水电   云南     水力发电   20171215\n",
      "19          19  600026.SH  600026  中远海能   上海       水运   20020523\n",
      "    Unnamed: 0    ts_code  symbol  name area industry  list_date\n",
      "0            0  600000.SH  600000  浦发银行   上海       银行   19991110\n",
      "1            1  600004.SH  600004  白云机场   广东       机场   20030428\n",
      "2            2  600006.SH  600006  东风汽车   湖北     汽车整车   19990727\n",
      "3            3  600007.SH  600007  中国国贸   北京     园区开发   19990312\n",
      "4            4  600008.SH  600008  首创股份   北京     环境保护   20000427\n",
      "5            5  600009.SH  600009  上海机场   上海       机场   19980218\n",
      "6            6  600010.SH  600010  包钢股份   内蒙       普钢   20010309\n",
      "7            7  600011.SH  600011  华能国际   北京     火力发电   20011206\n",
      "8            8  600012.SH  600012  皖通高速   安徽       路桥   20030107\n",
      "9            9  600015.SH  600015  华夏银行   北京       银行   20030912\n",
      "10          10  600016.SH  600016  民生银行   北京       银行   20001219\n",
      "11          11  600017.SH  600017   日照港   山东       港口   20061017\n",
      "12          12  600018.SH  600018  上港集团   上海       港口   20061026\n",
      "13          13  600019.SH  600019  宝钢股份   上海       普钢   20001212\n",
      "14          14  600020.SH  600020  中原高速   河南       路桥   20030808\n",
      "15          15  600021.SH  600021  上海电力   上海     火力发电   20031029\n",
      "16          16  600022.SH  600022  山东钢铁   山东       普钢   20040629\n",
      "17          17  600023.SH  600023  浙能电力   浙江     火力发电   20131219\n",
      "18          18  600025.SH  600025  华能水电   云南     水力发电   20171215\n",
      "19          19  600026.SH  600026  中远海能   上海       水运   20020523\n"
     ]
    }
   ],
   "source": [
    "import pandas as pd\n",
    " \n",
    "# 加载股票列表\n",
    "path_stock_list = '/content/drive/MyDrive/Quant/Data_input/Data_frequently_used/The_Stock_List.csv'\n",
    " \n",
    " \n",
    "# 选股筛股暂时不做，先以前20支股票作为样本集进行筛选（选出5支），然后模拟炒股\n",
    "df_stock_list = pd.read_csv(path_stock_list)\n",
    "# print(df_stock_list.head(20))\n",
    "# print(df_stock_list['ts_code'])\n",
    "df_target_stock_list = df_stock_list.iloc[:20,:]\n",
    "# print(df_target_stock_list)\n",
    " \n",
    "# 基于指标benchmark、换手率(自由流通股本）、流通股本、市盈率（TTM）等，20选5\n",
    "def eval_stock(stock_index):\n",
    "  # calculate benchmark"
   ]
  },
  {
   "cell_type": "markdown",
   "metadata": {
    "id": "albKJO1Q7HjF"
   },
   "source": [
    "### 择时"
   ]
  },
  {
   "cell_type": "code",
   "execution_count": null,
   "metadata": {
    "id": "_dQzQfkn7EnF"
   },
   "outputs": [],
   "source": []
  },
  {
   "cell_type": "markdown",
   "metadata": {
    "id": "6Nee4DtL7JuB"
   },
   "source": [
    "### 仓位管理"
   ]
  },
  {
   "cell_type": "code",
   "execution_count": null,
   "metadata": {
    "id": "GZKw3Yip7PCq"
   },
   "outputs": [],
   "source": []
  },
  {
   "cell_type": "markdown",
   "metadata": {
    "id": "XIGTWK0W7MPC"
   },
   "source": [
    "### 止盈止损"
   ]
  },
  {
   "cell_type": "markdown",
   "metadata": {
    "id": "P0p-eDSP7gCe"
   },
   "source": [
    "# Idea"
   ]
  },
  {
   "cell_type": "markdown",
   "metadata": {
    "id": "iEeSIA027nA2"
   },
   "source": [
    "## 自适应选取时线、日线、周线、月线"
   ]
  }
 ],
 "metadata": {
  "accelerator": "GPU",
  "colab": {
   "authorship_tag": "ABX9TyMc2rMhrlPwlt4Xvq0bUOya",
   "collapsed_sections": [],
   "mount_file_id": "1Q9LunK8QTEOvH0pin2s7F-K5dLSIUm0R",
   "name": "Quant_XCC.ipynb",
   "provenance": []
  },
  "kernelspec": {
   "display_name": "Python 3",
   "language": "python",
   "name": "python3"
  },
  "language_info": {
   "codemirror_mode": {
    "name": "ipython",
    "version": 3
   },
   "file_extension": ".py",
   "mimetype": "text/x-python",
   "name": "python",
   "nbconvert_exporter": "python",
   "pygments_lexer": "ipython3",
   "version": "3.7.3"
  },
  "toc": {
   "base_numbering": 1,
   "nav_menu": {},
   "number_sections": true,
   "sideBar": true,
   "skip_h1_title": false,
   "title_cell": "Table of Contents",
   "title_sidebar": "Contents",
   "toc_cell": false,
   "toc_position": {},
   "toc_section_display": true,
   "toc_window_display": true
  },
  "varInspector": {
   "cols": {
    "lenName": 16,
    "lenType": 16,
    "lenVar": 40
   },
   "kernels_config": {
    "python": {
     "delete_cmd_postfix": "",
     "delete_cmd_prefix": "del ",
     "library": "var_list.py",
     "varRefreshCmd": "print(var_dic_list())"
    },
    "r": {
     "delete_cmd_postfix": ") ",
     "delete_cmd_prefix": "rm(",
     "library": "var_list.r",
     "varRefreshCmd": "cat(var_dic_list()) "
    }
   },
   "types_to_exclude": [
    "module",
    "function",
    "builtin_function_or_method",
    "instance",
    "_Feature"
   ],
   "window_display": false
  }
 },
 "nbformat": 4,
 "nbformat_minor": 1
}

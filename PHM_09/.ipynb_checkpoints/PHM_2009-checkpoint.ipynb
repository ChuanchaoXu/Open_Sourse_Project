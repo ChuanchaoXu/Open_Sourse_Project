{
 "cells": [
  {
   "cell_type": "code",
   "execution_count": 1,
   "metadata": {
    "colab": {
     "base_uri": "https://localhost:8080/"
    },
    "executionInfo": {
     "elapsed": 98957,
     "status": "ok",
     "timestamp": 1623306320561,
     "user": {
      "displayName": "Chuanchao Xu",
      "photoUrl": "",
      "userId": "08016207472332924278"
     },
     "user_tz": -480
    },
    "id": "GAQLZZfzrXjH",
    "outputId": "6a3dbef8-55ee-4868-b6f8-6d2638696f82"
   },
   "outputs": [
    {
     "name": "stdout",
     "output_type": "stream",
     "text": [
      "Mounted at /content/drive\n"
     ]
    }
   ],
   "source": [
    "from google.colab import drive\n",
    "drive.mount('/content/drive')"
   ]
  },
  {
   "cell_type": "markdown",
   "metadata": {
    "id": "615WKhmiCfzr"
   },
   "source": [
    "# 数据分析"
   ]
  },
  {
   "cell_type": "code",
   "execution_count": 2,
   "metadata": {
    "executionInfo": {
     "elapsed": 1478,
     "status": "ok",
     "timestamp": 1623306347992,
     "user": {
      "displayName": "Chuanchao Xu",
      "photoUrl": "",
      "userId": "08016207472332924278"
     },
     "user_tz": -480
    },
    "id": "MLGfitMtCIqX"
   },
   "outputs": [],
   "source": [
    "path =  '/content/drive/Shareddrives/xucc1993.HK(CRN.NGO)/PHM_09/PHM 2009 data challenge(齿轮箱数据与网址)/PHM_Society_2009_Competition_Expanded_txt'\n",
    "path_Data = path +\"/Data\"\n"
   ]
  },
  {
   "cell_type": "code",
   "execution_count": null,
   "metadata": {
    "colab": {
     "base_uri": "https://localhost:8080/"
    },
    "executionInfo": {
     "elapsed": 615,
     "status": "ok",
     "timestamp": 1622448159795,
     "user": {
      "displayName": "Chuanchao Xu",
      "photoUrl": "",
      "userId": "08016207472332924278"
     },
     "user_tz": -480
    },
    "id": "KY_jzVPbcVFY",
    "outputId": "7b28b55e-5504-4566-b17d-d5e33569dfed"
   },
   "outputs": [
    {
     "name": "stdout",
     "output_type": "stream",
     "text": [
      "/content/drive/Shareddrives/xucc1993.HK(CRN.NGO)/PHM_09/PHM 2009 data challenge(齿轮箱数据与网址)/PHM_Society_2009_Competition_Expanded_txt\n"
     ]
    }
   ],
   "source": [
    "%cd '/content/drive/Shareddrives/xucc1993.HK(CRN.NGO)/PHM_09/PHM 2009 data challenge(齿轮箱数据与网址)/PHM_Society_2009_Competition_Expanded_txt'"
   ]
  },
  {
   "cell_type": "markdown",
   "metadata": {
    "id": "mkljrq5UHq5R"
   },
   "source": [
    "## 数据文件解压缩"
   ]
  },
  {
   "cell_type": "code",
   "execution_count": null,
   "metadata": {
    "colab": {
     "base_uri": "https://localhost:8080/"
    },
    "executionInfo": {
     "elapsed": 411,
     "status": "ok",
     "timestamp": 1622528856178,
     "user": {
      "displayName": "Chuanchao Xu",
      "photoUrl": "",
      "userId": "08016207472332924278"
     },
     "user_tz": -480
    },
    "id": "vVAQawTSckmu",
    "outputId": "6909a8b0-fca5-430c-d573-39d3edd70999"
   },
   "outputs": [
    {
     "name": "stdout",
     "output_type": "stream",
     "text": [
      "数据的标签（故障类型）及所在文件夹：\n",
      "['helical 1', 'helical 2', 'helical 3', 'helical 4', 'helical 5', 'helical 6', 'spur 1', 'spur 2', 'spur 3', 'spur 4', 'spur 5', 'spur 6', 'spur 7', 'spur 8']\n",
      "\n",
      "直齿齿轮组的数据标签及所在文件夹：\n",
      "['helical 1', 'helical 2', 'helical 3', 'helical 4', 'helical 5', 'helical 6']\n",
      "\n",
      "斜齿齿轮组的数据标签及所在文件夹：\n",
      "['spur 1', 'spur 2', 'spur 3', 'spur 4', 'spur 5', 'spur 6', 'spur 7', 'spur 8']\n",
      "\n"
     ]
    }
   ],
   "source": [
    "# 数据文件解压缩\n",
    "\n",
    "## 筛选包含数据的文件夹\n",
    "import os\n",
    "origin_dir_files = path + '/PHM_Society_2009_Competition_Expanded_txt'\n",
    "dirs = [i for i in os.listdir(origin_dir_files) if '.' not in i]  # 提取包含数据的文件夹\n",
    "dirs = sorted(dirs, key=str.lower)  # 按字母排序\n",
    "print(\"数据的标签（故障类型）及所在文件夹：\\n{}\\n\".format(dirs))\n",
    "\n",
    "\n",
    "## 按照直齿和斜齿进行数据分组\n",
    "helical_dir = [i for i in dirs if 'helical' in i]\n",
    "print(\"直齿齿轮组的数据标签及所在文件夹：\\n{}\\n\".format(helical_dir))\n",
    "# os.mkdir('helical')\n",
    "spur_dir = [i for i in dirs if 'spur' in i]\n",
    "print(\"斜齿齿轮组的数据标签及所在文件夹：\\n{}\\n\".format(spur_dir))\n",
    "# os.mkdir('spur')\n"
   ]
  },
  {
   "cell_type": "code",
   "execution_count": null,
   "metadata": {
    "id": "BZd0ic6uxyKa"
   },
   "outputs": [],
   "source": [
    "import zipfile\n",
    "\n",
    "## 将数据文件解压缩至\"Data\"\n",
    "path_Data = '/content/drive/Shareddrives/xucc1993.HK(CRN.NGO)/PHM_09/PHM 2009 data challenge(齿轮箱数据与网址)/PHM_Society_2009_Competition_Expanded_txt/Data'\n",
    "path_origin_data = '/content/drive/Shareddrives/xucc1993.HK(CRN.NGO)/PHM_09/PHM 2009 data challenge(齿轮箱数据与网址)/PHM_Society_2009_Competition_Expanded_txt/PHM_Society_2009_Competition_Expanded_txt'\n",
    "for group_dir in [helical_dir,spur_dir]:\n",
    "  for files_dir_class in group_dir:\n",
    "    for file_i in os.listdir(path_origin_data + '/' + files_dir_class):\n",
    "      print(file_i)\n",
    "      path_file_i = path_origin_data +'/'+ files_dir_class +'/'+ file_i\n",
    "      extracting = zipfile.ZipFile(path_file_i)\n",
    "      extracting.extractall(path_Data +'/'+ group_dir[0][:-2])\n",
    "\n",
    "      # break\n",
    "    # break\n",
    "  # break"
   ]
  },
  {
   "cell_type": "markdown",
   "metadata": {
    "id": "3rx-PheDHu7J"
   },
   "source": [
    "## 数据查看"
   ]
  },
  {
   "cell_type": "code",
   "execution_count": 5,
   "metadata": {
    "colab": {
     "base_uri": "https://localhost:8080/"
    },
    "executionInfo": {
     "elapsed": 2608,
     "status": "ok",
     "timestamp": 1623236014611,
     "user": {
      "displayName": "Chuanchao Xu",
      "photoUrl": "",
      "userId": "08016207472332924278"
     },
     "user_tz": -480
    },
    "id": "VfQunxKB8-RJ",
    "outputId": "9649d758-025c-4ea3-eb55-615327254c01"
   },
   "outputs": [
    {
     "name": "stdout",
     "output_type": "stream",
     "text": [
      "   voltage_input  voltage_output  value_tachometer\n",
      "0       0.025787        0.001984          0.050049\n",
      "1       0.025177        0.002289          0.050049\n",
      "2       0.025177        0.000916          0.043945\n",
      "3       0.024872        0.001068          0.043945\n",
      "4       0.024872        0.000458          0.036621\n"
     ]
    }
   ],
   "source": [
    "# 数据标记\n",
    "import numpy as np\n",
    "import pandas as pd\n",
    "txt_file = '/content/drive/Shareddrives/xucc1993.HK(CRN.NGO)/PHM_09/PHM 2009 data challenge(齿轮箱数据与网址)/PHM_Society_2009_Competition_Expanded_txt/Data/helical/helical 1_30hz_High_1.txt'\n",
    "path_web = 'http://tmp.link/f/60b4e9c52e247'\n",
    "path_web_1 = 'https://app.tmp.link/?tmpui_page=/file&ukey=60b4e9c52e247'\n",
    "def data_mark(path):\n",
    "  df = pd.read_csv(path ,sep='\\s+', names=['voltage_input','voltage_output','value_tachometer'],header=1)\n",
    "  # print(df.head())\n",
    "  return df \n",
    "\n",
    "df = data_mark(txt_file)\n",
    "print(df.head())\n"
   ]
  },
  {
   "cell_type": "markdown",
   "metadata": {
    "id": "78cJxs7tMkKA"
   },
   "source": [
    "## 下采样&可视化"
   ]
  },
  {
   "cell_type": "code",
   "execution_count": null,
   "metadata": {
    "id": "nWk8oocC9xD-"
   },
   "outputs": [],
   "source": [
    "index_sub = range(0,df.shape[0],1000)\n",
    "print(len(index_sub))\n",
    "\n",
    "sample_temp = list(df.iloc[:,0])\n",
    "\n",
    "df_subsample = [sample_temp[i] for i in index_sub]\n",
    "print(len(df_subsample))\n",
    "\n",
    "import matplotlib\n",
    "matplotlib.use('TkAgg')\n",
    "import matplotlib.pyplot as plt\n",
    "\n",
    "plt.figure()\n",
    "plt.plot(index_sub, df_subsample)\n",
    "plt.show()\n",
    "# plt.savefig('/content/drive/MyDrive/Other_Projects/PHM_09/test.jpg')\n"
   ]
  },
  {
   "cell_type": "markdown",
   "metadata": {
    "id": "6ajjsbOcMZcp"
   },
   "source": [
    "## 重构数据"
   ]
  },
  {
   "cell_type": "code",
   "execution_count": null,
   "metadata": {
    "colab": {
     "base_uri": "https://localhost:8080/"
    },
    "executionInfo": {
     "elapsed": 62928,
     "status": "ok",
     "timestamp": 1622667834117,
     "user": {
      "displayName": "Chuanchao Xu",
      "photoUrl": "",
      "userId": "08016207472332924278"
     },
     "user_tz": -480
    },
    "id": "itcoqctqOp6O",
    "outputId": "2c9b0fc4-d6f0-49f4-a14d-76edec9a7988"
   },
   "outputs": [
    {
     "name": "stdout",
     "output_type": "stream",
     "text": [
      "面向 helical 生成结构化数据\n"
     ]
    },
    {
     "name": "stderr",
     "output_type": "stream",
     "text": [
      "/usr/local/lib/python3.7/dist-packages/ipykernel_launcher.py:42: VisibleDeprecationWarning: Creating an ndarray from ragged nested sequences (which is a list-or-tuple of lists-or-tuples-or ndarrays with different lengths or shapes) is deprecated. If you meant to do this, you must specify 'dtype=object' when creating the ndarray\n"
     ]
    },
    {
     "name": "stdout",
     "output_type": "stream",
     "text": [
      "(115,)\n",
      "(115, 266653, 3)\n",
      "(115, 1)\n",
      "面向 spur 生成结构化数据\n",
      "(157,)\n",
      "(157, 266648, 3)\n",
      "(157, 1)\n"
     ]
    }
   ],
   "source": [
    "# 基于标签构建结构化数据（samplie_numbers, length_series, channels)\n",
    "# def generater_structure_data(df_single_sample, label):\n",
    "#   array_sample = df_single_sample.values\n",
    "import pandas as pd\n",
    "import numpy as np\n",
    "import os\n",
    "\n",
    "# 打包数据（不截取，不下采样）\n",
    "\n",
    "length_applied_helical = 266653\n",
    "length_applied_spur = 266648\n",
    "\n",
    "path_Data = path + '/Data'\n",
    "\n",
    "for group_name in ['helical','spur']:\n",
    "  print(\"面向 {} 生成结构化数据\".format(group_name))\n",
    "  data_structure = []\n",
    "  label_structure = []\n",
    "  data_structure_cut = []\n",
    "  for name_file in os.listdir(path_Data +'/'+ group_name):\n",
    "    path_file = path_Data +'/'+ group_name +'/'+ name_file\n",
    "    df = pd.read_csv(path_file,\n",
    "              sep='\\s+', \n",
    "              names=['voltage_input','voltage_output','value_tachometer'],\n",
    "              header=1)\n",
    "    if df.shape[0] == 245646:  # 跳过异常值（序列过短）\n",
    "      continue\n",
    "\n",
    "    if group_name=='helical':\n",
    "      freq_asample = int(name_file[10:12])\n",
    "      df_cut = df.iloc[:length_applied_helical,:]  # 直接按采样频率降采样\n",
    "      label_structure.append(int(name_file[8]))\n",
    "      \n",
    "    else:\n",
    "      freq_asample = int(name_file[7:9])\n",
    "      df_cut = df.iloc[:length_applied_spur,:]\n",
    "      label_structure.append(int(name_file[5]))\n",
    "    \n",
    "    data_structure.append(df.values)\n",
    "    data_structure_cut.append(df_cut.values)\n",
    "  \n",
    "  data_structure = np.array(data_structure)\n",
    "  data_structure_cut = np.array(data_structure_cut)\n",
    "  label_structure = np.array(label_structure).reshape(len(label_structure),1)\n",
    "  print(data_structure.shape)\n",
    "  print(data_structure_cut.shape)\n",
    "  print(label_structure.shape)\n",
    "\n",
    "  np.save(path_Data +'/'+ group_name + \"_features.npy\", data_structure)\n",
    "  np.save(path_Data +'/'+ group_name + \"_features_cut.npy\", data_structure_cut)\n",
    "  np.save(path_Data +'/'+ group_name + \"_labels.npy\", label_structure)\n"
   ]
  },
  {
   "cell_type": "markdown",
   "metadata": {
    "id": "c_JdSo8Cad1m"
   },
   "source": [
    "## 生成子序列样本"
   ]
  },
  {
   "cell_type": "code",
   "execution_count": null,
   "metadata": {
    "id": "9tp07cxmhui7"
   },
   "outputs": [],
   "source": [
    "path_Sub_Series = '/content/drive/Shareddrives/xucc1993.HK(CRN.NGO)/PHM_09/PHM 2009 data challenge(齿轮箱数据与网址)/PHM_Society_2009_Competition_Expanded_txt/Data/Sub_Series'"
   ]
  },
  {
   "cell_type": "code",
   "execution_count": null,
   "metadata": {
    "id": "1dBu5_zktdRP"
   },
   "outputs": [],
   "source": [
    "label_structure"
   ]
  },
  {
   "cell_type": "code",
   "execution_count": 13,
   "metadata": {
    "colab": {
     "base_uri": "https://localhost:8080/"
    },
    "executionInfo": {
     "elapsed": 52913,
     "status": "ok",
     "timestamp": 1623241386461,
     "user": {
      "displayName": "Chuanchao Xu",
      "photoUrl": "",
      "userId": "08016207472332924278"
     },
     "user_tz": -480
    },
    "id": "_mvPQJBmaiYo",
    "outputId": "d6474e00-254a-4d4a-97ef-5e7102914931"
   },
   "outputs": [
    {
     "name": "stdout",
     "output_type": "stream",
     "text": [
      "面向 helical 生成结构化数据\n",
      "(1160, 1)\n",
      "面向 spur 生成结构化数据\n",
      "(1570, 1)\n"
     ]
    }
   ],
   "source": [
    "import pandas as pd\n",
    "import numpy as np\n",
    "import os\n",
    "\n",
    "# 生成子序列样本并打包\n",
    "\n",
    "path_Data = path + '/Data'\n",
    "\n",
    "for group_name in ['helical','spur']:\n",
    "  print(\"面向 {} 生成结构化数据\".format(group_name))\n",
    "  label_structure = []\n",
    "  data_sub_series = []\n",
    "  for name_file in os.listdir(path_Data +'/'+ group_name):\n",
    "    path_file = path_Data +'/'+ group_name +'/'+ name_file\n",
    "    df = pd.read_csv(path_file,\n",
    "              sep='\\s+', \n",
    "              names=['voltage_input','voltage_output','value_tachometer'],\n",
    "              header=1)\n",
    "\n",
    "    if group_name=='helical':\n",
    "      freq_asample = int(name_file[10:12])\n",
    "      df_ = df.iloc[:df.shape[0]-1:freq_asample,:]  # 直接按采样频率降采样\n",
    "      index_sub_sample = np.random.randint(0, df_.shape[0]-1024, 10)    ## 每个样本信号（三列选一列）随机生成10个子序列样本\n",
    "      df_ = [df_.iloc[i:i+1024,:].values for i in index_sub_sample]  ## 子序列长度设置为1024\n",
    "      label.extend([int(name_file[8])]*10)\n",
    "      \n",
    "    else:\n",
    "      freq_asample = int(name_file[7:9])\n",
    "      df_ = df.iloc[:df.shape[0]-1:freq_asample,:]\n",
    "      index_sub_sample = np.random.randint(0, df_.shape[0]-1024, 10)    \n",
    "      df_ = [df_.iloc[i:i+1024,:].values for i in index_sub_sample]\n",
    "      label.extend([int(name_file[5])]*10)\n",
    "    \n",
    "\n",
    "    data_sub_series.extend(df_)\n",
    "  \n",
    "  data_sub_series = np.array(data_sub_series)\n",
    "  label = np.array(label).reshape(len(label),1)\n",
    "\n",
    "  print(data_sub_series.shape)\n",
    "  print(label.shape)\n",
    "\n",
    "  np.save(path_Data +'/Sub_Series/'+ group_name + \"_features_sub_series.npy\", data_sub_series)\n",
    "  np.save(path_Data +'/Sub_Series/'+ group_name + \"_labels.npy\", label)"
   ]
  },
  {
   "cell_type": "markdown",
   "metadata": {
    "id": "Ru3kSbXehTLS"
   },
   "source": [
    "# 特征工程"
   ]
  },
  {
   "cell_type": "markdown",
   "metadata": {
    "id": "uwdSXr0YRvLN"
   },
   "source": [
    "## EMD工程"
   ]
  },
  {
   "cell_type": "markdown",
   "metadata": {
    "id": "Mf3UUVwrMo79"
   },
   "source": [
    "### 计算经验模态分量"
   ]
  },
  {
   "cell_type": "code",
   "execution_count": null,
   "metadata": {
    "colab": {
     "base_uri": "https://localhost:8080/"
    },
    "executionInfo": {
     "elapsed": 237751,
     "status": "ok",
     "timestamp": 1622673592448,
     "user": {
      "displayName": "Chuanchao Xu",
      "photoUrl": "",
      "userId": "08016207472332924278"
     },
     "user_tz": -480
    },
    "id": "2lti-maaMcTQ",
    "outputId": "4f649e50-569e-4bee-8a26-aa270251395a"
   },
   "outputs": [
    {
     "name": "stdout",
     "output_type": "stream",
     "text": [
      "面向 helical 生成EMD数据\n",
      "helical组样本量：115\n",
      "面向 spur 生成EMD数据\n"
     ]
    },
    {
     "name": "stderr",
     "output_type": "stream",
     "text": [
      "/usr/local/lib/python3.7/dist-packages/ipykernel_launcher.py:48: VisibleDeprecationWarning: Creating an ndarray from ragged nested sequences (which is a list-or-tuple of lists-or-tuples-or ndarrays with different lengths or shapes) is deprecated. If you meant to do this, you must specify 'dtype=object' when creating the ndarray\n"
     ]
    },
    {
     "name": "stdout",
     "output_type": "stream",
     "text": [
      "spur组样本量：157\n"
     ]
    },
    {
     "name": "stderr",
     "output_type": "stream",
     "text": [
      "/usr/local/lib/python3.7/dist-packages/ipykernel_launcher.py:53: VisibleDeprecationWarning: Creating an ndarray from ragged nested sequences (which is a list-or-tuple of lists-or-tuples-or ndarrays with different lengths or shapes) is deprecated. If you meant to do this, you must specify 'dtype=object' when creating the ndarray\n"
     ]
    }
   ],
   "source": [
    "# 计算经验模态分量\n",
    "import pandas as pd\n",
    "import numpy as np\n",
    "import os\n",
    "from PyEMD import EMD, Visualisation\n",
    "\n",
    "path_Data = path + '/Data'\n",
    "\n",
    "for group_name in ['helical','spur']:\n",
    "  print(\"面向 {} 生成EMD数据\".format(group_name))\n",
    "  data_structure = []\n",
    "  label_structure = []\n",
    "  IMFS_helical = []\n",
    "  IMFS_spur = []\n",
    "  for name_file in os.listdir(path_Data +'/'+ group_name):\n",
    "    path_file = path_Data +'/'+ group_name +'/'+ name_file\n",
    "    df = pd.read_csv(path_file,\n",
    "              sep='\\s+', \n",
    "              names=['voltage_input','voltage_output','value_tachometer'],\n",
    "              header=1)\n",
    "    if df.shape[0] == 245646:  # 跳过异常值（序列过短）\n",
    "      continue\n",
    "    if group_name=='helical':\n",
    "      freq_asample = int(name_file[10:12])\n",
    "      df = df.iloc[::freq_asample,:]  # 直接按采样频率降采样\n",
    "      origin_signal = df.iloc[:,2].values  # 取第三列数据作为源数据\n",
    "      # 提取imfs和剩余信号res\n",
    "      emd = EMD()\n",
    "      emd.emd(origin_signal)\n",
    "      imfs, res = emd.get_imfs_and_residue()\n",
    "      IMFS_helical.append(np.transpose(imfs[:6,:]))   # 提取前6个分量作为样本的特征（通道数即为6）\n",
    "      \n",
    "    else:\n",
    "      freq_asample = int(name_file[7:9])\n",
    "      df = df.iloc[::freq_asample,:]\n",
    "      origin_signal = df.iloc[:,2].values  \n",
    "      # 提取imfs和剩余信号res\n",
    "      emd = EMD()\n",
    "      emd.emd(origin_signal)\n",
    "      imfs, res = emd.get_imfs_and_residue()\n",
    "      IMFS_spur.append(np.transpose(imfs[:6,:]))\n",
    "  \n",
    "  if group_name=='helical':\n",
    "    IMFS_helical_cut = [ i[:4913,:] for i in IMFS_helical]\n",
    "    print(\"helical组样本量：{}\".format(len(IMFS_helical)))\n",
    "    np.save(path_Data +'/EMD/'+ group_name + \"_IMFs_features.npy\", np.array(IMFS_helical))\n",
    "    np.save(path_Data +'/EMD/'+ group_name + \"_IMFs_features_cut.npy\", np.array(IMFS_helical_cut))\n",
    "  else:\n",
    "    IMFS_spur_cut = [ i[:5334,:] for i in IMFS_spur]\n",
    "    print(\"spur组样本量：{}\".format(len(IMFS_spur)))\n",
    "    np.save(path_Data +'/EMD/'+ group_name + \"_IMFs_features.npy\", np.array(IMFS_spur))\n",
    "    np.save(path_Data +'/EMD/'+ group_name + \"_IMFs_features_cut.npy\", np.array(IMFS_spur_cut))\n",
    "\n"
   ]
  },
  {
   "cell_type": "markdown",
   "metadata": {
    "id": "FClW08mI1qED"
   },
   "source": [
    "### 加载EMD分量(cut)\n",
    "\n"
   ]
  },
  {
   "cell_type": "code",
   "execution_count": null,
   "metadata": {
    "colab": {
     "base_uri": "https://localhost:8080/"
    },
    "executionInfo": {
     "elapsed": 1930,
     "status": "error",
     "timestamp": 1623003123967,
     "user": {
      "displayName": "Chuanchao Xu",
      "photoUrl": "",
      "userId": "08016207472332924278"
     },
     "user_tz": -480
    },
    "id": "vupB8yNMrb2F",
    "outputId": "88740ccf-97df-4b7f-fcea-7237b7fe3279"
   },
   "outputs": [
    {
     "name": "stdout",
     "output_type": "stream",
     "text": [
      "--------------------------- helical ---------------------------\n"
     ]
    },
    {
     "ename": "NameError",
     "evalue": "ignored",
     "output_type": "error",
     "traceback": [
      "\u001b[0;31m---------------------------------------------------------------------------\u001b[0m",
      "\u001b[0;31mNameError\u001b[0m                                 Traceback (most recent call last)",
      "\u001b[0;32m<ipython-input-1-3feda244222f>\u001b[0m in \u001b[0;36m<module>\u001b[0;34m()\u001b[0m\n\u001b[1;32m      3\u001b[0m \u001b[0;32mfor\u001b[0m \u001b[0mgroup_name\u001b[0m \u001b[0;32min\u001b[0m \u001b[0;34m[\u001b[0m\u001b[0;34m'helical'\u001b[0m\u001b[0;34m,\u001b[0m\u001b[0;34m'spur'\u001b[0m\u001b[0;34m]\u001b[0m\u001b[0;34m:\u001b[0m\u001b[0;34m\u001b[0m\u001b[0;34m\u001b[0m\u001b[0m\n\u001b[1;32m      4\u001b[0m   \u001b[0mprint\u001b[0m\u001b[0;34m(\u001b[0m\u001b[0;34m\"--------------------------- {} ---------------------------\"\u001b[0m\u001b[0;34m.\u001b[0m\u001b[0mformat\u001b[0m\u001b[0;34m(\u001b[0m\u001b[0mgroup_name\u001b[0m\u001b[0;34m)\u001b[0m\u001b[0;34m)\u001b[0m\u001b[0;34m\u001b[0m\u001b[0;34m\u001b[0m\u001b[0m\n\u001b[0;32m----> 5\u001b[0;31m   \u001b[0mIMFS_cut\u001b[0m \u001b[0;34m=\u001b[0m \u001b[0mnp\u001b[0m\u001b[0;34m.\u001b[0m\u001b[0mload\u001b[0m\u001b[0;34m(\u001b[0m\u001b[0mpath_Data\u001b[0m \u001b[0;34m+\u001b[0m\u001b[0;34m'/EMD/'\u001b[0m\u001b[0;34m+\u001b[0m \u001b[0mgroup_name\u001b[0m \u001b[0;34m+\u001b[0m \u001b[0;34m\"_IMFs_features_cut.npy\"\u001b[0m\u001b[0;34m,\u001b[0m \u001b[0mallow_pickle\u001b[0m\u001b[0;34m=\u001b[0m\u001b[0;32mTrue\u001b[0m\u001b[0;34m)\u001b[0m\u001b[0;34m\u001b[0m\u001b[0;34m\u001b[0m\u001b[0m\n\u001b[0m\u001b[1;32m      6\u001b[0m   \u001b[0mlabel_structure\u001b[0m \u001b[0;34m=\u001b[0m \u001b[0mnp\u001b[0m\u001b[0;34m.\u001b[0m\u001b[0mload\u001b[0m\u001b[0;34m(\u001b[0m\u001b[0mpath_Data\u001b[0m \u001b[0;34m+\u001b[0m\u001b[0;34m'/'\u001b[0m\u001b[0;34m+\u001b[0m \u001b[0mgroup_name\u001b[0m \u001b[0;34m+\u001b[0m \u001b[0;34m\"_labels.npy\"\u001b[0m\u001b[0;34m)\u001b[0m\u001b[0;34m\u001b[0m\u001b[0;34m\u001b[0m\u001b[0m\n\u001b[1;32m      7\u001b[0m   \u001b[0mprint\u001b[0m\u001b[0;34m(\u001b[0m\u001b[0mIMFS_cut\u001b[0m\u001b[0;34m.\u001b[0m\u001b[0mshape\u001b[0m\u001b[0;34m)\u001b[0m\u001b[0;34m\u001b[0m\u001b[0;34m\u001b[0m\u001b[0m\n",
      "\u001b[0;31mNameError\u001b[0m: name 'path_Data' is not defined"
     ]
    }
   ],
   "source": [
    "from sklearn.model_selection import train_test_split\n",
    "import numpy as np\n",
    "for group_name in ['helical','spur']:\n",
    "  print(\"--------------------------- {} ---------------------------\".format(group_name))\n",
    "  IMFS_cut = np.load(path_Data +'/EMD/'+ group_name + \"_IMFs_features_cut.npy\", allow_pickle=True)\n",
    "  label_structure = np.load(path_Data +'/'+ group_name + \"_labels.npy\")\n",
    "  print(IMFS_cut.shape)\n",
    "  print(label_structure.shape)\n",
    "  X_train, X_val, y_train, y_val = train_test_split(IMFS_cut, label_structure)\n",
    "  print(type(X_train),X_train.shape)\n",
    "  print(type(X_val),X_val.shape)\n",
    "  print(type(y_train),y_train.shape)\n",
    "  print(type(y_val),y_val.shape)\n"
   ]
  },
  {
   "cell_type": "markdown",
   "metadata": {
    "id": "Ryo_Z3htMQSc"
   },
   "source": [
    "## 查看数据属性"
   ]
  },
  {
   "cell_type": "code",
   "execution_count": null,
   "metadata": {
    "colab": {
     "base_uri": "https://localhost:8080/"
    },
    "executionInfo": {
     "elapsed": 53032,
     "status": "ok",
     "timestamp": 1623083794106,
     "user": {
      "displayName": "Chuanchao Xu",
      "photoUrl": "",
      "userId": "08016207472332924278"
     },
     "user_tz": -480
    },
    "id": "qr6Ky5TrSWRw",
    "outputId": "3ae4731e-1847-46e0-b99b-997777d374df"
   },
   "outputs": [
    {
     "name": "stdout",
     "output_type": "stream",
     "text": [
      "--------------------------- helical ---------------------------\n",
      "*********** data_structure **************\n",
      "元素266653: 1个\n",
      "元素266654: 114个\n",
      "最小元素:266653,最大元素：266654\n",
      "*********** data_structure_cut **************\n",
      "元素266653: 115个\n",
      "最小元素:266653,最大元素：266653\n",
      "*********** label_structure **************\n",
      "元素1: 19个\n",
      "元素2: 20个\n",
      "元素3: 19个\n",
      "元素4: 19个\n",
      "元素5: 19个\n",
      "元素6: 19个\n",
      "最小元素:1,最大元素：6\n",
      "*********** IMFS **************\n",
      "元素7619: 24个\n",
      "元素5926: 23个\n",
      "元素6667: 24个\n",
      "元素5334: 21个\n",
      "元素8889: 23个\n",
      "最小元素:5334,最大元素：8889\n",
      "*********** IMFS_cut **************\n",
      "元素4913: 115个\n",
      "最小元素:4913,最大元素：4913\n",
      "--------------------------- spur ---------------------------\n",
      "*********** data_structure **************\n",
      "元素266648: 1个\n",
      "元素266650: 1个\n",
      "元素266652: 2个\n",
      "元素266653: 4个\n",
      "元素266654: 149个\n",
      "最小元素:266648,最大元素：266654\n",
      "*********** data_structure_cut **************\n",
      "元素266648: 157个\n",
      "最小元素:266648,最大元素：266648\n",
      "*********** label_structure **************\n",
      "元素1: 20个\n",
      "元素2: 19个\n",
      "元素3: 19个\n",
      "元素4: 20个\n",
      "元素5: 20个\n",
      "元素6: 20个\n",
      "元素7: 19个\n",
      "元素8: 20个\n",
      "最小元素:1,最大元素：8\n",
      "*********** IMFS **************\n",
      "元素7619: 31个\n",
      "元素5926: 32个\n",
      "元素6667: 32个\n",
      "元素5334: 31个\n",
      "元素8889: 31个\n",
      "最小元素:5334,最大元素：8889\n",
      "*********** IMFS_cut **************\n",
      "元素5334: 157个\n",
      "最小元素:5334,最大元素：5334\n"
     ]
    }
   ],
   "source": [
    "# 查看数据(原始数据、截断数据、数据标签、模态分量 --> [data_structure, data_structure_cut, label_structure, IMFS])\n",
    "import numpy as np\n",
    "\n",
    "for group_name in ['helical','spur']:\n",
    "  print(\"--------------------------- {} ---------------------------\".format(group_name))\n",
    "  data_structure = np.load(path_Data +'/'+ group_name + \"_features.npy\", allow_pickle=True)\n",
    "  data_structure_cut = np.load(path_Data +'/'+ group_name + \"_features_cut.npy\", allow_pickle=True)\n",
    "  label_structure = np.load(path_Data +'/'+ group_name + \"_labels.npy\", allow_pickle=True)\n",
    "  IMFS = np.load(path_Data +'/EMD/'+ group_name + \"_IMFs_features.npy\", allow_pickle=True)\n",
    "  IMFS_cut = np.load(path_Data +'/EMD/'+ group_name + \"_IMFs_features_cut.npy\", allow_pickle=True)\n",
    "\n",
    "  names_object = ['data_structure', 'data_structure_cut', 'label_structure', 'IMFS', 'IMFS_cut']\n",
    "  for i,group in enumerate([data_structure, data_structure_cut, label_structure, IMFS, IMFS_cut]):\n",
    "    print(\"*********** {} **************\".format(names_object[i]))\n",
    "    if i==2:\n",
    "      temp = [group[j][0] for j in range(len(group))]\n",
    "      for k in set(temp):\n",
    "        print(\"元素{}: {}个\".format(k, temp.count(k)))\n",
    "      print(\"最小元素:{},最大元素：{}\".format(min(temp),max(temp)))\n",
    "    else:\n",
    "      temp = [group[j].shape[0] for j in range(len(group))]\n",
    "      for k in set(temp):\n",
    "        print(\"元素{}: {}个\".format(k, temp.count(k)))\n",
    "      print(\"最小元素:{},最大元素：{}\".format(min(temp),max(temp)))\n"
   ]
  },
  {
   "cell_type": "code",
   "execution_count": null,
   "metadata": {
    "colab": {
     "base_uri": "https://localhost:8080/"
    },
    "executionInfo": {
     "elapsed": 3502,
     "status": "ok",
     "timestamp": 1622671077594,
     "user": {
      "displayName": "Chuanchao Xu",
      "photoUrl": "",
      "userId": "08016207472332924278"
     },
     "user_tz": -480
    },
    "id": "pL-eFhbFcyYN",
    "outputId": "8070a0d8-9e3c-4769-bec0-ea6716b4dbdf"
   },
   "outputs": [
    {
     "name": "stdout",
     "output_type": "stream",
     "text": [
      "--------------------------- helical ---------------------------\n",
      "--------------------------- spur ---------------------------\n"
     ]
    },
    {
     "data": {
      "image/png": "[encoded data removed]",
      "text/plain": [
       "<Figure size 432x756 with 7 Axes>"
      ]
     },
     "metadata": {
      "tags": []
     },
     "output_type": "display_data"
    },
    {
     "data": {
      "image/png": "[encoded data removed]",
      "text/plain": [
       "<Figure size 432x756 with 7 Axes>"
      ]
     },
     "metadata": {
      "tags": []
     },
     "output_type": "display_data"
    }
   ],
   "source": [
    "# 模态分量可视化(试图找到适合的重复性片段，以降低后续模型的训练时间)\n",
    "from PyEMD import EMD, Visualisation\n",
    "for group_name in ['helical','spur']:\n",
    "  print(\"--------------------------- {} ---------------------------\".format(group_name))\n",
    "  \n",
    "  if group_name=='helical':\n",
    "    name_file = 'helical 1_30hz_High_1.txt'\n",
    "    path_file = path_Data +'/'+ group_name +'/'+ name_file\n",
    "    df = pd.read_csv(path_file,\n",
    "              sep='\\s+', \n",
    "              names=['voltage_input','voltage_output','value_tachometer'],\n",
    "              header=1)\n",
    "    freq_asample = int(name_file[10:12])\n",
    "    df = df.iloc[::freq_asample,:]  # 直接按采样频率降采样\n",
    "    origin_signal = df.iloc[:,2].values  # 取第三列数据作为源数据\n",
    "    t = range(origin_signal.shape[0])\n",
    "    # 提取imfs和剩余信号res\n",
    "    emd = EMD()\n",
    "    emd.emd(origin_signal)\n",
    "    imfs, res = emd.get_imfs_and_residue()\n",
    "    vis = Visualisation()\n",
    "    vis.plot_imfs(imfs=imfs[:6,:], residue=res, t=t, include_residue=True)\n",
    "\n",
    "  else:\n",
    "    name_file = 'spur 1_30hz_High_1.txt'\n",
    "    path_file = path_Data +'/'+ group_name +'/'+ name_file\n",
    "    df = pd.read_csv(path_file,\n",
    "              sep='\\s+', \n",
    "              names=['voltage_input','voltage_output','value_tachometer'],\n",
    "              header=1)\n",
    "    freq_asample = int(name_file[7:9])\n",
    "    df = df.iloc[::freq_asample,:]\n",
    "    origin_signal = df.iloc[:,2].values  \n",
    "    t = range(origin_signal.shape[0])\n",
    "    # 提取imfs和剩余信号res\n",
    "    emd = EMD()\n",
    "    emd.emd(origin_signal)\n",
    "    imfs, res = emd.get_imfs_and_residue()\n",
    "    vis = Visualisation()\n",
    "    vis.plot_imfs(imfs=imfs[:6,:], residue=res, t=t, include_residue=True)\n"
   ]
  },
  {
   "cell_type": "markdown",
   "metadata": {
    "id": "3UBUJQAhRwha"
   },
   "source": [
    "## 时频特征工程\n",
    "（统计学特征、频谱特征、时域特征）"
   ]
  },
  {
   "cell_type": "code",
   "execution_count": 31,
   "metadata": {
    "colab": {
     "base_uri": "https://localhost:8080/"
    },
    "executionInfo": {
     "elapsed": 1150,
     "status": "ok",
     "timestamp": 1623252233218,
     "user": {
      "displayName": "Chuanchao Xu",
      "photoUrl": "",
      "userId": "08016207472332924278"
     },
     "user_tz": -480
    },
    "id": "LysKcBl-U9Ck",
    "outputId": "be6ebcab-898f-4abe-b9a7-b618db99a30a"
   },
   "outputs": [
    {
     "name": "stdout",
     "output_type": "stream",
     "text": [
      "/content/drive/Shareddrives/xucc1993.HK(CRN.NGO)/PHM_09/PHM 2009 data challenge(齿轮箱数据与网址)/PHM_Society_2009_Competition_Expanded_txt/Data/Discrete_Features\n"
     ]
    }
   ],
   "source": [
    "# !pip3 install scipy --upgrade\n",
    "# !bash\n",
    "%cd /content/drive/Shareddrives/xucc1993.HK(CRN.NGO)/PHM_09/PHM 2009 data challenge(齿轮箱数据与网址)/PHM_Society_2009_Competition_Expanded_txt/Data/Discrete_Features"
   ]
  },
  {
   "cell_type": "code",
   "execution_count": null,
   "metadata": {
    "id": "z8Ho0XOcX3Il"
   },
   "outputs": [],
   "source": [
    "!pip3 install tsfel"
   ]
  },
  {
   "cell_type": "code",
   "execution_count": 9,
   "metadata": {
    "colab": {
     "base_uri": "https://localhost:8080/",
     "height": 1000
    },
    "executionInfo": {
     "elapsed": 2038,
     "status": "error",
     "timestamp": 1623273772668,
     "user": {
      "displayName": "Chuanchao Xu",
      "photoUrl": "",
      "userId": "08016207472332924278"
     },
     "user_tz": -480
    },
    "id": "Vv1b96kK0bjZ",
    "outputId": "a9857426-5ee0-4a0b-8efd-d2abc0fbc59a"
   },
   "outputs": [
    {
     "name": "stdout",
     "output_type": "stream",
     "text": [
      "-------------------------- spectral ----------------------------\n",
      "面向 helical 生成离散特征\n",
      "*** Feature extraction started ***\n"
     ]
    },
    {
     "data": {
      "text/html": [
       "\n",
       "              <p>\n",
       "                  Progress: 0% Complete\n",
       "              <p/>            \n",
       "              <progress\n",
       "                  value='0'\n",
       "                  max='1024',\n",
       "                  style='width: 25%',\n",
       "              >\n",
       "                  0\n",
       "              </progress>\n",
       "\n",
       "    "
      ],
      "text/plain": [
       "<IPython.core.display.HTML object>"
      ]
     },
     "metadata": {
      "tags": []
     },
     "output_type": "display_data"
    },
    {
     "ename": "ValueError",
     "evalue": "ignored",
     "output_type": "error",
     "traceback": [
      "\u001b[0;31m---------------------------------------------------------------------------\u001b[0m",
      "\u001b[0;31mRemoteTraceback\u001b[0m                           Traceback (most recent call last)",
      "\u001b[0;31mRemoteTraceback\u001b[0m: \n\"\"\"\nTraceback (most recent call last):\n  File \"/usr/lib/python3.7/multiprocessing/pool.py\", line 121, in worker\n    result = (True, func(*args, **kwds))\n  File \"/usr/local/lib/python3.7/dist-packages/tsfel/feature_extraction/calc_features.py\", line 185, in calc_features\n    feat_val = calc_window_features(dict_features, wind_sig, fs, features_path=features_path, header_names=names)\n  File \"/usr/local/lib/python3.7/dist-packages/tsfel/feature_extraction/calc_features.py\", line 462, in calc_window_features\n    eval_result = eval(execf, locals())\n  File \"<string>\", line 1, in <module>\n  File \"/usr/local/lib/python3.7/dist-packages/tsfel/feature_extraction/features.py\", line 1491, in fft_mean_coeff\n    fmag_mean = scipy.signal.spectrogram(signal, fs, nperseg=nfreq * 2 - 2)[2].mean(1)\n  File \"/usr/local/lib/python3.7/dist-packages/scipy/signal/spectral.py\", line 748, in spectrogram\n    mode='psd')\n  File \"/usr/local/lib/python3.7/dist-packages/scipy/signal/spectral.py\", line 1737, in _spectral_helper\n    raise ValueError('nperseg must be a positive integer')\nValueError: nperseg must be a positive integer\n\"\"\"",
      "\nThe above exception was the direct cause of the following exception:\n",
      "\u001b[0;31mValueError\u001b[0m                                Traceback (most recent call last)",
      "\u001b[0;32m<ipython-input-9-a42ba3b20b2f>\u001b[0m in \u001b[0;36m<module>\u001b[0;34m()\u001b[0m\n\u001b[1;32m     21\u001b[0m       \u001b[0mwindow_size\u001b[0m \u001b[0;34m=\u001b[0m \u001b[0;36m1\u001b[0m  \u001b[0;31m# 设置滑动窗口为1\u001b[0m\u001b[0;34m\u001b[0m\u001b[0;34m\u001b[0m\u001b[0m\n\u001b[1;32m     22\u001b[0m       \u001b[0mcfg_file\u001b[0m \u001b[0;34m=\u001b[0m \u001b[0mtsfel\u001b[0m\u001b[0;34m.\u001b[0m\u001b[0mget_features_by_domain\u001b[0m\u001b[0;34m(\u001b[0m \u001b[0mwhich_domain\u001b[0m \u001b[0;34m)\u001b[0m  \u001b[0;31m# Available domains: \"statistical\"; \"spectral\"; \"temporal\"\u001b[0m\u001b[0;34m\u001b[0m\u001b[0;34m\u001b[0m\u001b[0m\n\u001b[0;32m---> 23\u001b[0;31m       \u001b[0mfeatures_i\u001b[0m \u001b[0;34m=\u001b[0m \u001b[0mtsfel\u001b[0m\u001b[0;34m.\u001b[0m\u001b[0mtime_series_features_extractor\u001b[0m\u001b[0;34m(\u001b[0m\u001b[0mcfg_file\u001b[0m\u001b[0;34m,\u001b[0m \u001b[0msignal_i\u001b[0m\u001b[0;34m,\u001b[0m \u001b[0mfs\u001b[0m\u001b[0;34m=\u001b[0m\u001b[0;36m1\u001b[0m\u001b[0;34m,\u001b[0m \u001b[0mwindow_size\u001b[0m\u001b[0;34m=\u001b[0m\u001b[0mwindow_size\u001b[0m\u001b[0;34m)\u001b[0m  \u001b[0;31m#非常耗时\u001b[0m\u001b[0;34m\u001b[0m\u001b[0;34m\u001b[0m\u001b[0m\n\u001b[0m\u001b[1;32m     24\u001b[0m \u001b[0;34m\u001b[0m\u001b[0m\n\u001b[1;32m     25\u001b[0m       \u001b[0mDiscrete_features\u001b[0m\u001b[0;34m.\u001b[0m\u001b[0mappend\u001b[0m\u001b[0;34m(\u001b[0m\u001b[0mfeatures_i\u001b[0m\u001b[0;34m.\u001b[0m\u001b[0mvalues\u001b[0m\u001b[0;34m)\u001b[0m\u001b[0;34m\u001b[0m\u001b[0;34m\u001b[0m\u001b[0m\n",
      "\u001b[0;32m/usr/local/lib/python3.7/dist-packages/tsfel/feature_extraction/calc_features.py\u001b[0m in \u001b[0;36mtime_series_features_extractor\u001b[0;34m(dict_features, signal_windows, fs, verbose, **kwargs)\u001b[0m\n\u001b[1;32m    295\u001b[0m                 features = pool.imap(partial(calc_features, dict_features=dict_features, fs=fs,\n\u001b[1;32m    296\u001b[0m                                              features_path=features_path, header_names=names), signal_windows)\n\u001b[0;32m--> 297\u001b[0;31m                 \u001b[0;32mfor\u001b[0m \u001b[0mi\u001b[0m\u001b[0;34m,\u001b[0m \u001b[0mfeat\u001b[0m \u001b[0;32min\u001b[0m \u001b[0menumerate\u001b[0m\u001b[0;34m(\u001b[0m\u001b[0mfeatures\u001b[0m\u001b[0;34m)\u001b[0m\u001b[0;34m:\u001b[0m\u001b[0;34m\u001b[0m\u001b[0;34m\u001b[0m\u001b[0m\n\u001b[0m\u001b[1;32m    298\u001b[0m                     \u001b[0;32mif\u001b[0m \u001b[0mverbose\u001b[0m \u001b[0;34m==\u001b[0m \u001b[0;36m1\u001b[0m\u001b[0;34m:\u001b[0m\u001b[0;34m\u001b[0m\u001b[0;34m\u001b[0m\u001b[0m\n\u001b[1;32m    299\u001b[0m                         \u001b[0mdisplay_progress_bar\u001b[0m\u001b[0;34m(\u001b[0m\u001b[0mi\u001b[0m\u001b[0;34m,\u001b[0m \u001b[0msignal_windows\u001b[0m\u001b[0;34m,\u001b[0m \u001b[0mout\u001b[0m\u001b[0;34m)\u001b[0m\u001b[0;34m\u001b[0m\u001b[0;34m\u001b[0m\u001b[0m\n",
      "\u001b[0;32m/usr/lib/python3.7/multiprocessing/pool.py\u001b[0m in \u001b[0;36mnext\u001b[0;34m(self, timeout)\u001b[0m\n\u001b[1;32m    746\u001b[0m         \u001b[0;32mif\u001b[0m \u001b[0msuccess\u001b[0m\u001b[0;34m:\u001b[0m\u001b[0;34m\u001b[0m\u001b[0;34m\u001b[0m\u001b[0m\n\u001b[1;32m    747\u001b[0m             \u001b[0;32mreturn\u001b[0m \u001b[0mvalue\u001b[0m\u001b[0;34m\u001b[0m\u001b[0;34m\u001b[0m\u001b[0m\n\u001b[0;32m--> 748\u001b[0;31m         \u001b[0;32mraise\u001b[0m \u001b[0mvalue\u001b[0m\u001b[0;34m\u001b[0m\u001b[0;34m\u001b[0m\u001b[0m\n\u001b[0m\u001b[1;32m    749\u001b[0m \u001b[0;34m\u001b[0m\u001b[0m\n\u001b[1;32m    750\u001b[0m     \u001b[0m__next__\u001b[0m \u001b[0;34m=\u001b[0m \u001b[0mnext\u001b[0m                    \u001b[0;31m# XXX\u001b[0m\u001b[0;34m\u001b[0m\u001b[0;34m\u001b[0m\u001b[0m\n",
      "\u001b[0;31mValueError\u001b[0m: nperseg must be a positive integer"
     ]
    }
   ],
   "source": [
    "# !pip install tsfel\n",
    "# 统计学特征、频谱特征、时域特征 --> Available domains: “statistical”; “spectral”; “temporal” \n",
    "import tsfel\n",
    "import pandas as pd\n",
    "import os\n",
    "import numpy as np\n",
    "\n",
    "\n",
    "path_Data = path + '/Data'\n",
    "\n",
    "for which_domain in [\"spectral\", \"temporal\"]:  # \"statistical\"\n",
    "  print(\"-------------------------- {} ----------------------------\".format(which_domain))\n",
    "  for group_name in ['helical','spur']:\n",
    "    print(\"面向 {} 生成离散特征\".format(group_name))\n",
    "    Discrete_features = []\n",
    "    data_sub_series = np.load(path_Data +'/Sub_Series/'+ group_name + \"_features_sub_series.npy\")\n",
    "    for sub_i in range(data_sub_series.shape[0]):\n",
    "      sub_series_i = data_sub_series[sub_i,:,2]              # 取第三列作为被提取列\n",
    "\n",
    "      signal_i = sub_series_i\n",
    "      window_size = 1  # 设置滑动窗口为1\n",
    "      cfg_file = tsfel.get_features_by_domain( which_domain )  # Available domains: \"statistical\"; \"spectral\"; \"temporal\" \n",
    "      features_i = tsfel.time_series_features_extractor(cfg_file, signal_i, fs=1, window_size=window_size)  #非常耗时\n",
    "\n",
    "      Discrete_features.append(features_i.values)\n",
    "      break\n",
    "    break\n",
    "    # np.save(path_Data + \"/Discrete_Features/discrete_features_\" + which_domain +\"_\" + \\\n",
    "    #     group_name + \".npy\", np.array(Discrete_features))\n",
    "  break\n",
    "\n"
   ]
  },
  {
   "cell_type": "code",
   "execution_count": 3,
   "metadata": {
    "colab": {
     "base_uri": "https://localhost:8080/"
    },
    "executionInfo": {
     "elapsed": 3061,
     "status": "ok",
     "timestamp": 1623273496082,
     "user": {
      "displayName": "Chuanchao Xu",
      "photoUrl": "",
      "userId": "08016207472332924278"
     },
     "user_tz": -480
    },
    "id": "FcXKWW_yon5c",
    "outputId": "17603661-b466-4ca7-9d29-df9450b8b153"
   },
   "outputs": [
    {
     "name": "stdout",
     "output_type": "stream",
     "text": [
      "(1570, 1024, 27)\n"
     ]
    }
   ],
   "source": [
    "import numpy as np\n",
    "path_temp = '/content/drive/Shareddrives/xucc1993.HK(CRN.NGO)/PHM_09/PHM 2009 data challenge(齿轮箱数据与网址)/PHM_Society_2009_Competition_Expanded_txt/Data/Discrete_Features/discrete_features_statistical_spur.npy'\n",
    "\n",
    "temp_array = np.load(path_temp)\n",
    "print(temp_array.shape)"
   ]
  },
  {
   "cell_type": "markdown",
   "metadata": {
    "id": "6LRSUBNYSLDg"
   },
   "source": [
    "## 时序特征工程"
   ]
  },
  {
   "cell_type": "code",
   "execution_count": 10,
   "metadata": {
    "colab": {
     "base_uri": "https://localhost:8080/"
    },
    "executionInfo": {
     "elapsed": 7032,
     "status": "ok",
     "timestamp": 1623274060430,
     "user": {
      "displayName": "Chuanchao Xu",
      "photoUrl": "",
      "userId": "08016207472332924278"
     },
     "user_tz": -480
    },
    "id": "OBffirzErESv",
    "outputId": "a593f2a1-6e8c-4d1d-eebd-988200318ec5"
   },
   "outputs": [
    {
     "name": "stdout",
     "output_type": "stream",
     "text": [
      "Collecting catch22\n",
      "  Downloading https://files.pythonhosted.org/packages/2b/33/438e6e7c107dbf8b7f75631959acf17ed6da409e9a69c5eaf55c08d5930a/catch22-0.2.0.tar.gz\n",
      "Building wheels for collected packages: catch22\n",
      "  Building wheel for catch22 (setup.py) ... \u001b[?25l\u001b[?25hdone\n",
      "  Created wheel for catch22: filename=catch22-0.2.0-cp37-cp37m-linux_x86_64.whl size=92126 sha256=603e6cfaa920b267a4403f96bfa9772e3e7b748fe4a80f3f63657709d417cead\n",
      "  Stored in directory: /root/.cache/pip/wheels/48/f5/ea/0cda3b525b9735e55a967017abd66ce4275ce7c9cb29b35fa8\n",
      "Successfully built catch22\n",
      "Installing collected packages: catch22\n",
      "Successfully installed catch22-0.2.0\n"
     ]
    }
   ],
   "source": [
    "!pip install catch22"
   ]
  },
  {
   "cell_type": "code",
   "execution_count": 13,
   "metadata": {
    "colab": {
     "base_uri": "https://localhost:8080/"
    },
    "executionInfo": {
     "elapsed": 23705,
     "status": "ok",
     "timestamp": 1623274441418,
     "user": {
      "displayName": "Chuanchao Xu",
      "photoUrl": "",
      "userId": "08016207472332924278"
     },
     "user_tz": -480
    },
    "id": "uQtocZMKSNLI",
    "outputId": "0235621d-42ff-4f49-b5ca-70d9cee79d5b"
   },
   "outputs": [
    {
     "name": "stdout",
     "output_type": "stream",
     "text": [
      "面向 helical 生成时序特征\n",
      "面向 spur 生成时序特征\n"
     ]
    }
   ],
   "source": [
    "# !pip install catch22\n",
    "# Reference: https://github.com/chlubba/catch22\n",
    "\n",
    "# catch22\n",
    "from catch22 import catch22_all\n",
    "import pandas as pd\n",
    "import os\n",
    "import numpy as np\n",
    "\n",
    "path =  '/content/drive/Shareddrives/xucc1993.HK(CRN.NGO)/PHM_09/PHM 2009 data challenge(齿轮箱数据与网址)/PHM_Society_2009_Competition_Expanded_txt'\n",
    "path_Data = path + '/Data'\n",
    "\n",
    "for group_name in ['helical','spur']:\n",
    "  print(\"面向 {} 生成时序特征\".format(group_name))\n",
    "  Catch22_features = []\n",
    "  data_sub_series = np.load(path_Data +'/Sub_Series/'+ group_name + \"_features_sub_series.npy\")\n",
    "  for sub_i in range(data_sub_series.shape[0]):\n",
    "    sub_series_i = data_sub_series[sub_i,:,2]              # 取第三列作为被提取列\n",
    "\n",
    "    signal_i = sub_series_i\n",
    "    features_i = catch22_all(signal_i)\n",
    "    Catch22_features.append(features_i['values'])\n",
    "    \n",
    "  np.save(path_Data + \"/Catch22_Features/catch22_features_\" + \\\n",
    "      group_name + \".npy\", np.array(Catch22_features))\n",
    "  \n",
    "\n"
   ]
  },
  {
   "cell_type": "code",
   "execution_count": null,
   "metadata": {
    "id": "kdz_kbWNKK6i"
   },
   "outputs": [],
   "source": [
    "import numpy as np\n",
    "for group_name in ['helical','spur']:\n",
    "  Catch22_features_group = []\n",
    "  for i in range(115):\n",
    "    path_file = path + '/Data' + \"/Catch22_Features/\" +group_name+ \"/catch22_features_\" + \\\n",
    "        group_name +\"_\"+ str(i) + \".npy\"\n",
    "    Catch22_features_group.append(np.load(path_file))\n",
    "  np.save(path + '/Data' + \"/Catch22_Features/catch22_features_\" + \\\n",
    "      group_name + \".npy\", np.array(Catch22_features_group))\n"
   ]
  },
  {
   "cell_type": "code",
   "execution_count": null,
   "metadata": {
    "id": "hnW4dG7R-jxI"
   },
   "outputs": [],
   "source": [
    "path_file_helical = path + '/Data' + \"/Catch22_Features/catch22_features_\" + 'helical' + \".npy\"\n",
    "temp = np.load(path_file_helical, allow_pickle=True)\n",
    "print(temp[0])"
   ]
  },
  {
   "cell_type": "markdown",
   "metadata": {
    "id": "NFWxrbW2565G"
   },
   "source": [
    "# 数据建模"
   ]
  },
  {
   "cell_type": "markdown",
   "metadata": {
    "id": "cEungmqaxDjc"
   },
   "source": [
    "## 加载特征数据(离散）"
   ]
  },
  {
   "cell_type": "code",
   "execution_count": 27,
   "metadata": {
    "colab": {
     "base_uri": "https://localhost:8080/"
    },
    "executionInfo": {
     "elapsed": 683,
     "status": "ok",
     "timestamp": 1623311657428,
     "user": {
      "displayName": "Chuanchao Xu",
      "photoUrl": "",
      "userId": "08016207472332924278"
     },
     "user_tz": -480
    },
    "id": "nz5voIQ4mfjj",
    "outputId": "ec906983-0d3b-4877-b104-7a602ea86570"
   },
   "outputs": [
    {
     "name": "stdout",
     "output_type": "stream",
     "text": [
      "--------------------------- helical ---------------------------\n",
      "(1160, 1024, 27)\n",
      "(1160,)\n",
      "<class 'numpy.ndarray'> (870, 1024, 27)\n",
      "<class 'numpy.ndarray'> (290, 1024, 27)\n",
      "<class 'numpy.ndarray'> (870,)\n",
      "<class 'numpy.ndarray'> (290,)\n"
     ]
    }
   ],
   "source": [
    "## 加载tsfel特征\n",
    "from sklearn.model_selection import train_test_split\n",
    "import numpy as np\n",
    "import pandas as pd\n",
    "\n",
    "for which_domain in [\"statistical\"]:  # \"statistical\", \"temporal\"\n",
    "  for group_name in ['helical']:  # ,'spur'\n",
    "    print(\"--------------------------- {} ---------------------------\".format(group_name))\n",
    "    Discrete_Features_group = np.load(path_Data + \"/Discrete_Features/discrete_features_\" + which_domain +\"_\" + \\\n",
    "          group_name + \".npy\", allow_pickle=True)\n",
    "    label = np.squeeze(np.load(path + '/Data' +\"/Sub_Series/\"+ group_name + \"_labels.npy\"))\n",
    "    label = np.array([i-1 for i in list(label)])\n",
    "\n",
    "    # Discrete_Features_group = pd.DataFrame(Discrete_Features_group)\n",
    "    # label = pd.DataFrame(label)\n",
    "\n",
    "    print(Discrete_Features_group.shape)\n",
    "    print(label.shape)\n",
    "    X_train, X_val, y_train, y_val = train_test_split(Discrete_Features_group, label, random_state=2021)\n",
    "    print(type(X_train),X_train.shape)\n",
    "    print(type(X_val),X_val.shape)\n",
    "    print(type(y_train),y_train.shape)\n",
    "    print(type(y_val),y_val.shape)\n"
   ]
  },
  {
   "cell_type": "code",
   "execution_count": 65,
   "metadata": {
    "colab": {
     "base_uri": "https://localhost:8080/"
    },
    "executionInfo": {
     "elapsed": 483,
     "status": "ok",
     "timestamp": 1623314120593,
     "user": {
      "displayName": "Chuanchao Xu",
      "photoUrl": "",
      "userId": "08016207472332924278"
     },
     "user_tz": -480
    },
    "id": "t1JLr13wxHZs",
    "outputId": "39d787ad-b5f7-48f1-a181-e410cd7a3fc5"
   },
   "outputs": [
    {
     "name": "stdout",
     "output_type": "stream",
     "text": [
      "--------------------------- helical ---------------------------\n",
      "(1160, 22)\n",
      "(1160,)\n",
      "<class 'numpy.ndarray'> (870, 22)\n",
      "<class 'numpy.ndarray'> (290, 22)\n",
      "<class 'numpy.ndarray'> (870,)\n",
      "<class 'numpy.ndarray'> (290,)\n"
     ]
    }
   ],
   "source": [
    "## 加载Catch22特征\n",
    "from sklearn.model_selection import train_test_split\n",
    "import numpy as np\n",
    "import pandas as pd\n",
    "\n",
    "for group_name in ['helical']:  # ,'spur'\n",
    "  print(\"--------------------------- {} ---------------------------\".format(group_name))\n",
    "  Catch22_features_group = np.load(path + '/Data' + \"/Catch22_Features/catch22_features_\" + group_name + \".npy\", allow_pickle=True)\n",
    "  label = np.squeeze(np.load(path + '/Data' +\"/Sub_Series/\"+ group_name + \"_labels.npy\"))\n",
    "  label = np.array([i-1 for i in list(label)])\n",
    "\n",
    "  # Catch22_features_group = pd.DataFrame(Catch22_features_group)\n",
    "  # label = pd.DataFrame(label)\n",
    "\n",
    "  print(Catch22_features_group.shape)\n",
    "  print(label.shape)\n",
    "  X_train, X_val, y_train, y_val = train_test_split(Catch22_features_group, label, random_state=2021)\n",
    "  print(type(X_train),X_train.shape)\n",
    "  print(type(X_val),X_val.shape)\n",
    "  print(type(y_train),y_train.shape)\n",
    "  print(type(y_val),y_val.shape)"
   ]
  },
  {
   "cell_type": "code",
   "execution_count": null,
   "metadata": {
    "id": "rsKJqVMSuNrH"
   },
   "outputs": [],
   "source": [
    "max(np.squeeze(y_val))"
   ]
  },
  {
   "cell_type": "markdown",
   "metadata": {
    "id": "XHRJa3P6x_Rv"
   },
   "source": [
    "## lightGBM\n"
   ]
  },
  {
   "cell_type": "code",
   "execution_count": null,
   "metadata": {
    "id": "c5MX6WzNyBUH"
   },
   "outputs": [],
   "source": [
    "import lightgbm as lgb\n",
    "from sklearn.metrics import f1_score,accuracy_score, classification_report\n",
    "\n",
    "# 自定义函数\n",
    "\n",
    "# 用lightGBM建立Dataset\n",
    "train_matrix = lgb.Dataset(X_train, label=y_train)\n",
    "valid_matrix = lgb.Dataset(X_val, label=y_val, reference=train_matrix)\n",
    "\n",
    "# 设置模型参数\n",
    "params = {\n",
    "    'learning_rate': 0.01,\n",
    "    'boosting': 'gbdt',\n",
    "    'lambda_l2': 0.1,\n",
    "    'max_depth': 12,\n",
    "    'num_leaves': 128,\n",
    "    'bagging_fraction': 0.4,\n",
    "    'feature_fraction': 0.6,\n",
    "    'bagging_freq': 60,\n",
    "    'min_data_in_lea': 45,\n",
    "    'min_child_weight': 0.001,\n",
    "    'metric': None,\n",
    "    'objective': 'multiclass',\n",
    "    'min_split_gain': 0.1,\n",
    "    'num_class': 6,\n",
    "    'nthread': 10,\n",
    "    'verbose': -1,\n",
    "}\n",
    "\n",
    "def show_accuracy(a, b, tip):\n",
    "    acc = a.ravel() == b.ravel()\n",
    "    print(acc)\n",
    "    print(tip + '正确率：\\t', float(acc.sum()) / a.size)\n",
    "\n",
    "\n",
    "# 使用lightGBM进行训练\n",
    "model = lgb.train(\n",
    "    params,\n",
    "    train_set = train_matrix,\n",
    "    valid_sets = valid_matrix,\n",
    "    num_boost_round = 500,\n",
    "    verbose_eval = 5,\n",
    "    early_stopping_rounds = 500,\n",
    "    # feval = f1_score_vali\n",
    ")\n",
    "\n",
    "y_pred = model.predict(X_val, num_iteration=model.best_iteration)\n",
    "y_pred = np.argmax(y_pred,axis=1)\n",
    "\n",
    "print('The accuracy of prediction is:', accuracy_score(y_val, y_pred))"
   ]
  },
  {
   "cell_type": "markdown",
   "metadata": {
    "id": "4Q4JFOJ9QOrZ"
   },
   "source": [
    "## Xgboost"
   ]
  },
  {
   "cell_type": "code",
   "execution_count": null,
   "metadata": {
    "id": "xkEP5jdgQQ2H"
   },
   "outputs": [],
   "source": [
    "# /usr/bin/python\n",
    "# -*- encoding:utf-8 -*-\n",
    "\n",
    "def show_accuracy(a, b, tip):\n",
    "    acc = a.ravel() == b.ravel()\n",
    "    print(acc)\n",
    "    print(tip + '正确率：\\t', float(acc.sum()) / a.size)\n",
    "\n",
    "# 划分数据集\n",
    "X_train, X_val, y_train, y_val = train_test_split(Catch22_features_group, label, test_size=0.1, random_state=1729)\n",
    "print(X_train.shape, X_test.shape)\n",
    "\n",
    "\n",
    "from sklearn.model_selection import train_test_split\n",
    "import xgboost as xgb\n",
    "\n",
    "data_train = xgb.DMatrix(X_train,label=y_train)\n",
    "data_test = xgb.DMatrix(X_val,label=y_val)\n",
    "print (data_train)\n",
    "print (type(data_train))\n",
    "# 设置参数\n",
    "param = {'max_depth': 12, 'eta': 1, 'silent': 1, 'objective': 'multi:softmax','num_class': 6} # logitraw\n",
    "watchlist = [(data_test, 'eval'), (data_train, 'train')]\n",
    "n_round = 30\n",
    "bst = xgb.train(param, data_train, num_boost_round=100, evals=watchlist)  \n",
    "y_hat = bst.predict(data_test)\n",
    "show_accuracy(y_hat, y_val, 'XGBoost ')\n"
   ]
  },
  {
   "cell_type": "markdown",
   "metadata": {
    "id": "-8IOLpOVchk3"
   },
   "source": [
    "## AutoML"
   ]
  },
  {
   "cell_type": "code",
   "execution_count": 84,
   "metadata": {
    "colab": {
     "base_uri": "https://localhost:8080/"
    },
    "executionInfo": {
     "elapsed": 2152,
     "status": "ok",
     "timestamp": 1623321626250,
     "user": {
      "displayName": "Chuanchao Xu",
      "photoUrl": "",
      "userId": "08016207472332924278"
     },
     "user_tz": -480
    },
    "id": "xKiTvpEOgxfJ",
    "outputId": "9e0cb21b-4ca2-462d-ed61-219b6d7f3c0e"
   },
   "outputs": [
    {
     "name": "stdout",
     "output_type": "stream",
     "text": [
      "         fea_0     fea_1  fea_2  fea_3  ...    fea_19    fea_20    fea_21  label\n",
      "730  -0.823324 -0.927862    2.0    4.0  ...  0.854167  0.834486  1.285280      3\n",
      "407  -0.780330 -0.881705    1.0    1.0  ...  0.875000  2.325515  1.042367      2\n",
      "11   -0.771496 -0.872862    1.0    1.0  ...  0.187500  2.350059  1.052206      0\n",
      "595  -0.782063 -0.883311    1.0    1.0  ...  0.312500  2.350059  1.052600      3\n",
      "276  -0.766794 -0.867953    1.0    2.0  ...  0.333333  1.484893  1.353106      1\n",
      "...        ...       ...    ...    ...  ...       ...       ...       ...    ...\n",
      "965  -0.768828 -0.869811    2.0    4.0  ...  0.687500  0.834486  1.286210      4\n",
      "1129 -0.779128 -0.880484    1.0    3.0  ...  0.562500  1.153554  1.421885      5\n",
      "1098 -0.766267 -0.867248    1.0    3.0  ...  0.187500  1.135146  1.424194      5\n",
      "1109 -0.771704 -0.872942    1.0    3.0  ...  0.208333  1.135146  1.424383      5\n",
      "633  -0.838433 -0.943361    1.0    2.0  ...  0.395833  1.902136  1.100835      3\n",
      "\n",
      "[1150 rows x 23 columns]\n",
      "         fea_0     fea_1  fea_2  fea_3  ...    fea_19    fea_20    fea_21  label\n",
      "1235 -0.776806 -0.877967    1.0    2.0  ...  0.437500  1.902136  1.100828      6\n",
      "486  -0.772179 -0.873451    1.0    2.0  ...  0.729167  1.484893  1.353200      2\n",
      "1124 -0.773254 -0.874418    1.0    3.0  ...  0.208333  1.135146  1.424222      5\n",
      "946  -0.767826 -0.869035    2.0    4.0  ...  0.875000  0.834486  1.285104      4\n",
      "1317 -0.779555 -0.880897    1.0    3.0  ...  0.125000  1.153554  1.421352      6\n",
      "...        ...       ...    ...    ...  ...       ...       ...       ...    ...\n",
      "538  -0.775747 -0.877200    1.0    3.0  ...  0.791667  1.135146  1.424973      2\n",
      "883  -0.773056 -0.874331    1.0    2.0  ...  0.875000  1.503301  1.348440      4\n",
      "846  -0.994155 -0.880663    1.0    2.0  ...  0.375000  1.902136  1.100676      4\n",
      "365  -0.784429 -0.885667    2.0    4.0  ...  0.583333  0.840621  1.290577      1\n",
      "1026 -0.958684 -1.070254    1.0    2.0  ...  0.437500  1.883728  1.116252      5\n",
      "\n",
      "[1560 rows x 23 columns]\n"
     ]
    }
   ],
   "source": [
    "import numpy as np\n",
    "import pandas as pd\n",
    "for group_name in ['helical','spur']:\n",
    "  Catch22_features_group = np.load(path + '/Data' + \"/Catch22_Features/catch22_features_\" + group_name + \".npy\", allow_pickle=True)\n",
    "  label = np.squeeze(np.load(path + '/Data' +\"/Sub_Series/\"+ group_name + \"_labels.npy\"))\n",
    "  label = np.array([i-1 for i in list(label)])\n",
    "\n",
    "  Features_labels = pd.DataFrame(Catch22_features_group, columns=['fea_'+str(i) for i in range(22)])\n",
    "  Features_labels['label'] = label\n",
    "\n",
    "  Features_labels = Features_labels.sample(frac=1)\n",
    "\n",
    "  print(Features_labels.head(-10))\n",
    "\n",
    "  Features_labels.to_csv(path + '/Data' + \"/Catch22_Features/catch22_Features_labels_\"+group_name+'.csv')\n",
    "\n"
   ]
  },
  {
   "cell_type": "code",
   "execution_count": 93,
   "metadata": {
    "colab": {
     "base_uri": "https://localhost:8080/"
    },
    "executionInfo": {
     "elapsed": 537,
     "status": "ok",
     "timestamp": 1623322333769,
     "user": {
      "displayName": "Chuanchao Xu",
      "photoUrl": "",
      "userId": "08016207472332924278"
     },
     "user_tz": -480
    },
    "id": "l-y3XIKjjMdu",
    "outputId": "7d3132dd-6e5e-4e4e-b78f-4fe16d8ce578"
   },
   "outputs": [
    {
     "name": "stdout",
     "output_type": "stream",
     "text": [
      "/content/drive/Shareddrives/xucc1993.HK(CRN.NGO)/PHM_09/PHM 2009 data challenge(齿轮箱数据与网址)/PHM_Society_2009_Competition_Expanded_txt/Modeling/AutoML-AutoDL\n"
     ]
    }
   ],
   "source": [
    "# %cd /content/drive/Shareddrives/xucc1993.HK(CRN.NGO)/PHM_09/PHM 2009 data challenge(齿轮箱数据与网址)/PHM_Society_2009_Competition_Expanded_txt/Modeling/AutoML-AutoDL"
   ]
  },
  {
   "cell_type": "code",
   "execution_count": 94,
   "metadata": {
    "colab": {
     "base_uri": "https://localhost:8080/"
    },
    "executionInfo": {
     "elapsed": 36288,
     "status": "ok",
     "timestamp": 1623322422394,
     "user": {
      "displayName": "Chuanchao Xu",
      "photoUrl": "",
      "userId": "08016207472332924278"
     },
     "user_tz": -480
    },
    "id": "SHuH8fJzjTlJ",
    "outputId": "909db492-8cc8-4907-d84e-4551948cf8db"
   },
   "outputs": [
    {
     "name": "stdout",
     "output_type": "stream",
     "text": [
      "Warning: path already exists! This predictor may overwrite an existing predictor! path=\"/content/drive/Shareddrives/xucc1993.HK(CRN.NGO)/PHM_09/PHM 2009 data challenge(齿轮箱数据与网址)/PHM_Society_2009_Competition_Expanded_txt/Modeling/AutoML-AutoDL/agModels-predictClass\"\n",
      "Beginning AutoGluon training ...\n",
      "AutoGluon will save models to \"/content/drive/Shareddrives/xucc1993.HK(CRN.NGO)/PHM_09/PHM 2009 data challenge(齿轮箱数据与网址)/PHM_Society_2009_Competition_Expanded_txt/Modeling/AutoML-AutoDL/agModels-predictClass/\"\n",
      "AutoGluon Version:  0.2.0\n",
      "Train Data Rows:    1160\n",
      "Train Data Columns: 23\n",
      "Preprocessing data ...\n",
      "AutoGluon infers your prediction problem is: 'multiclass' (because dtype of label-column == int, but few unique label-values observed).\n",
      "\t6 unique label values:  [3, 2, 0, 1, 4, 5]\n",
      "\tIf 'multiclass' is not the correct problem_type, please manually specify the problem_type argument in fit() (You may specify problem_type as one of: ['binary', 'multiclass', 'regression'])\n",
      "NumExpr defaulting to 4 threads.\n",
      "Train Data Class Count: 6\n",
      "Using Feature Generators to preprocess the data ...\n",
      "Fitting AutoMLPipelineFeatureGenerator...\n",
      "\tAvailable Memory:                    25626.91 MB\n",
      "\tTrain Data (Original)  Memory Usage: 0.21 MB (0.0% of available memory)\n",
      "\tInferring data type of each feature based on column values. Set feature_metadata_in to manually specify special dtypes of the features.\n",
      "\tStage 1 Generators:\n",
      "\t\tFitting AsTypeFeatureGenerator...\n",
      "\tStage 2 Generators:\n",
      "\t\tFitting FillNaFeatureGenerator...\n",
      "\tStage 3 Generators:\n",
      "\t\tFitting IdentityFeatureGenerator...\n",
      "\tStage 4 Generators:\n",
      "\t\tFitting DropUniqueFeatureGenerator...\n",
      "\tTypes of features in original data (raw dtype, special dtypes):\n",
      "\t\t('float', []) : 22 | ['fea_0', 'fea_1', 'fea_2', 'fea_3', 'fea_4', ...]\n",
      "\t\t('int', [])   :  1 | ['Unnamed: 0']\n",
      "\tTypes of features in processed data (raw dtype, special dtypes):\n",
      "\t\t('float', []) : 22 | ['fea_0', 'fea_1', 'fea_2', 'fea_3', 'fea_4', ...]\n",
      "\t\t('int', [])   :  1 | ['Unnamed: 0']\n",
      "\t0.0s = Fit runtime\n",
      "\t23 features in original data used to generate 23 features in processed data.\n",
      "\tTrain Data (Processed) Memory Usage: 0.21 MB (0.0% of available memory)\n",
      "Data preprocessing and feature engineering runtime = 0.05s ...\n",
      "AutoGluon will gauge predictive performance using evaluation metric: 'accuracy'\n",
      "\tTo change this, specify the eval_metric argument of fit()\n",
      "Automatically generating train/validation split with holdout_frac=0.2, Train Rows: 928, Val Rows: 232\n",
      "Fitting model: KNeighborsUnif ...\n",
      "\t0.9957\t = Validation accuracy score\n",
      "\t0.0s\t = Training runtime\n",
      "\t0.11s\t = Validation runtime\n",
      "Fitting model: KNeighborsDist ...\n",
      "\t0.9957\t = Validation accuracy score\n",
      "\t0.0s\t = Training runtime\n",
      "\t0.11s\t = Validation runtime\n",
      "Fitting model: NeuralNetFastAI ...\n",
      "\t0.9871\t = Validation accuracy score\n",
      "\t9.08s\t = Training runtime\n",
      "\t0.02s\t = Validation runtime\n",
      "Fitting model: LightGBMXT ...\n",
      "/usr/local/lib/python3.7/dist-packages/fsspec/__init__.py:49: DeprecationWarning: SelectableGroups dict interface is deprecated. Use select.\n",
      "  for spec in entry_points.get(\"fsspec.specs\", []):\n",
      "\t1.0\t = Validation accuracy score\n",
      "\t2.76s\t = Training runtime\n",
      "\t0.0s\t = Validation runtime\n",
      "Fitting model: LightGBM ...\n",
      "\t0.9957\t = Validation accuracy score\n",
      "\t0.88s\t = Training runtime\n",
      "\t0.01s\t = Validation runtime\n",
      "Fitting model: RandomForestGini ...\n",
      "\t0.9957\t = Validation accuracy score\n",
      "\t0.82s\t = Training runtime\n",
      "\t0.1s\t = Validation runtime\n",
      "Fitting model: RandomForestEntr ...\n",
      "\t0.9914\t = Validation accuracy score\n",
      "\t0.91s\t = Training runtime\n",
      "\t0.1s\t = Validation runtime\n",
      "Fitting model: CatBoost ...\n",
      "\t1.0\t = Validation accuracy score\n",
      "\t1.19s\t = Training runtime\n",
      "\t0.0s\t = Validation runtime\n",
      "Fitting model: ExtraTreesGini ...\n",
      "\t0.9871\t = Validation accuracy score\n",
      "\t0.71s\t = Training runtime\n",
      "\t0.1s\t = Validation runtime\n",
      "Fitting model: ExtraTreesEntr ...\n",
      "\t0.9828\t = Validation accuracy score\n",
      "\t0.81s\t = Training runtime\n",
      "\t0.1s\t = Validation runtime\n",
      "Fitting model: XGBoost ...\n",
      "\t0.9914\t = Validation accuracy score\n",
      "\t0.39s\t = Training runtime\n",
      "\t0.0s\t = Validation runtime\n",
      "Fitting model: NeuralNetMXNet ...\n",
      "\t0.9741\t = Validation accuracy score\n",
      "\t7.56s\t = Training runtime\n",
      "\t0.13s\t = Validation runtime\n",
      "Fitting model: LightGBMLarge ...\n",
      "\t0.9871\t = Validation accuracy score\n",
      "\t3.2s\t = Training runtime\n",
      "\t0.01s\t = Validation runtime\n",
      "Fitting model: WeightedEnsemble_L2 ...\n",
      "\t1.0\t = Validation accuracy score\n",
      "\t0.38s\t = Training runtime\n",
      "\t0.0s\t = Validation runtime\n",
      "AutoGluon training complete, total runtime = 31.36s ...\n",
      "TabularPredictor saved. To load, use: predictor = TabularPredictor.load(\"/content/drive/Shareddrives/xucc1993.HK(CRN.NGO)/PHM_09/PHM 2009 data challenge(齿轮箱数据与网址)/PHM_Society_2009_Competition_Expanded_txt/Modeling/AutoML-AutoDL/agModels-predictClass/\")\n",
      "*** Summary of fit() ***\n",
      "Estimated performance of each model:\n",
      "                  model  score_val  pred_time_val  fit_time  pred_time_val_marginal  fit_time_marginal  stack_level  can_infer  fit_order\n",
      "0              CatBoost   1.000000       0.001701  1.187921                0.001701           1.187921            1       True          8\n",
      "1            LightGBMXT   1.000000       0.004364  2.763201                0.004364           2.763201            1       True          4\n",
      "2   WeightedEnsemble_L2   1.000000       0.004876  3.139218                0.000512           0.376018            2       True         14\n",
      "3              LightGBM   0.995690       0.007664  0.879435                0.007664           0.879435            1       True          5\n",
      "4      RandomForestGini   0.995690       0.103051  0.822602                0.103051           0.822602            1       True          6\n",
      "5        KNeighborsDist   0.995690       0.106670  0.002194                0.106670           0.002194            1       True          2\n",
      "6        KNeighborsUnif   0.995690       0.107637  0.002542                0.107637           0.002542            1       True          1\n",
      "7               XGBoost   0.991379       0.004260  0.386447                0.004260           0.386447            1       True         11\n",
      "8      RandomForestEntr   0.991379       0.102802  0.909652                0.102802           0.909652            1       True          7\n",
      "9         LightGBMLarge   0.987069       0.008691  3.201107                0.008691           3.201107            1       True         13\n",
      "10      NeuralNetFastAI   0.987069       0.024657  9.080535                0.024657           9.080535            1       True          3\n",
      "11       ExtraTreesGini   0.987069       0.102996  0.712736                0.102996           0.712736            1       True          9\n",
      "12       ExtraTreesEntr   0.982759       0.103106  0.811641                0.103106           0.811641            1       True         10\n",
      "13       NeuralNetMXNet   0.974138       0.126385  7.564082                0.126385           7.564082            1       True         12\n",
      "Number of models trained: 14\n",
      "Types of models trained:\n",
      "{'TabularNeuralNetModel', 'LGBModel', 'XGBoostModel', 'XTModel', 'KNNModel', 'CatBoostModel', 'WeightedEnsembleModel', 'NNFastAiTabularModel', 'RFModel'}\n",
      "Bagging used: False \n",
      "Multi-layer stack-ensembling used: False \n",
      "Feature Metadata (Processed):\n",
      "(raw dtype, special dtypes):\n",
      "('float', []) : 22 | ['fea_0', 'fea_1', 'fea_2', 'fea_3', 'fea_4', ...]\n",
      "('int', [])   :  1 | ['Unnamed: 0']\n",
      "Plot summary of models saved to file: /content/drive/Shareddrives/xucc1993.HK(CRN.NGO)/PHM_09/PHM 2009 data challenge(齿轮箱数据与网址)/PHM_Society_2009_Competition_Expanded_txt/Modeling/AutoML-AutoDL/agModels-predictClass/SummaryOfModels.html\n",
      "*** End of fit() summary ***\n"
     ]
    }
   ],
   "source": [
    "!python3 run.py\n",
    "# 该run.py文件内容即为下一个单元格的代码，只因为Colab的容器管理问题无法在单元格运行，因此以.py文件的形式执行"
   ]
  },
  {
   "cell_type": "code",
   "execution_count": null,
   "metadata": {
    "id": "mI6vpVKqdRdl"
   },
   "outputs": [],
   "source": [
    "from autogluon.tabular import TabularDataset, TabularPredictor\n",
    "\n",
    "path =  '/content/drive/Shareddrives/xucc1993.HK(CRN.NGO)/PHM_09/PHM 2009 data challenge(齿轮箱数据与网址)/PHM_Society_2009_Competition_Expanded_txt'\n",
    "group_name = 'helical'\n",
    "\n",
    "data_train_path = path + '/Data' + \"/Catch22_Features/catch22_Features_labels_\"+group_name+'.csv'\n",
    "\n",
    "model_save_path = path + '/Modeling/AutoML-AutoDL/agModels-predictClass'\n",
    " \n",
    "data_train = TabularDataset(data_train_path)\n",
    " \n",
    "label = 'label'\n",
    " \n",
    "predictor = TabularPredictor(label=label, path=model_save_path).fit(data_train)\n",
    " \n",
    "results = predictor.fit_summary()"
   ]
  },
  {
   "cell_type": "markdown",
   "metadata": {
    "id": "JSdj8mjHuoNH"
   },
   "source": [
    "## 加载序列数据(连续)"
   ]
  },
  {
   "cell_type": "code",
   "execution_count": null,
   "metadata": {
    "id": "UTL1TLAg1Ez0"
   },
   "outputs": [],
   "source": [
    "from sklearn.model_selection import train_test_split\n",
    "import numpy as np\n",
    "import pandas as pd\n",
    "\n",
    "for group_name in ['helical']:  # ,'spur'\n",
    "  print(\"--------------------------- {} ---------------------------\".format(group_name))\n",
    "  data_sub_series = np.load(path_Data +'/Sub_Series/'+ group_name + \"_features_sub_series.npy\", allow_pickle=True)\n",
    "  label_sub_series = np.squeeze(np.load(path_Data +'/Sub_Series/'+ group_name + \"_labels.npy\")).reshape(-1,1)\n",
    "  # label_structure = np.array([i-1 for i in list(label_sub_series)])\n",
    "\n",
    "  # data__sub_series = pd.DataFrame(data_sub_series)\n",
    "  # label_sub_series = pd.DataFrame(label_sub_series)\n",
    "\n",
    "  print(data_sub_series.shape)\n",
    "  print(label_sub_series.shape)\n",
    "  X_train, X_val, y_train, y_val = train_test_split(data_sub_series, label_sub_series, random_state=2021)\n",
    "  print(type(X_train),X_train.shape)\n",
    "  print(type(X_val),X_val.shape)\n",
    "  print(type(y_train),y_train.shape)\n",
    "  print(type(y_val),y_val.shape)\n"
   ]
  },
  {
   "cell_type": "code",
   "execution_count": 14,
   "metadata": {
    "colab": {
     "base_uri": "https://localhost:8080/"
    },
    "executionInfo": {
     "elapsed": 1825,
     "status": "ok",
     "timestamp": 1623249394893,
     "user": {
      "displayName": "Chuanchao Xu",
      "photoUrl": "",
      "userId": "08016207472332924278"
     },
     "user_tz": -480
    },
    "id": "TrEmoIM6Mhwh",
    "outputId": "5d7ebcd7-10a5-4201-88ed-2a4e47027aee"
   },
   "outputs": [
    {
     "name": "stdout",
     "output_type": "stream",
     "text": [
      "(870, 1024, 1)\n"
     ]
    }
   ],
   "source": [
    "temp = X_train[:,:,2].reshape(X_train.shape[0],X_train.shape[1],1)\n",
    "print(temp.shape)"
   ]
  },
  {
   "cell_type": "markdown",
   "metadata": {
    "id": "-vkQ-yhBoWNM"
   },
   "source": [
    "## LSTM"
   ]
  },
  {
   "cell_type": "code",
   "execution_count": 8,
   "metadata": {
    "colab": {
     "base_uri": "https://localhost:8080/"
    },
    "collapsed": true,
    "executionInfo": {
     "elapsed": 370714,
     "status": "ok",
     "timestamp": 1623248224074,
     "user": {
      "displayName": "Chuanchao Xu",
      "photoUrl": "",
      "userId": "08016207472332924278"
     },
     "user_tz": -480
    },
    "id": "0OCZSehgnRZ-",
    "outputId": "7e82edbe-01e5-4cd8-836b-0dffbc436884"
   },
   "outputs": [
    {
     "name": "stdout",
     "output_type": "stream",
     "text": [
      "Epoch 1/50\n",
      "826/826 [==============================] - 10s 9ms/step - loss: nan - accuracy: 0.0000e+00 - val_loss: nan - val_accuracy: 0.0000e+00\n",
      "Epoch 2/50\n",
      "826/826 [==============================] - 7s 9ms/step - loss: nan - accuracy: 0.0000e+00 - val_loss: nan - val_accuracy: 0.0000e+00\n",
      "Epoch 3/50\n",
      "826/826 [==============================] - 7s 9ms/step - loss: nan - accuracy: 0.0000e+00 - val_loss: nan - val_accuracy: 0.0000e+00\n",
      "Epoch 4/50\n",
      "826/826 [==============================] - 7s 9ms/step - loss: nan - accuracy: 0.0000e+00 - val_loss: nan - val_accuracy: 0.0000e+00\n",
      "Epoch 5/50\n",
      "826/826 [==============================] - 7s 9ms/step - loss: nan - accuracy: 0.0000e+00 - val_loss: nan - val_accuracy: 0.0000e+00\n",
      "Epoch 6/50\n",
      "826/826 [==============================] - 7s 9ms/step - loss: nan - accuracy: 0.0000e+00 - val_loss: nan - val_accuracy: 0.0000e+00\n",
      "Epoch 7/50\n",
      "826/826 [==============================] - 7s 9ms/step - loss: nan - accuracy: 0.0000e+00 - val_loss: nan - val_accuracy: 0.0000e+00\n",
      "Epoch 8/50\n",
      "826/826 [==============================] - 7s 9ms/step - loss: nan - accuracy: 0.0000e+00 - val_loss: nan - val_accuracy: 0.0000e+00\n",
      "Epoch 9/50\n",
      "826/826 [==============================] - 7s 9ms/step - loss: nan - accuracy: 0.0000e+00 - val_loss: nan - val_accuracy: 0.0000e+00\n",
      "Epoch 10/50\n",
      "826/826 [==============================] - 7s 9ms/step - loss: nan - accuracy: 0.0000e+00 - val_loss: nan - val_accuracy: 0.0000e+00\n",
      "Epoch 11/50\n",
      "826/826 [==============================] - 7s 9ms/step - loss: nan - accuracy: 0.0000e+00 - val_loss: nan - val_accuracy: 0.0000e+00\n",
      "Epoch 12/50\n",
      "826/826 [==============================] - 7s 9ms/step - loss: nan - accuracy: 0.0000e+00 - val_loss: nan - val_accuracy: 0.0000e+00\n",
      "Epoch 13/50\n",
      "826/826 [==============================] - 7s 9ms/step - loss: nan - accuracy: 0.0000e+00 - val_loss: nan - val_accuracy: 0.0000e+00\n",
      "Epoch 14/50\n",
      "826/826 [==============================] - 7s 9ms/step - loss: nan - accuracy: 0.0000e+00 - val_loss: nan - val_accuracy: 0.0000e+00\n",
      "Epoch 15/50\n",
      "826/826 [==============================] - 7s 9ms/step - loss: nan - accuracy: 0.0000e+00 - val_loss: nan - val_accuracy: 0.0000e+00\n",
      "Epoch 16/50\n",
      "826/826 [==============================] - 7s 9ms/step - loss: nan - accuracy: 0.0000e+00 - val_loss: nan - val_accuracy: 0.0000e+00\n",
      "Epoch 17/50\n",
      "826/826 [==============================] - 7s 9ms/step - loss: nan - accuracy: 0.0000e+00 - val_loss: nan - val_accuracy: 0.0000e+00\n",
      "Epoch 18/50\n",
      "826/826 [==============================] - 7s 9ms/step - loss: nan - accuracy: 0.0000e+00 - val_loss: nan - val_accuracy: 0.0000e+00\n",
      "Epoch 19/50\n",
      "826/826 [==============================] - 7s 9ms/step - loss: nan - accuracy: 0.0000e+00 - val_loss: nan - val_accuracy: 0.0000e+00\n",
      "Epoch 20/50\n",
      "826/826 [==============================] - 7s 9ms/step - loss: nan - accuracy: 0.0000e+00 - val_loss: nan - val_accuracy: 0.0000e+00\n",
      "Epoch 21/50\n",
      "826/826 [==============================] - 7s 9ms/step - loss: nan - accuracy: 0.0000e+00 - val_loss: nan - val_accuracy: 0.0000e+00\n",
      "Epoch 22/50\n",
      "826/826 [==============================] - 7s 9ms/step - loss: nan - accuracy: 0.0000e+00 - val_loss: nan - val_accuracy: 0.0000e+00\n",
      "Epoch 23/50\n",
      "826/826 [==============================] - 7s 9ms/step - loss: nan - accuracy: 0.0000e+00 - val_loss: nan - val_accuracy: 0.0000e+00\n",
      "Epoch 24/50\n",
      "826/826 [==============================] - 7s 9ms/step - loss: nan - accuracy: 0.0000e+00 - val_loss: nan - val_accuracy: 0.0000e+00\n",
      "Epoch 25/50\n",
      "826/826 [==============================] - 7s 9ms/step - loss: nan - accuracy: 0.0000e+00 - val_loss: nan - val_accuracy: 0.0000e+00\n",
      "Epoch 26/50\n",
      "826/826 [==============================] - 7s 9ms/step - loss: nan - accuracy: 0.0000e+00 - val_loss: nan - val_accuracy: 0.0000e+00\n",
      "Epoch 27/50\n",
      "826/826 [==============================] - 7s 9ms/step - loss: nan - accuracy: 0.0000e+00 - val_loss: nan - val_accuracy: 0.0000e+00\n",
      "Epoch 28/50\n",
      "826/826 [==============================] - 7s 9ms/step - loss: nan - accuracy: 0.0000e+00 - val_loss: nan - val_accuracy: 0.0000e+00\n",
      "Epoch 29/50\n",
      "826/826 [==============================] - 7s 9ms/step - loss: nan - accuracy: 0.0000e+00 - val_loss: nan - val_accuracy: 0.0000e+00\n",
      "Epoch 30/50\n",
      "826/826 [==============================] - 7s 9ms/step - loss: nan - accuracy: 0.0000e+00 - val_loss: nan - val_accuracy: 0.0000e+00\n",
      "Epoch 31/50\n",
      "826/826 [==============================] - 7s 9ms/step - loss: nan - accuracy: 0.0000e+00 - val_loss: nan - val_accuracy: 0.0000e+00\n",
      "Epoch 32/50\n",
      "826/826 [==============================] - 7s 9ms/step - loss: nan - accuracy: 0.0000e+00 - val_loss: nan - val_accuracy: 0.0000e+00\n",
      "Epoch 33/50\n",
      "826/826 [==============================] - 7s 9ms/step - loss: nan - accuracy: 0.0000e+00 - val_loss: nan - val_accuracy: 0.0000e+00\n",
      "Epoch 34/50\n",
      "826/826 [==============================] - 7s 9ms/step - loss: nan - accuracy: 0.0000e+00 - val_loss: nan - val_accuracy: 0.0000e+00\n",
      "Epoch 35/50\n",
      "826/826 [==============================] - 7s 9ms/step - loss: nan - accuracy: 0.0000e+00 - val_loss: nan - val_accuracy: 0.0000e+00\n",
      "Epoch 36/50\n",
      "826/826 [==============================] - 7s 9ms/step - loss: nan - accuracy: 0.0000e+00 - val_loss: nan - val_accuracy: 0.0000e+00\n",
      "Epoch 37/50\n",
      "826/826 [==============================] - 7s 9ms/step - loss: nan - accuracy: 0.0000e+00 - val_loss: nan - val_accuracy: 0.0000e+00\n",
      "Epoch 38/50\n",
      "826/826 [==============================] - 7s 9ms/step - loss: nan - accuracy: 0.0000e+00 - val_loss: nan - val_accuracy: 0.0000e+00\n",
      "Epoch 39/50\n",
      "826/826 [==============================] - 7s 9ms/step - loss: nan - accuracy: 0.0000e+00 - val_loss: nan - val_accuracy: 0.0000e+00\n",
      "Epoch 40/50\n",
      "826/826 [==============================] - 7s 9ms/step - loss: nan - accuracy: 0.0000e+00 - val_loss: nan - val_accuracy: 0.0000e+00\n",
      "Epoch 41/50\n",
      "826/826 [==============================] - 7s 9ms/step - loss: nan - accuracy: 0.0000e+00 - val_loss: nan - val_accuracy: 0.0000e+00\n",
      "Epoch 42/50\n",
      "826/826 [==============================] - 7s 9ms/step - loss: nan - accuracy: 0.0000e+00 - val_loss: nan - val_accuracy: 0.0000e+00\n",
      "Epoch 43/50\n",
      "826/826 [==============================] - 7s 9ms/step - loss: nan - accuracy: 0.0000e+00 - val_loss: nan - val_accuracy: 0.0000e+00\n",
      "Epoch 44/50\n",
      "826/826 [==============================] - 7s 9ms/step - loss: nan - accuracy: 0.0000e+00 - val_loss: nan - val_accuracy: 0.0000e+00\n",
      "Epoch 45/50\n",
      "826/826 [==============================] - 7s 9ms/step - loss: nan - accuracy: 0.0000e+00 - val_loss: nan - val_accuracy: 0.0000e+00\n",
      "Epoch 46/50\n",
      "826/826 [==============================] - 7s 9ms/step - loss: nan - accuracy: 0.0000e+00 - val_loss: nan - val_accuracy: 0.0000e+00\n",
      "Epoch 47/50\n",
      "826/826 [==============================] - 7s 9ms/step - loss: nan - accuracy: 0.0000e+00 - val_loss: nan - val_accuracy: 0.0000e+00\n",
      "Epoch 48/50\n",
      "826/826 [==============================] - 7s 9ms/step - loss: nan - accuracy: 0.0000e+00 - val_loss: nan - val_accuracy: 0.0000e+00\n",
      "Epoch 49/50\n",
      "826/826 [==============================] - 7s 9ms/step - loss: nan - accuracy: 0.0000e+00 - val_loss: nan - val_accuracy: 0.0000e+00\n",
      "Epoch 50/50\n",
      "826/826 [==============================] - 7s 9ms/step - loss: nan - accuracy: 0.0000e+00 - val_loss: nan - val_accuracy: 0.0000e+00\n"
     ]
    }
   ],
   "source": [
    "from keras.models import Sequential\n",
    "from keras.layers import Dense, Dropout, BatchNormalization\n",
    "from keras.layers import Embedding\n",
    "from keras.layers import LSTM\n",
    "from tensorflow.compat.v1.keras.layers import CuDNNLSTM\n",
    "from sklearn.preprocessing import OneHotEncoder\n",
    "import keras\n",
    "\n",
    "model = Sequential()\n",
    "model.add(CuDNNLSTM(512, input_shape=(X_train.shape[1], X_train.shape[2]), kernel_regularizer=keras.regularizers.l2(0.01)))  #  return_sequences=True\n",
    "model.add(BatchNormalization())\n",
    "# model.add(CuDNNLSTM(64, return_sequences=True))\n",
    "# model.add(BatchNormalization())\n",
    "# model.add(CuDNNLSTM(32))\n",
    "# model.add(BatchNormalization())\n",
    "# model.add(Dropout(0.2))\n",
    "model.add(Dense(6, activation='softmax'))\n",
    "\n",
    "# optimizer = keras.optimizers.Adam(lr=1e-3, beta_1=0.9, beta_2=0.99, epsilon=1e-08, decay=0.0)\n",
    "model.compile(loss='sparse_categorical_crossentropy', optimizer='Adam', metrics=['accuracy'])\n",
    "history = model.fit(X_train, y_train, epochs=50, batch_size=1,  validation_split =0.05)\n",
    "# model.save('/content/drive/MyDrive/CLF_of_ECG_signals/Result_Submission/Model/LSTM_ECG_0423_2.h5')\n"
   ]
  },
  {
   "cell_type": "markdown",
   "metadata": {
    "id": "9wH-siwj6ACs"
   },
   "source": [
    "## CNN_1D"
   ]
  },
  {
   "cell_type": "code",
   "execution_count": null,
   "metadata": {
    "id": "9E5IWoiEMS18"
   },
   "outputs": [],
   "source": []
  },
  {
   "cell_type": "code",
   "execution_count": 18,
   "metadata": {
    "colab": {
     "base_uri": "https://localhost:8080/"
    },
    "executionInfo": {
     "elapsed": 25870,
     "status": "ok",
     "timestamp": 1623250230575,
     "user": {
      "displayName": "Chuanchao Xu",
      "photoUrl": "",
      "userId": "08016207472332924278"
     },
     "user_tz": -480
    },
    "id": "i9YYSCcp7NLT",
    "outputId": "7f63954f-b595-4ffc-bef3-4617b5b2bd10"
   },
   "outputs": [
    {
     "name": "stdout",
     "output_type": "stream",
     "text": [
      "Epoch 1/10\n",
      "9/9 [==============================] - 20s 201ms/step - loss: nan - accuracy: 0.0326 - val_loss: nan - val_accuracy: 0.0000e+00\n",
      "Epoch 2/10\n",
      "9/9 [==============================] - 1s 63ms/step - loss: nan - accuracy: 0.0000e+00 - val_loss: nan - val_accuracy: 0.0000e+00\n",
      "Epoch 3/10\n",
      "9/9 [==============================] - 1s 63ms/step - loss: nan - accuracy: 0.0000e+00 - val_loss: nan - val_accuracy: 0.0000e+00\n",
      "Epoch 4/10\n",
      "9/9 [==============================] - 1s 63ms/step - loss: nan - accuracy: 0.0000e+00 - val_loss: nan - val_accuracy: 0.0000e+00\n",
      "Epoch 5/10\n",
      "9/9 [==============================] - 1s 63ms/step - loss: nan - accuracy: 0.0000e+00 - val_loss: nan - val_accuracy: 0.0000e+00\n",
      "Epoch 6/10\n",
      "9/9 [==============================] - 1s 64ms/step - loss: nan - accuracy: 0.0000e+00 - val_loss: nan - val_accuracy: 0.0000e+00\n",
      "Epoch 7/10\n",
      "9/9 [==============================] - 1s 63ms/step - loss: nan - accuracy: 0.0000e+00 - val_loss: nan - val_accuracy: 0.0000e+00\n",
      "Epoch 8/10\n",
      "9/9 [==============================] - 1s 63ms/step - loss: nan - accuracy: 0.0000e+00 - val_loss: nan - val_accuracy: 0.0000e+00\n",
      "Epoch 9/10\n",
      "9/9 [==============================] - 1s 63ms/step - loss: nan - accuracy: 0.0000e+00 - val_loss: nan - val_accuracy: 0.0000e+00\n",
      "Epoch 10/10\n",
      "9/9 [==============================] - 1s 63ms/step - loss: nan - accuracy: 0.0000e+00 - val_loss: nan - val_accuracy: 0.0000e+00\n"
     ]
    }
   ],
   "source": [
    "#%tensorflow_version 1.x   # 使用1.x版本的TF\n",
    " \n",
    "# 用CNN做序列特征提取\n",
    "import keras\n",
    "from scipy.io import loadmat\n",
    "import matplotlib.pyplot as plt \n",
    "import glob\n",
    "import numpy as np\n",
    "import pandas as pd\n",
    "import math\n",
    "import os\n",
    "import keras\n",
    "from keras.layers import *\n",
    "from keras.models import *\n",
    "from keras.objectives import *\n",
    "from sklearn.preprocessing import OneHotEncoder\n",
    " \n",
    " \n",
    "\"\"\"GPU设置为按需增长\"\"\"\n",
    "import os\n",
    "import tensorflow.compat.v1 as tf\n",
    "# from tensorflow.compat.v1 import ConfigProto\n",
    "from tensorflow.compat.v1.keras.backend import set_session\n",
    " \n",
    "os.environ[\"CUDA_VISIBLE_DEVICES\"] = \"0\" #有多个GPU时可以指定只使用第几号GPU\n",
    "config = tf.ConfigProto()\n",
    "config.allow_soft_placement=True #允许动态放置张量和操作符\n",
    "config.gpu_options.per_process_gpu_memory_fraction = 0.4 #最多使用40%GPU内存\n",
    "config.gpu_options.allow_growth=True   #初始化时不全部占满GPU显存, 按需分配 \n",
    "sess = tf.Session(config = config)\n",
    "set_session(sess)\n",
    " \n",
    "from keras import backend as K\n",
    " \n",
    " \n",
    "TIME_PERIODS = 1024\n",
    "num_sensors = 1\n",
    "def build_model(input_shape=(TIME_PERIODS,num_sensors),num_classes=6):\n",
    "    model = Sequential()\n",
    "    # model.add(Reshape((TIME_PERIODS, num_sensors), input_shape=input_shape))\n",
    "    model.add(Conv1D(64, 100, strides=1, activation='relu',input_shape=input_shape))\n",
    "    model.add(BatchNormalization())\n",
    "    model.add(Conv1D(64, 100, strides=1, activation='relu',padding=\"same\"))     \n",
    "    model.add(BatchNormalization())\n",
    "    model.add(Conv1D(64, 100, strides=1, activation='relu',padding=\"same\"))     \n",
    "    model.add(BatchNormalization())\n",
    "    model.add(MaxPooling1D(2)) \n",
    "\n",
    "    model.add(Conv1D(128, 60, strides=1, activation='relu',input_shape=input_shape)) \n",
    "    model.add(BatchNormalization())\n",
    "    model.add(Conv1D(128, 60, strides=1, activation='relu',padding=\"same\"))     \n",
    "    model.add(BatchNormalization())\n",
    "    model.add(Conv1D(128, 60, strides=1, activation='relu',padding=\"same\"))     \n",
    "    model.add(BatchNormalization())\n",
    "    model.add(MaxPooling1D(2))   \n",
    "\n",
    "    model.add(Conv1D(256, 3,strides=1, activation='relu',padding=\"same\"))     \n",
    "    model.add(BatchNormalization())\n",
    "    model.add(Conv1D(256, 3,strides=1, activation='relu',padding=\"same\"))     \n",
    "    model.add(BatchNormalization())\n",
    "    model.add(Conv1D(256, 3,strides=1, activation='relu',padding=\"same\"))     \n",
    "    model.add(BatchNormalization())\n",
    "    model.add(MaxPooling1D(2))    \n",
    "\n",
    "    model.add(GlobalAveragePooling1D())                      \n",
    "    model.add(Dropout(0.3))\n",
    "    model.add(Dense(num_classes, activation='softmax'))           \n",
    "    return(model)\n",
    " \n",
    "K.clear_session()\n",
    " \n",
    "model_CNN = build_model(input_shape=(TIME_PERIODS,num_sensors),num_classes=6)\n",
    "callback = tf.keras.callbacks.EarlyStopping(monitor='loss', patience=200)\n",
    "# lr_schedule = keras.optimizers.schedules.ExponentialDecay(initial_learning_rate=1e-4, decay_steps=50, decay_rate=0.9)\n",
    "# optimizer = keras.optimizers.Adam(learning_rate=lr_schedule)\n",
    "model_CNN.compile(loss='sparse_categorical_crossentropy', optimizer='adam', metrics=['accuracy'])\n",
    "\n",
    "X_train = X_train[:,:,2].reshape(X_train.shape[0],X_train.shape[1],1)   # 选第三列数据进行卷积\n",
    "\n",
    "history = model_CNN.fit(X_train, y_train, epochs=100, batch_size=100, \\\n",
    "             validation_split =0.05, callbacks= [callback] )\n",
    "# model_CNN.save('/content/drive/MyDrive/CLF_of_ECG_signals/Result_Submission/Model/CNN_ECG_0501.h5')"
   ]
  },
  {
   "cell_type": "markdown",
   "metadata": {
    "id": "SX4FRYPo3bSD"
   },
   "source": [
    "# 额外工作"
   ]
  },
  {
   "cell_type": "markdown",
   "metadata": {
    "id": "a5lULLodR9ap"
   },
   "source": [
    "## 安装依赖包"
   ]
  },
  {
   "cell_type": "code",
   "execution_count": 91,
   "metadata": {
    "colab": {
     "base_uri": "https://localhost:8080/"
    },
    "executionInfo": {
     "elapsed": 3101,
     "status": "ok",
     "timestamp": 1623322252487,
     "user": {
      "displayName": "Chuanchao Xu",
      "photoUrl": "",
      "userId": "08016207472332924278"
     },
     "user_tz": -480
    },
    "id": "b2RuocoMSBFQ",
    "outputId": "ed9545b9-f2d3-46ab-bc49-495582a9d99d"
   },
   "outputs": [
    {
     "name": "stdout",
     "output_type": "stream",
     "text": [
      "Requirement already up-to-date: dask in /usr/local/lib/python3.7/dist-packages (2021.6.0)\n",
      "Requirement already satisfied, skipping upgrade: pyyaml in /usr/local/lib/python3.7/dist-packages (from dask) (3.13)\n",
      "Requirement already satisfied, skipping upgrade: partd>=0.3.10 in /usr/local/lib/python3.7/dist-packages (from dask) (1.2.0)\n",
      "Requirement already satisfied, skipping upgrade: toolz>=0.8.2 in /usr/local/lib/python3.7/dist-packages (from dask) (0.11.1)\n",
      "Requirement already satisfied, skipping upgrade: fsspec>=0.6.0 in /usr/local/lib/python3.7/dist-packages (from dask) (2021.6.0)\n",
      "Requirement already satisfied, skipping upgrade: cloudpickle>=1.1.1 in /usr/local/lib/python3.7/dist-packages (from dask) (1.6.0)\n",
      "Requirement already satisfied, skipping upgrade: locket in /usr/local/lib/python3.7/dist-packages (from partd>=0.3.10->dask) (0.2.1)\n"
     ]
    }
   ],
   "source": [
    "# !pip3 install pyEMD\n",
    "# !pip install EMD-signal\n",
    "# import pyemd\n",
    "# import EMD-signal\n",
    "!pip3 install dask --upgrade\n",
    "# !sudo pip3 install setuptools wheel\n",
    "# !sudo pip3 install -U \"mxnet<2.0.0\"\n",
    "# !sudo pip3 install autogluon\n"
   ]
  },
  {
   "cell_type": "markdown",
   "metadata": {
    "id": "2BHbQTryGYny"
   },
   "source": [
    "## 从tmp网盘加载文件并查看"
   ]
  },
  {
   "cell_type": "code",
   "execution_count": null,
   "metadata": {
    "id": "VBjbaGTbhW9Z"
   },
   "outputs": [],
   "source": [
    "# 从tmp网盘下载文件进行数据查看（限本地jupyter notebook）\n",
    "\n",
    "import csv\n",
    "import pandas as pd\n",
    "from io import StringIO\n",
    "from urllib import request\n",
    "import pandas as pd\n",
    "\n",
    "# 基于tmp.link分享链接直接加载文件\n",
    "def get_data_from_tmp_web(url):\n",
    "  file_mark = url[-13:]\n",
    "  base_url = 'https://tmplinkapp-connect.vx-cdn.com/connect-tz6rhexhflovcrsiq7w5-'\n",
    "  download_link = base_url + file_mark\n",
    "\n",
    "  s = request.urlopen(download_link).read().decode('utf8')  # 1 读取数据串\n",
    "\n",
    "  dfile = StringIO(s)      # 2 将字符串转换为 StringIO对象，使其具有文件属性 \n",
    "  creader = csv.reader(dfile)  # 3 将流 转换为可迭代的 reader（csv row）\n",
    "  dlists=[rw for rw in creader]  # 4 其他转换、操作\n",
    "\n",
    "  temp = []\n",
    "  for i in range(len(dlists)):\n",
    "    row_int = [float(j) for j in dlists[i][0].split( )]\n",
    "    temp.append(row_int)\n",
    "\n",
    "  df = pd.DataFrame(temp, columns=['voltage_input', 'voltage_output', 'value_tachometer'])\n",
    "  # print(df.head())\n",
    "\n",
    "  return df\n",
    "\n",
    "df = get_data_from_tmp_web('http://tmp.link/f/60b4e9c52e247')\n",
    "print(df.head())\n"
   ]
  },
  {
   "cell_type": "markdown",
   "metadata": {
    "id": "Nq4T4DpLLdKi"
   },
   "source": [
    "## 解决plt.show()不能显示图片的问题"
   ]
  },
  {
   "cell_type": "code",
   "execution_count": null,
   "metadata": {
    "colab": {
     "base_uri": "https://localhost:8080/"
    },
    "executionInfo": {
     "elapsed": 8229,
     "status": "ok",
     "timestamp": 1622527621311,
     "user": {
      "displayName": "Chuanchao Xu",
      "photoUrl": "",
      "userId": "08016207472332924278"
     },
     "user_tz": -480
    },
    "id": "Wg1D7l5w3om-",
    "outputId": "ff294218-bdd0-4067-a7ee-9f9af4732a0c"
   },
   "outputs": [
    {
     "name": "stdout",
     "output_type": "stream",
     "text": [
      "Reading package lists... Done\n",
      "Building dependency tree       \n",
      "Reading state information... Done\n",
      "tk-dev is already the newest version (8.6.0+9).\n",
      "The following package was automatically installed and is no longer required:\n",
      "  libnvidia-common-460\n",
      "Use 'sudo apt autoremove' to remove it.\n",
      "0 upgraded, 0 newly installed, 0 to remove and 34 not upgraded.\n",
      "Uninstalling matplotlib-3.4.2:\n",
      "  Successfully uninstalled matplotlib-3.4.2\n",
      "Collecting matplotlib\n",
      "\u001b[?25l  Downloading https://files.pythonhosted.org/packages/24/33/5568d443ba438d95d4db635dd69958056f087e57e1026bee56f959d53f9d/matplotlib-3.4.2-cp37-cp37m-manylinux1_x86_64.whl (10.3MB)\n",
      "\u001b[K     |████████████████████████████████| 10.3MB 12.2MB/s \n",
      "\u001b[?25hRequirement already satisfied, skipping upgrade: kiwisolver>=1.0.1 in /usr/local/lib/python3.7/dist-packages (from matplotlib) (1.3.1)\n",
      "Requirement already satisfied, skipping upgrade: cycler>=0.10 in /usr/local/lib/python3.7/dist-packages (from matplotlib) (0.10.0)\n",
      "Requirement already satisfied, skipping upgrade: numpy>=1.16 in /usr/local/lib/python3.7/dist-packages (from matplotlib) (1.19.5)\n",
      "Requirement already satisfied, skipping upgrade: pyparsing>=2.2.1 in /usr/local/lib/python3.7/dist-packages (from matplotlib) (2.4.7)\n",
      "Requirement already satisfied, skipping upgrade: pillow>=6.2.0 in /usr/local/lib/python3.7/dist-packages (from matplotlib) (7.1.2)\n",
      "Requirement already satisfied, skipping upgrade: python-dateutil>=2.7 in /usr/local/lib/python3.7/dist-packages (from matplotlib) (2.8.1)\n",
      "Requirement already satisfied, skipping upgrade: six in /usr/local/lib/python3.7/dist-packages (from cycler>=0.10->matplotlib) (1.15.0)\n",
      "\u001b[31mERROR: albumentations 0.1.12 has requirement imgaug<0.2.7,>=0.2.5, but you'll have imgaug 0.2.9 which is incompatible.\u001b[0m\n",
      "Installing collected packages: matplotlib\n",
      "Successfully installed matplotlib-3.4.2\n"
     ]
    }
   ],
   "source": [
    "# 解决plt.show()不能显示图片的问题\n",
    "!sudo apt-get install tk-dev\n",
    "!pip uninstall -y matplotlib\n",
    "!pip --no-cache-dir install -U matplotlib\n",
    "\n"
   ]
  }
 ],
 "metadata": {
  "accelerator": "GPU",
  "colab": {
   "collapsed_sections": [],
   "machine_shape": "hm",
   "name": "PHM_2009.ipynb",
   "provenance": [],
   "toc_visible": true
  },
  "kernelspec": {
   "display_name": "Python 3",
   "language": "python",
   "name": "python3"
  },
  "language_info": {
   "codemirror_mode": {
    "name": "ipython",
    "version": 3
   },
   "file_extension": ".py",
   "mimetype": "text/x-python",
   "name": "python",
   "nbconvert_exporter": "python",
   "pygments_lexer": "ipython3",
   "version": "3.7.3"
  },
  "toc": {
   "base_numbering": 1,
   "nav_menu": {},
   "number_sections": true,
   "sideBar": true,
   "skip_h1_title": false,
   "title_cell": "Table of Contents",
   "title_sidebar": "Contents",
   "toc_cell": false,
   "toc_position": {
    "height": "calc(100% - 180px)",
    "left": "10px",
    "top": "150px",
    "width": "315.188px"
   },
   "toc_section_display": true,
   "toc_window_display": true
  },
  "varInspector": {
   "cols": {
    "lenName": 16,
    "lenType": 16,
    "lenVar": 40
   },
   "kernels_config": {
    "python": {
     "delete_cmd_postfix": "",
     "delete_cmd_prefix": "del ",
     "library": "var_list.py",
     "varRefreshCmd": "print(var_dic_list())"
    },
    "r": {
     "delete_cmd_postfix": ") ",
     "delete_cmd_prefix": "rm(",
     "library": "var_list.r",
     "varRefreshCmd": "cat(var_dic_list()) "
    }
   },
   "types_to_exclude": [
    "module",
    "function",
    "builtin_function_or_method",
    "instance",
    "_Feature"
   ],
   "window_display": false
  }
 },
 "nbformat": 4,
 "nbformat_minor": 1
}

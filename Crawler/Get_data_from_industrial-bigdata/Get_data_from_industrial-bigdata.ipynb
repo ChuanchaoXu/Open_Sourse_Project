{
 "cells": [
  {
   "cell_type": "markdown",
   "metadata": {
    "id": "kRK15HaulnEG"
   },
   "source": [
    "## 登录\n"
   ]
  },
  {
   "cell_type": "code",
   "execution_count": null,
   "metadata": {
    "id": "x9vreCNUlrzv"
   },
   "outputs": [],
   "source": [
    "url = 'http://www.industrial-bigdata.com:16080/datamap'\n",
    "\n",
    "import requests\n",
    "user = 'ChuanchaoXu'\n",
    "password = '******'\n",
    "# cookies_ = \"******\"\n",
    "response = requests.get(url=url)\n",
    "\n",
    "response.cookies[\"******\"]\n",
    "\n",
    "print(response)"
   ]
  },
  {
   "cell_type": "code",
   "execution_count": 25,
   "metadata": {
    "colab": {
     "base_uri": "https://localhost:8080/"
    },
    "executionInfo": {
     "elapsed": 1413,
     "status": "ok",
     "timestamp": 1620286871185,
     "user": {
      "displayName": "Chuanchao Xu",
      "photoUrl": "",
      "userId": "08016207472332924278"
     },
     "user_tz": -480
    },
    "id": "E9ETRHY6wiME",
    "outputId": "ecd0161c-3399-47fe-e622-da5022cfff82"
   },
   "outputs": [
    {
     "name": "stdout",
     "output_type": "stream",
     "text": [
      "<Response [405]>\n"
     ]
    }
   ],
   "source": [
    "import requests\n",
    "from lxml import html\n",
    "\n",
    "# 创建 session 对象。这个对象会保存所有的登录会话请求。\n",
    "session_requests = requests.session()\n",
    "\n",
    "# 提取在登录时所使用的 csrf 标记\n",
    "login_url = \"https://bitbucket.org/account/signin/?next=/\"\n",
    "result = session_requests.get(login_url)\n",
    " \n",
    "tree = html.fromstring(result.text)\n",
    "authenticity_token = list(set(tree.xpath(\"//input[@name='csrfmiddlewaretoken']/@value\")))[0]\n",
    "\n",
    "payload = {\n",
    "    \"username\": \"<你的用户名>\", \n",
    "    \"password\": \"<你的密码>\", \n",
    "    \"csrfmiddlewaretoken\": authenticity_token # 在源代码中，有一个名为 “csrfmiddlewaretoken” 的隐藏输入标签。\n",
    "}\n",
    "\n",
    "# 执行登录\n",
    "result = session_requests.post(\n",
    "    login_url, \n",
    "    data = payload, \n",
    "    headers = dict(referer=login_url)\n",
    ")\n",
    "\n",
    "\n",
    "# 已经登录成功了，然后从 bitbucket dashboard 页面上爬取内容。\n",
    "url = 'https://bitbucket.org/dashboard/overview'\n",
    "result = session_requests.get(\n",
    "    url, \n",
    "    headers = dict(referer = url)\n",
    ")\n",
    "\n",
    "\n",
    "# 测试爬取的内容\n",
    "tree = html.fromstring(result.content)\n",
    "bucket_elems = tree.findall(\".//span[@class='repo-name']/\")\n",
    "bucket_names = [bucket.text_content.replace(\"n\", \"\").strip() for bucket in bucket_elems]\n",
    " \n",
    "print(bucket_names)"
   ]
  },
  {
   "cell_type": "markdown",
   "metadata": {
    "id": "vTVGbIoGaiad"
   },
   "source": [
    "## 查看网页代码"
   ]
  },
  {
   "cell_type": "code",
   "execution_count": 31,
   "metadata": {
    "colab": {
     "base_uri": "https://localhost:8080/"
    },
    "executionInfo": {
     "elapsed": 1237,
     "status": "ok",
     "timestamp": 1620287565343,
     "user": {
      "displayName": "Chuanchao Xu",
      "photoUrl": "",
      "userId": "08016207472332924278"
     },
     "user_tz": -480
    },
    "id": "ELSRNyQ2Yr8j",
    "outputId": "90ebd21b-832c-43bc-eec8-1c8082563512"
   },
   "outputs": [
    {
     "name": "stdout",
     "output_type": "stream",
     "text": [
      "<!DOCTYPE html>\n",
      "<html lang=\"en\">\n",
      "\t<head>\n",
      "\t\t<title>工业大数据产业创新平台</title>\n",
      "\t\t<meta charset=\"utf-8\" />\n",
      "\t\t<meta\n",
      "\t\t\tname=\"viewport\"\n",
      "\t\t\tcontent=\"width=device-width, user-scalable=no, initial-scale=1.0, maximum-scale=1.0, minimum-scale=1.0\"\n",
      "\t\t/>\n",
      "\t\t<link\n",
      "\t\t\trel=\"stylesheet\"\n",
      "\t\t\thref=\"//at.alicdn.com/t/font_927676_htc2bdtg1vv.css\"\n",
      "\t\t/>\n",
      "\t\t<script>\n",
      "\t\t\t// prettier-ignore\n",
      "var externalEnvironment = '{\"dataHubHref\":\"http://www.industrial-bigdata.com:16080\"}'\n",
      "\t\t\twindow.__ENVIRONMENT__ = JSON.parse(externalEnvironment)\n",
      "\t\t</script>\n",
      "\t<link rel=\"shortcut icon\" href=\"/favicon.ico\"><link href=\"/1.0.0/index.css\" rel=\"stylesheet\"></head>\n",
      "\t<body class=\"theme-light\">\n",
      "\t\t<div id=\"app\"></div>\n",
      "\t<script type=\"text/javascript\" src=\"/vendor.min-1.0.5.js\"></script><script type=\"text/javascript\" src=\"/1.0.0/index.js\"></script></body>\n",
      "</html>\n",
      "\n"
     ]
    }
   ],
   "source": [
    "from bs4 import BeautifulSoup\n",
    "from urllib.request import urlopen\n",
    "\n",
    "# if has Chinese, apply decode()\n",
    "html = urlopen(\"http://www.industrial-bigdata.com/login\").read().decode('utf-8')\n",
    "print(html)\n",
    "\n"
   ]
  },
  {
   "cell_type": "code",
   "execution_count": null,
   "metadata": {
    "colab": {
     "base_uri": "https://localhost:8080/"
    },
    "executionInfo": {
     "elapsed": 1014,
     "status": "ok",
     "timestamp": 1620267554504,
     "user": {
      "displayName": "Chuanchao Xu",
      "photoUrl": "",
      "userId": "08016207472332924278"
     },
     "user_tz": -480
    },
    "id": "b9bsEH9DddGU",
    "outputId": "bb6a5fed-3528-4112-efae-7a0cb9256e75"
   },
   "outputs": [
    {
     "name": "stdout",
     "output_type": "stream",
     "text": [
      "<body>\n",
      "<div id=\"cyber-datahub\"></div>\n",
      "<script src=\"/vendor.min-1.0.5.js\" type=\"text/javascript\"></script><script src=\"/index.js?6c37bb2a20b58babbe36\" type=\"text/javascript\"></script></body>\n"
     ]
    }
   ],
   "source": [
    "soup = BeautifulSoup(html, features='lxml')\n",
    "print(soup.body)"
   ]
  },
  {
   "cell_type": "code",
   "execution_count": null,
   "metadata": {
    "id": "PgFWea0LYnYL"
   },
   "outputs": [],
   "source": [
    "href  = 'http://www.industrial-bigdata.com:16080/datahubmap/datamapApi/datasources/caict_zzlb@CyberDataHub(mysql)(rdbms_table)/tables/Aero_engine_life_prediction_download/datas/exports'\n"
   ]
  },
  {
   "cell_type": "code",
   "execution_count": null,
   "metadata": {
    "colab": {
     "base_uri": "https://localhost:8080/"
    },
    "executionInfo": {
     "elapsed": 4600,
     "status": "ok",
     "timestamp": 1620264664192,
     "user": {
      "displayName": "Chuanchao Xu",
      "photoUrl": "",
      "userId": "08016207472332924278"
     },
     "user_tz": -480
    },
    "id": "KGskl4e9RJsn",
    "outputId": "bb83c128-8c9f-45de-a97e-8d76c959ba11"
   },
   "outputs": [
    {
     "name": "stdout",
     "output_type": "stream",
     "text": [
      "<!DOCTYPE html>\n",
      "<html lang=\"en\"><head><link rel=\"shortcut icon\" href=\"/favicon.ico\"><link href=\"/index.css?6c37bb2a20b58babbe36\" rel=\"stylesheet\"></head>\n",
      "\t<head>\n",
      "\t\t<meta charset=\"utf-8\" />\n",
      "\t\t<meta\n",
      "\t\t\thttp-equiv=\"Cache-control\"\n",
      "\t\t\tcontent=\"no-cache, no-store, must-revalidate\"\n",
      "\t\t/>\n",
      "\t\t<meta http-equiv=\"Pragma\" content=\"no-cache\" />\n",
      "\t\t<meta\n",
      "\t\t\tname=\"viewport\"\n",
      "\t\t\tcontent=\"width=device-width, user-scalable=no, initial-scale=1.0, maximum-scale=1.0, minimum-scale=1.0\"\n",
      "\t\t/>\n",
      "\t\t<script>\n",
      "\t\t\t// 浏览器版本兼容监测\n",
      "\t\t\tfunction isCompatible() {\n",
      "\t\t\t\tconst agent = window.navigator.userAgent.toLowerCase()\n",
      "\t\t\t\tfunction version(REGSER) {\n",
      "\t\t\t\t\tconst arr = agent.match(REGSER)\n",
      "\t\t\t\t\tif (!arr) {\n",
      "\t\t\t\t\t\treturn 0\n",
      "\t\t\t\t\t}\n",
      "\t\t\t\t\treturn parseInt(agent.match(REGSER)[0].split('/')[1], 10)\n",
      "\t\t\t\t}\n",
      "\n",
      "\t\t\t\t// Edge 15+\n",
      "\t\t\t\tif (\n",
      "\t\t\t\t\tagent.indexOf('edge') > 0 &&\n",
      "\t\t\t\t\tversion(/edge\\/[\\d.]+/gi) >= 15\n",
      "\t\t\t\t) {\n",
      "\t\t\t\t\treturn true\n",
      "\t\t\t\t}\n",
      "\t\t\t\t// firefox 61+\n",
      "\t\t\t\tif (\n",
      "\t\t\t\t\tagent.indexOf('firefox') > 0 &&\n",
      "\t\t\t\t\tversion(/firefox\\/[\\d.]+/gi) >= 61\n",
      "\t\t\t\t) {\n",
      "\t\t\t\t\treturn true\n",
      "\t\t\t\t}\n",
      "\n",
      "\t\t\t\t// Chrome 56+\n",
      "\t\t\t\tif (\n",
      "\t\t\t\t\tagent.indexOf('chrome') > 0 &&\n",
      "\t\t\t\t\tversion(/chrome\\/[\\d.]+/gi) >= 56\n",
      "\t\t\t\t) {\n",
      "\t\t\t\t\treturn true\n",
      "\t\t\t\t}\n",
      "\n",
      "\t\t\t\t// Safari 8.0+\n",
      "\t\t\t\tif (\n",
      "\t\t\t\t\tagent.indexOf('safari') > 0 &&\n",
      "\t\t\t\t\tagent.indexOf('chrome') < 0 &&\n",
      "\t\t\t\t\tversion(/version\\/[\\d.]+/gi) >= 8\n",
      "\t\t\t\t) {\n",
      "\t\t\t\t\treturn true\n",
      "\t\t\t\t}\n",
      "\t\t\t\treturn false\n",
      "\t\t\t}\n",
      "\n",
      "\t\t\tfunction upgrade() {\n",
      "\t\t\t\tconst platform = window.navigator.platform\n",
      "\t\t\t\tconst downloadUrl =\n",
      "\t\t\t\t\tplatform === 'Win32' || platform === 'Windows'\n",
      "\t\t\t\t\t\t? '/static/81.0.4044.122_chrome_installer.exe'\n",
      "\t\t\t\t\t\t: '/static/GoogleChrome-81.0.4044.122.dmg'\n",
      "\t\t\t\tif (!isCompatible()) {\n",
      "\t\t\t\t\tvar html = ''\n",
      "\t\t\t\t\thtml +=\n",
      "\t\t\t\t\t\t'<table style=\"position: absolute;top: 50%;left: 50%;margin-top: -243px;margin-left: -500px;width: 1000px;height: 486px;padding: 0;table-layout:fixed;vertical-align: middle;\">'\n",
      "\t\t\t\t\thtml += '<tbody>'\n",
      "\t\t\t\t\thtml += '<tr>'\n",
      "\t\t\t\t\thtml += '<td>'\n",
      "\t\t\t\t\thtml +=\n",
      "\t\t\t\t\t\t'<h2 style=\"font-size: 24px; font-weight: 400; margin-bottom: 24px;\">你的浏览器版本低</h2>'\n",
      "\t\t\t\t\thtml +=\n",
      "\t\t\t\t\t\t'<p style=\"font-size: 16px;\">检测到您在使用旧版或系统不支持的浏览器，<br />请升级您的浏览器。</p>'\n",
      "\t\t\t\t\thtml += '</td>'\n",
      "\t\t\t\t\thtml += '<td style=\"text-align:right;\">'\n",
      "\t\t\t\t\thtml +=\n",
      "\t\t\t\t\t\t'<img style=\"height: 100%;vertical-align: middle;border: 0;\" alt=\"image\" src=\"/static/browser-img.png\"/>'\n",
      "\t\t\t\t\thtml += '</td>'\n",
      "\t\t\t\t\thtml += '</tr>'\n",
      "\t\t\t\t\thtml += '</table>'\n",
      "\n",
      "\t\t\t\t\tdocument.body.parentNode.style.cssText += ';height: 100%;'\n",
      "\t\t\t\t\tdocument.body.style.cssText +=\n",
      "\t\t\t\t\t\t';overflow:hidden;height: 100%;min-width: 1000px;min-height: 486px;background-color: #f4f4f4;'\n",
      "\t\t\t\t\tdocument.body.innerHTML = html\n",
      "\n",
      "\t\t\t\t\tthrow Error('请升级浏览器')\n",
      "\t\t\t\t}\n",
      "\t\t\t}\n",
      "\n",
      "\t\t\twindow.onload = upgrade\n",
      "\t\t</script>\n",
      "\t\t<script>\n",
      "\t\t\t// prettier-ignore\n",
      "var externalEnvironment = '{\"ssoOrigin\":\"http://192.168.199.235:38092\",\"clientId\":\"mJrcghz5g6\",\"clientSecret\":\"VWT2I3wyo7sHkvKToNatuB2dQayLsG7P\",\"caictSso\":\"www.industrial-bigdata.com\"}'\n",
      "\t\t\twindow.__ENVIRONMENT__ = JSON.parse(externalEnvironment)\n",
      "\t\t</script>\n",
      "  <script>\n",
      "    window.__ENVIRONMENT__.version = '1.3.2'\n",
      "    window.__ENVIRONMENT__.branch = 'remotes/origin/test'\n",
      "    window.__ENVIRONMENT__.commit = '2239a08'\n",
      "  </script>\n",
      "\t<body>\n",
      "\t\t<div id=\"cyber-datahub\"></div>\n",
      "\t<script type=\"text/javascript\" src=\"/vendor.min-1.0.5.js\"></script><script type=\"text/javascript\" src=\"/index.js?6c37bb2a20b58babbe36\"></script></body>\n",
      "</html>\n",
      "\n"
     ]
    }
   ],
   "source": [
    "import requests\n",
    "import pandas as pd\n",
    "url = 'https://datatables.net/extensions/buttons/examples/html5/simple.html'\n",
    "df = pd.read_html(requests.get(url).text)[0]\n",
    "print(df)\n",
    "\n",
    "href  = 'http://www.industrial-bigdata.com:16080/datahubmap/datamapApi/datasources/caict_zzlb@CyberDataHub(mysql)(rdbms_table)/tables/Aero_engine_life_prediction_download/datas/exports'\n",
    "\n",
    "\n"
   ]
  }
 ],
 "metadata": {
  "colab": {
   "authorship_tag": "ABX9TyNA4Smt4ayjrVH2OdboaGdC",
   "name": "Get_data_from_industrial-bigdata.ipynb",
   "provenance": [],
   "toc_visible": true
  },
  "kernelspec": {
   "display_name": "Python 3",
   "language": "python",
   "name": "python3"
  },
  "language_info": {
   "codemirror_mode": {
    "name": "ipython",
    "version": 3
   },
   "file_extension": ".py",
   "mimetype": "text/x-python",
   "name": "python",
   "nbconvert_exporter": "python",
   "pygments_lexer": "ipython3",
   "version": "3.7.3"
  },
  "toc": {
   "base_numbering": 1,
   "nav_menu": {},
   "number_sections": true,
   "sideBar": true,
   "skip_h1_title": false,
   "title_cell": "Table of Contents",
   "title_sidebar": "Contents",
   "toc_cell": false,
   "toc_position": {},
   "toc_section_display": true,
   "toc_window_display": false
  },
  "varInspector": {
   "cols": {
    "lenName": 16,
    "lenType": 16,
    "lenVar": 40
   },
   "kernels_config": {
    "python": {
     "delete_cmd_postfix": "",
     "delete_cmd_prefix": "del ",
     "library": "var_list.py",
     "varRefreshCmd": "print(var_dic_list())"
    },
    "r": {
     "delete_cmd_postfix": ") ",
     "delete_cmd_prefix": "rm(",
     "library": "var_list.r",
     "varRefreshCmd": "cat(var_dic_list()) "
    }
   },
   "types_to_exclude": [
    "module",
    "function",
    "builtin_function_or_method",
    "instance",
    "_Feature"
   ],
   "window_display": false
  }
 },
 "nbformat": 4,
 "nbformat_minor": 1
}
